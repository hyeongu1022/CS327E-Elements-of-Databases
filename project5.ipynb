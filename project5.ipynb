{
 "cells": [
  {
   "cell_type": "markdown",
   "metadata": {},
   "source": [
    "# Project 5"
   ]
  },
  {
   "cell_type": "markdown",
   "metadata": {},
   "source": [
    "### Q1"
   ]
  },
  {
   "cell_type": "code",
   "execution_count": 1,
   "metadata": {},
   "outputs": [
    {
     "name": "stdout",
     "output_type": "stream",
     "text": [
      "309372\n"
     ]
    }
   ],
   "source": [
    "!mongo open_food --quiet --eval 'db.products.count()'"
   ]
  },
  {
   "cell_type": "markdown",
   "metadata": {},
   "source": [
    "### Q2"
   ]
  },
  {
   "cell_type": "code",
   "execution_count": 2,
   "metadata": {},
   "outputs": [
    {
     "name": "stdout",
     "output_type": "stream",
     "text": [
      "{ \"_id\" : \"0071720007105\", \"product_name\" : \"Tootsie Roll\" }\n"
     ]
    }
   ],
   "source": [
    "!mongo open_food --quiet --eval 'db.products.find({\"categories\" : \"Snacks, Sweet snacks, Confectioneries, Candies, Chews\"}, {\"product_name\":1}).pretty()'\n"
   ]
  },
  {
   "cell_type": "markdown",
   "metadata": {},
   "source": [
    "### Q3"
   ]
  },
  {
   "cell_type": "code",
   "execution_count": 3,
   "metadata": {},
   "outputs": [
    {
     "name": "stdout",
     "output_type": "stream",
     "text": [
      "{\n",
      "\t\"_id\" : \"0852909003299\",\n",
      "\t\"product_name\" : \"Almondmilk\",\n",
      "\t\"code\" : \"0852909003299\"\n",
      "}\n",
      "{\n",
      "\t\"_id\" : \"0840423102055\",\n",
      "\t\"code\" : \"0840423102055\",\n",
      "\t\"product_name\" : \"Garlic wine pasta with chicken meatballs with whole wheat rotini, white beans, and greens, cooked in avocado oil, and topped with parmesan and mozzarella, garlic wine pasta with chicken meatballs\"\n",
      "}\n"
     ]
    }
   ],
   "source": [
    "!mongo open_food --quiet --eval 'db.products.find({\"last_modified_t\" : {$gte: 1601856000}},{\"code\": 1, \"product_name\":1}).pretty()'\n"
   ]
  },
  {
   "cell_type": "markdown",
   "metadata": {},
   "source": [
    "### Q4"
   ]
  },
  {
   "cell_type": "code",
   "execution_count": 4,
   "metadata": {},
   "outputs": [
    {
     "name": "stdout",
     "output_type": "stream",
     "text": [
      "116\n"
     ]
    }
   ],
   "source": [
    "!mongo open_food --quiet --eval 'db.products.find( {packaging : \"Plastic\"} ).count()'"
   ]
  },
  {
   "cell_type": "markdown",
   "metadata": {},
   "source": [
    "### Q5"
   ]
  },
  {
   "cell_type": "code",
   "execution_count": 5,
   "metadata": {},
   "outputs": [
    {
     "name": "stdout",
     "output_type": "stream",
     "text": [
      "{\n",
      "\t\"_id\" : \"0099482455859\",\n",
      "\t\"creator\" : \"usda-ndb-import\",\n",
      "\t\"brands\" : \"365 Everyday Value,Whole Foods Market  Inc.\",\n",
      "\t\"code\" : \"0099482455859\",\n",
      "\t\"product_name\" : \"Whole Wheat Bread\"\n",
      "}\n"
     ]
    }
   ],
   "source": [
    "!mongo open_food --quiet --eval 'db.products.find({$and: [{\"manufacturing_places\": \"Austin, TX\"}, {\"stores\": \"Whole Foods\"}]}, {\"code\": 1, \"creator\": 1, \"product_name\": 1, \"brands\": 1}).pretty()'\n"
   ]
  },
  {
   "cell_type": "markdown",
   "metadata": {},
   "source": [
    "### Q6"
   ]
  },
  {
   "cell_type": "code",
   "execution_count": 6,
   "metadata": {},
   "outputs": [
    {
     "name": "stdout",
     "output_type": "stream",
     "text": [
      "{ \"_id\" : \"00515306\", \"product_name\" : \"\", \"creator\" : \"tacinte\", \"brands\" : \"Trader Joe's\", \"code\" : \"00515306\" }\n",
      "{ \"_id\" : \"00566346\", \"product_name\" : \"\", \"code\" : \"00566346\", \"creator\" : \"bredowmax\", \"brands\" : \"Trader Joe's\" }\n",
      "{ \"_id\" : \"00605649\", \"product_name\" : \"\", \"code\" : \"00605649\", \"brands\" : \"Trader Joe's\", \"creator\" : \"bredowmax\" }\n",
      "{ \"_id\" : \"00930154\", \"product_name\" : \"\", \"code\" : \"00930154\", \"brands\" : \"Trader Joe's\", \"creator\" : \"bredowmax\" }\n",
      "{ \"_id\" : \"00633543\", \"code\" : \"00633543\", \"brands\" : \"Trader Joe's\", \"creator\" : \"bredowmax\", \"product_name\" : \"\" }\n",
      "{ \"_id\" : \"00456838\", \"product_name\" : \"\", \"brands\" : \"Trader Joe's\", \"creator\" : \"tacinte\", \"code\" : \"00456838\" }\n",
      "{ \"_id\" : \"00430999\", \"creator\" : \"bredowmax\", \"brands\" : \"Trader Joe's\", \"code\" : \"00430999\", \"product_name\" : \"\" }\n"
     ]
    }
   ],
   "source": [
    "!mongo open_food --quiet --eval 'db.products.find({$and: [{\"brands\":\"Trader Joe\\x27s\"}, {\"product_name\":{$ne: null}}]}, {\"code\":1, \"creator\":1, \"product_name\":1, \"brands\":1}).sort({\"product_name\":1}).limit(7)'\n"
   ]
  },
  {
   "cell_type": "markdown",
   "metadata": {},
   "source": [
    "### Q7"
   ]
  },
  {
   "cell_type": "code",
   "execution_count": 7,
   "metadata": {},
   "outputs": [
    {
     "name": "stdout",
     "output_type": "stream",
     "text": [
      "{ \"_id\" : \"03444504\", \"brands\" : \"Reese's\", \"code\" : \"03444504\", \"product_name\" : \"Candy In A Crunchy Shell\" }\n",
      "{ \"_id\" : \"03445202\", \"brands\" : \"Reese's\", \"code\" : \"03445202\", \"product_name\" : \"Candy Pieces In Crunchy Shell\" }\n",
      "{ \"_id\" : \"0040000294801\", \"product_name\" : \"Chocolate candies\", \"code\" : \"0040000294801\", \"brands\" : \"M&M's\" }\n",
      "{ \"_id\" : \"0040000294764\", \"code\" : \"0040000294764\", \"brands\" : \"M&M's\", \"product_name\" : \"Chocolate candies, milk chocolate\" }\n",
      "{ \"_id\" : \"0034000451227\", \"product_name\" : \"Clusters\", \"code\" : \"0034000451227\", \"brands\" : \"Reese's\" }\n",
      "{ \"_id\" : \"0732346293333\", \"product_name\" : \"Cookie Mix\", \"brands\" : \"Reese's\", \"code\" : \"0732346293333\" }\n",
      "{ \"_id\" : \"0034000292325\", \"brands\" : \"Reese's\", \"code\" : \"0034000292325\", \"product_name\" : \"Crispy Wafer Bar Sticks, Milk Chocolate, Peanut Butter\" }\n",
      "{ \"_id\" : \"0034000202003\", \"brands\" : \"Reese's\", \"code\" : \"0034000202003\", \"product_name\" : \"Crispy Wafers\" }\n"
     ]
    }
   ],
   "source": [
    "!mongo open_food --quiet --eval 'db.products.find({\"brands\": {$in:[\"M&M\\x27s\", \"Reese\\x27s\", \"Mars Chocolate,Mars\"]}}, {\"code\":1, \"product_name\":1, \"brands\":1}).sort({\"product_name\": 1}).limit(8)'\n"
   ]
  },
  {
   "cell_type": "markdown",
   "metadata": {},
   "source": [
    "### Insert (insert Kim's \"KCandy\")"
   ]
  },
  {
   "cell_type": "code",
   "execution_count": 14,
   "metadata": {},
   "outputs": [
    {
     "name": "stdout",
     "output_type": "stream",
     "text": [
      "WriteResult({ \"nInserted\" : 1 })\n"
     ]
    }
   ],
   "source": [
    "!mongo open_food --quiet --eval 'db.products.insert({\"brands\": \"Kim\\x27s\", \"product_name\": \"KCandy\", \"code\":0034000209999, \"manufacturing_places\": \"Seoul, Korea\", \"packaging\": \"Plastic\"})'\n"
   ]
  },
  {
   "cell_type": "code",
   "execution_count": 15,
   "metadata": {},
   "outputs": [
    {
     "name": "stdout",
     "output_type": "stream",
     "text": [
      "{\n",
      "\t\"_id\" : ObjectId(\"5f885c7887bc5a71ac00531a\"),\n",
      "\t\"brands\" : \"Kim's\",\n",
      "\t\"product_name\" : \"KCandy\",\n",
      "\t\"code\" : 34000209999,\n",
      "\t\"manufacturing_places\" : \"Seoul, Korea\"\n",
      "}\n"
     ]
    }
   ],
   "source": [
    "!mongo open_food --quiet --eval 'db.products.find({\"product_name\":\"KCandy\"}, {\"code\":1, \"brands\":1, \"product_name\":1, \"manufacturing_places\":1}).pretty()'"
   ]
  },
  {
   "cell_type": "markdown",
   "metadata": {},
   "source": [
    "### Update (update \"KCandy\" to Korean Candy\")"
   ]
  },
  {
   "cell_type": "code",
   "execution_count": 16,
   "metadata": {},
   "outputs": [
    {
     "name": "stdout",
     "output_type": "stream",
     "text": [
      "WriteResult({ \"nMatched\" : 1, \"nUpserted\" : 0, \"nModified\" : 1 })\n"
     ]
    }
   ],
   "source": [
    "!mongo open_food --quiet --eval 'db.products.update({\"brands\":\"Kim\\x27s\"}, {$set: {\"product_name\":\"Korean Candy\"}})'"
   ]
  },
  {
   "cell_type": "code",
   "execution_count": 17,
   "metadata": {},
   "outputs": [
    {
     "name": "stdout",
     "output_type": "stream",
     "text": [
      "{\n",
      "\t\"_id\" : ObjectId(\"5f885c7887bc5a71ac00531a\"),\n",
      "\t\"brands\" : \"Kim's\",\n",
      "\t\"product_name\" : \"Korean Candy\",\n",
      "\t\"code\" : 34000209999,\n",
      "\t\"manufacturing_places\" : \"Seoul, Korea\",\n",
      "\t\"packaging\" : \"Plastic\"\n",
      "}\n"
     ]
    }
   ],
   "source": [
    "!mongo open_food --quiet --eval 'db.products.find({\"brands\":\"Kim\\x27s\"}).pretty()'"
   ]
  },
  {
   "cell_type": "markdown",
   "metadata": {},
   "source": [
    "### Delete"
   ]
  },
  {
   "cell_type": "code",
   "execution_count": 18,
   "metadata": {},
   "outputs": [
    {
     "name": "stdout",
     "output_type": "stream",
     "text": [
      "WriteResult({ \"nRemoved\" : 1 })\n"
     ]
    }
   ],
   "source": [
    "!mongo open_food --quiet --eval 'db.products.remove({\"brands\":\"Kim\\x27s\"})'"
   ]
  },
  {
   "cell_type": "code",
   "execution_count": null,
   "metadata": {},
   "outputs": [],
   "source": []
  }
 ],
 "metadata": {
  "environment": {
   "name": "common-cpu.m55",
   "type": "gcloud",
   "uri": "gcr.io/deeplearning-platform-release/base-cpu:m55"
  },
  "kernelspec": {
   "display_name": "Python 3",
   "language": "python",
   "name": "python3"
  },
  "language_info": {
   "codemirror_mode": {
    "name": "ipython",
    "version": 3
   },
   "file_extension": ".py",
   "mimetype": "text/x-python",
   "name": "python",
   "nbconvert_exporter": "python",
   "pygments_lexer": "ipython3",
   "version": "3.7.8"
  }
 },
 "nbformat": 4,
 "nbformat_minor": 4
}
