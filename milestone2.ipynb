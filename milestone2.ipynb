{
 "cells": [
  {
   "cell_type": "markdown",
   "metadata": {},
   "source": [
    "# Milestone 2"
   ]
  },
  {
   "cell_type": "markdown",
   "metadata": {},
   "source": [
    "### Creating Modeled Tables "
   ]
  },
  {
   "cell_type": "code",
   "execution_count": 32,
   "metadata": {},
   "outputs": [
    {
     "data": {
      "text/html": [
       "<div>\n",
       "<style scoped>\n",
       "    .dataframe tbody tr th:only-of-type {\n",
       "        vertical-align: middle;\n",
       "    }\n",
       "\n",
       "    .dataframe tbody tr th {\n",
       "        vertical-align: top;\n",
       "    }\n",
       "\n",
       "    .dataframe thead th {\n",
       "        text-align: right;\n",
       "    }\n",
       "</style>\n",
       "<table border=\"1\" class=\"dataframe\">\n",
       "  <thead>\n",
       "    <tr style=\"text-align: right;\">\n",
       "      <th></th>\n",
       "    </tr>\n",
       "  </thead>\n",
       "  <tbody>\n",
       "  </tbody>\n",
       "</table>\n",
       "</div>"
      ],
      "text/plain": [
       "Empty DataFrame\n",
       "Columns: []\n",
       "Index: []"
      ]
     },
     "execution_count": 32,
     "metadata": {},
     "output_type": "execute_result"
    }
   ],
   "source": [
    "%%bigquery\n",
    "CREATE TABLE H_1B_refined.Employer(\n",
    "    employer_name STRING,\n",
    "    employer_address STRING,\n",
    "    employer_city STRING,\n",
    "    employer_state STRING,\n",
    "    employer_postal_code STRING,\n",
    "    employer_country STRING,\n",
    "    employer_province STRING,\n",
    "    h_1b_dependent BOOL,\n",
    "    willful_violator BOOL,\n",
    "    );"
   ]
  },
  {
   "cell_type": "code",
   "execution_count": 33,
   "metadata": {},
   "outputs": [
    {
     "data": {
      "text/html": [
       "<div>\n",
       "<style scoped>\n",
       "    .dataframe tbody tr th:only-of-type {\n",
       "        vertical-align: middle;\n",
       "    }\n",
       "\n",
       "    .dataframe tbody tr th {\n",
       "        vertical-align: top;\n",
       "    }\n",
       "\n",
       "    .dataframe thead th {\n",
       "        text-align: right;\n",
       "    }\n",
       "</style>\n",
       "<table border=\"1\" class=\"dataframe\">\n",
       "  <thead>\n",
       "    <tr style=\"text-align: right;\">\n",
       "      <th></th>\n",
       "    </tr>\n",
       "  </thead>\n",
       "  <tbody>\n",
       "  </tbody>\n",
       "</table>\n",
       "</div>"
      ],
      "text/plain": [
       "Empty DataFrame\n",
       "Columns: []\n",
       "Index: []"
      ]
     },
     "execution_count": 33,
     "metadata": {},
     "output_type": "execute_result"
    }
   ],
   "source": [
    "%%bigquery\n",
    "CREATE TABLE H_1B_refined.Application(\n",
    "CASE_NUMBER STRING,\n",
    "CASE_STATUS STRING,\n",
    "CASE_SUBMITTED STRING,\n",
    "DECESION_DATE STRING,\n",
    "VISA_CLASS STRING,\n",
    "employer_name STRING,\n",
    "employer_city STRING);"
   ]
  },
  {
   "cell_type": "code",
   "execution_count": 34,
   "metadata": {},
   "outputs": [
    {
     "data": {
      "text/html": [
       "<div>\n",
       "<style scoped>\n",
       "    .dataframe tbody tr th:only-of-type {\n",
       "        vertical-align: middle;\n",
       "    }\n",
       "\n",
       "    .dataframe tbody tr th {\n",
       "        vertical-align: top;\n",
       "    }\n",
       "\n",
       "    .dataframe thead th {\n",
       "        text-align: right;\n",
       "    }\n",
       "</style>\n",
       "<table border=\"1\" class=\"dataframe\">\n",
       "  <thead>\n",
       "    <tr style=\"text-align: right;\">\n",
       "      <th></th>\n",
       "    </tr>\n",
       "  </thead>\n",
       "  <tbody>\n",
       "  </tbody>\n",
       "</table>\n",
       "</div>"
      ],
      "text/plain": [
       "Empty DataFrame\n",
       "Columns: []\n",
       "Index: []"
      ]
     },
     "execution_count": 34,
     "metadata": {},
     "output_type": "execute_result"
    }
   ],
   "source": [
    "%%bigquery\n",
    "CREATE TABLE H_1B_refined.Occupation(\n",
    "job_title STRING, \n",
    "employer_name STRING,\n",
    "employer_city STRING,\n",
    "employment_start_date STRING, \n",
    "employment_end_date STRING, \n",
    "soc_code STRING, \n",
    "soc_title STRING,\n",
    "prevailing_wage_YR FLOAT64,\n",
    "pw_wage_level STRING,\n",
    "pw_wage_source STRING,\n",
    "pw_wage_source_year INT64,\n",
    "pw_wage_source_other STRING,\n",
    "worksite_city STRING,\n",
    "worksite_country STRING,\n",
    "worksite_state STRING,\n",
    "worksite_postal_code STRING);"
   ]
  },
  {
   "cell_type": "code",
   "execution_count": 52,
   "metadata": {},
   "outputs": [
    {
     "data": {
      "text/html": [
       "<div>\n",
       "<style scoped>\n",
       "    .dataframe tbody tr th:only-of-type {\n",
       "        vertical-align: middle;\n",
       "    }\n",
       "\n",
       "    .dataframe tbody tr th {\n",
       "        vertical-align: top;\n",
       "    }\n",
       "\n",
       "    .dataframe thead th {\n",
       "        text-align: right;\n",
       "    }\n",
       "</style>\n",
       "<table border=\"1\" class=\"dataframe\">\n",
       "  <thead>\n",
       "    <tr style=\"text-align: right;\">\n",
       "      <th></th>\n",
       "    </tr>\n",
       "  </thead>\n",
       "  <tbody>\n",
       "  </tbody>\n",
       "</table>\n",
       "</div>"
      ],
      "text/plain": [
       "Empty DataFrame\n",
       "Columns: []\n",
       "Index: []"
      ]
     },
     "execution_count": 52,
     "metadata": {},
     "output_type": "execute_result"
    }
   ],
   "source": [
    "%%bigquery\n",
    "CREATE TABLE H_1B_refined.Ownership(\n",
    "    occ_code STRING,\n",
    "    occ_title STRING,\n",
    "    ownership STRING,\n",
    "    naics_title STRING,\n",
    "    grp STRING,\n",
    "    tot_emp INT64,\n",
    "    emp_prse FLOAT64,\n",
    "    h_mean FLOAT64,\n",
    "    a_mean INT64,\n",
    "    mean_prse FLOAT64,\n",
    "    a_pct10 INT64,\n",
    "    a_pct25 INT64,\n",
    "    a_median INT64,\n",
    "    a_pct75 INT64,\n",
    "    a_pct90 INT64\n",
    ");"
   ]
  },
  {
   "cell_type": "markdown",
   "metadata": {},
   "source": [
    "### Popolating Data into modeled tables"
   ]
  },
  {
   "cell_type": "code",
   "execution_count": 97,
   "metadata": {},
   "outputs": [
    {
     "data": {
      "text/html": [
       "<div>\n",
       "<style scoped>\n",
       "    .dataframe tbody tr th:only-of-type {\n",
       "        vertical-align: middle;\n",
       "    }\n",
       "\n",
       "    .dataframe tbody tr th {\n",
       "        vertical-align: top;\n",
       "    }\n",
       "\n",
       "    .dataframe thead th {\n",
       "        text-align: right;\n",
       "    }\n",
       "</style>\n",
       "<table border=\"1\" class=\"dataframe\">\n",
       "  <thead>\n",
       "    <tr style=\"text-align: right;\">\n",
       "      <th></th>\n",
       "    </tr>\n",
       "  </thead>\n",
       "  <tbody>\n",
       "  </tbody>\n",
       "</table>\n",
       "</div>"
      ],
      "text/plain": [
       "Empty DataFrame\n",
       "Columns: []\n",
       "Index: []"
      ]
     },
     "execution_count": 97,
     "metadata": {},
     "output_type": "execute_result"
    }
   ],
   "source": [
    "%%bigquery\n",
    "INSERT INTO H_1B_refined.Employer (employer_name, employer_address, employer_city, employer_state, employer_postal_code)\n",
    "SELECT LCA_CASE_EMPLOYER_NAME, LCA_CASE_EMPLOYER_ADDRESS, LCA_CASE_EMPLOYER_CITY, LCA_CASE_EMPLOYER_STATE,LCA_CASE_EMPLOYER_POSTAL_CODE\n",
    "FROM H_1B_Complete.h1b_2014_2;"
   ]
  },
  {
   "cell_type": "code",
   "execution_count": 36,
   "metadata": {},
   "outputs": [
    {
     "data": {
      "text/html": [
       "<div>\n",
       "<style scoped>\n",
       "    .dataframe tbody tr th:only-of-type {\n",
       "        vertical-align: middle;\n",
       "    }\n",
       "\n",
       "    .dataframe tbody tr th {\n",
       "        vertical-align: top;\n",
       "    }\n",
       "\n",
       "    .dataframe thead th {\n",
       "        text-align: right;\n",
       "    }\n",
       "</style>\n",
       "<table border=\"1\" class=\"dataframe\">\n",
       "  <thead>\n",
       "    <tr style=\"text-align: right;\">\n",
       "      <th></th>\n",
       "    </tr>\n",
       "  </thead>\n",
       "  <tbody>\n",
       "  </tbody>\n",
       "</table>\n",
       "</div>"
      ],
      "text/plain": [
       "Empty DataFrame\n",
       "Columns: []\n",
       "Index: []"
      ]
     },
     "execution_count": 36,
     "metadata": {},
     "output_type": "execute_result"
    }
   ],
   "source": [
    "%%bigquery\n",
    "INSERT INTO H_1B_refined.Employer (employer_name, employer_address, employer_city, employer_state, employer_postal_code, employer_country, employer_province, h_1b_dependent, willful_violator\n",
    ")\n",
    "SELECT EMPLOYER_NAME, EMPLOYER_ADDRESS1, EMPLOYER_CITY, EMPLOYER_STATE, EMPLOYER_POSTAL_CODE, EMPLOYER_COUNTRY, EMPLOYER_PROVINCE, H_1B_DEPENDENT, WILLFUL_VIOLATOR\n",
    "FROM H_1B_Complete.h1b_2015_4;"
   ]
  },
  {
   "cell_type": "code",
   "execution_count": 37,
   "metadata": {},
   "outputs": [
    {
     "data": {
      "text/html": [
       "<div>\n",
       "<style scoped>\n",
       "    .dataframe tbody tr th:only-of-type {\n",
       "        vertical-align: middle;\n",
       "    }\n",
       "\n",
       "    .dataframe tbody tr th {\n",
       "        vertical-align: top;\n",
       "    }\n",
       "\n",
       "    .dataframe thead th {\n",
       "        text-align: right;\n",
       "    }\n",
       "</style>\n",
       "<table border=\"1\" class=\"dataframe\">\n",
       "  <thead>\n",
       "    <tr style=\"text-align: right;\">\n",
       "      <th></th>\n",
       "    </tr>\n",
       "  </thead>\n",
       "  <tbody>\n",
       "  </tbody>\n",
       "</table>\n",
       "</div>"
      ],
      "text/plain": [
       "Empty DataFrame\n",
       "Columns: []\n",
       "Index: []"
      ]
     },
     "execution_count": 37,
     "metadata": {},
     "output_type": "execute_result"
    }
   ],
   "source": [
    "%%bigquery\n",
    "INSERT INTO H_1B_refined.Employer (employer_name, employer_address, employer_city, employer_state, employer_postal_code, employer_country, employer_province, h_1b_dependent, willful_violator\n",
    ")\n",
    "SELECT EMPLOYER_NAME, EMPLOYER_ADDRESS, EMPLOYER_CITY, EMPLOYER_STATE, EMPLOYER_POSTAL_CODE, EMPLOYER_COUNTRY, EMPLOYER_PROVINCE, H_1B_DEPENDENT, WILLFUL_VIOLATOR\n",
    "FROM H_1B_Complete.h1b_2016_2;"
   ]
  },
  {
   "cell_type": "code",
   "execution_count": 38,
   "metadata": {},
   "outputs": [
    {
     "data": {
      "text/html": [
       "<div>\n",
       "<style scoped>\n",
       "    .dataframe tbody tr th:only-of-type {\n",
       "        vertical-align: middle;\n",
       "    }\n",
       "\n",
       "    .dataframe tbody tr th {\n",
       "        vertical-align: top;\n",
       "    }\n",
       "\n",
       "    .dataframe thead th {\n",
       "        text-align: right;\n",
       "    }\n",
       "</style>\n",
       "<table border=\"1\" class=\"dataframe\">\n",
       "  <thead>\n",
       "    <tr style=\"text-align: right;\">\n",
       "      <th></th>\n",
       "    </tr>\n",
       "  </thead>\n",
       "  <tbody>\n",
       "  </tbody>\n",
       "</table>\n",
       "</div>"
      ],
      "text/plain": [
       "Empty DataFrame\n",
       "Columns: []\n",
       "Index: []"
      ]
     },
     "execution_count": 38,
     "metadata": {},
     "output_type": "execute_result"
    }
   ],
   "source": [
    "%%bigquery\n",
    "INSERT INTO H_1B_refined.Employer (employer_name, employer_address, employer_city, employer_state, employer_postal_code, employer_country, employer_province, h_1b_dependent, willful_violator\n",
    ")\n",
    "SELECT EMPLOYER_NAME, EMPLOYER_ADDRESS, EMPLOYER_CITY, EMPLOYER_STATE, EMPLOYER_POSTAL_CODE, EMPLOYER_COUNTRY, EMPLOYER_PROVINCE, H1B_DEPENDENT, WILLFUL_VIOLATOR\n",
    "FROM H_1B_Complete.h1b_2017_2;"
   ]
  },
  {
   "cell_type": "code",
   "execution_count": 39,
   "metadata": {},
   "outputs": [
    {
     "data": {
      "text/html": [
       "<div>\n",
       "<style scoped>\n",
       "    .dataframe tbody tr th:only-of-type {\n",
       "        vertical-align: middle;\n",
       "    }\n",
       "\n",
       "    .dataframe tbody tr th {\n",
       "        vertical-align: top;\n",
       "    }\n",
       "\n",
       "    .dataframe thead th {\n",
       "        text-align: right;\n",
       "    }\n",
       "</style>\n",
       "<table border=\"1\" class=\"dataframe\">\n",
       "  <thead>\n",
       "    <tr style=\"text-align: right;\">\n",
       "      <th></th>\n",
       "    </tr>\n",
       "  </thead>\n",
       "  <tbody>\n",
       "  </tbody>\n",
       "</table>\n",
       "</div>"
      ],
      "text/plain": [
       "Empty DataFrame\n",
       "Columns: []\n",
       "Index: []"
      ]
     },
     "execution_count": 39,
     "metadata": {},
     "output_type": "execute_result"
    }
   ],
   "source": [
    "%%bigquery\n",
    "INSERT INTO H_1B_refined.Employer (employer_name, employer_address, employer_city, employer_state, employer_postal_code, employer_country, employer_province, h_1b_dependent, willful_violator\n",
    ")\n",
    "SELECT EMPLOYER_NAME, EMPLOYER_ADDRESS, EMPLOYER_CITY, EMPLOYER_STATE, EMPLOYER_POSTAL_CODE, EMPLOYER_COUNTRY, EMPLOYER_PROVINCE, H1B_DEPENDENT, WILLFUL_VIOLATOR\n",
    "FROM H_1B_Complete.h1b_2018_2;"
   ]
  },
  {
   "cell_type": "code",
   "execution_count": 40,
   "metadata": {},
   "outputs": [
    {
     "data": {
      "text/html": [
       "<div>\n",
       "<style scoped>\n",
       "    .dataframe tbody tr th:only-of-type {\n",
       "        vertical-align: middle;\n",
       "    }\n",
       "\n",
       "    .dataframe tbody tr th {\n",
       "        vertical-align: top;\n",
       "    }\n",
       "\n",
       "    .dataframe thead th {\n",
       "        text-align: right;\n",
       "    }\n",
       "</style>\n",
       "<table border=\"1\" class=\"dataframe\">\n",
       "  <thead>\n",
       "    <tr style=\"text-align: right;\">\n",
       "      <th></th>\n",
       "    </tr>\n",
       "  </thead>\n",
       "  <tbody>\n",
       "  </tbody>\n",
       "</table>\n",
       "</div>"
      ],
      "text/plain": [
       "Empty DataFrame\n",
       "Columns: []\n",
       "Index: []"
      ]
     },
     "execution_count": 40,
     "metadata": {},
     "output_type": "execute_result"
    }
   ],
   "source": [
    "%%bigquery\n",
    "INSERT INTO H_1B_refined.Application (CASE_NUMBER, CASE_STATUS, CASE_SUBMITTED, DECESION_DATE, VISA_CLASS, employer_name, employer_city)\n",
    "SELECT LCA_CASE_NUMBER, STATUS, LCA_CASE_SUBMIT, DECISION_DATE, VISA_CLASS, LCA_CASE_EMPLOYER_NAME, LCA_CASE_EMPLOYER_CITY\n",
    "FROM H_1B_Complete.h1b_2014_2;"
   ]
  },
  {
   "cell_type": "code",
   "execution_count": 42,
   "metadata": {},
   "outputs": [
    {
     "data": {
      "text/html": [
       "<div>\n",
       "<style scoped>\n",
       "    .dataframe tbody tr th:only-of-type {\n",
       "        vertical-align: middle;\n",
       "    }\n",
       "\n",
       "    .dataframe tbody tr th {\n",
       "        vertical-align: top;\n",
       "    }\n",
       "\n",
       "    .dataframe thead th {\n",
       "        text-align: right;\n",
       "    }\n",
       "</style>\n",
       "<table border=\"1\" class=\"dataframe\">\n",
       "  <thead>\n",
       "    <tr style=\"text-align: right;\">\n",
       "      <th></th>\n",
       "    </tr>\n",
       "  </thead>\n",
       "  <tbody>\n",
       "  </tbody>\n",
       "</table>\n",
       "</div>"
      ],
      "text/plain": [
       "Empty DataFrame\n",
       "Columns: []\n",
       "Index: []"
      ]
     },
     "execution_count": 42,
     "metadata": {},
     "output_type": "execute_result"
    }
   ],
   "source": [
    "%%bigquery\n",
    "INSERT INTO H_1B_refined.Application (CASE_NUMBER, CASE_STATUS, CASE_SUBMITTED, DECESION_DATE, VISA_CLASS, employer_name, employer_city)\n",
    "SELECT CASE_NUMBER, CASE_STATUS, CASE_SUBMITTED, DECISION_DATE, VISA_CLASS, EMPLOYER_NAME, EMPLOYER_CITY\n",
    "FROM H_1B_Complete.h1b_2015_2;"
   ]
  },
  {
   "cell_type": "code",
   "execution_count": 43,
   "metadata": {},
   "outputs": [
    {
     "data": {
      "text/html": [
       "<div>\n",
       "<style scoped>\n",
       "    .dataframe tbody tr th:only-of-type {\n",
       "        vertical-align: middle;\n",
       "    }\n",
       "\n",
       "    .dataframe tbody tr th {\n",
       "        vertical-align: top;\n",
       "    }\n",
       "\n",
       "    .dataframe thead th {\n",
       "        text-align: right;\n",
       "    }\n",
       "</style>\n",
       "<table border=\"1\" class=\"dataframe\">\n",
       "  <thead>\n",
       "    <tr style=\"text-align: right;\">\n",
       "      <th></th>\n",
       "    </tr>\n",
       "  </thead>\n",
       "  <tbody>\n",
       "  </tbody>\n",
       "</table>\n",
       "</div>"
      ],
      "text/plain": [
       "Empty DataFrame\n",
       "Columns: []\n",
       "Index: []"
      ]
     },
     "execution_count": 43,
     "metadata": {},
     "output_type": "execute_result"
    }
   ],
   "source": [
    "%%bigquery\n",
    "INSERT INTO H_1B_refined.Application (CASE_NUMBER, CASE_STATUS, CASE_SUBMITTED, DECESION_DATE, VISA_CLASS, employer_name, employer_city)\n",
    "SELECT CASE_NUMBER, CASE_STATUS, CASE_SUBMITTED, DECISION_DATE, VISA_CLASS, EMPLOYER_NAME, EMPLOYER_CITY\n",
    "FROM H_1B_Complete.h1b_2016_2;"
   ]
  },
  {
   "cell_type": "code",
   "execution_count": 44,
   "metadata": {},
   "outputs": [
    {
     "data": {
      "text/html": [
       "<div>\n",
       "<style scoped>\n",
       "    .dataframe tbody tr th:only-of-type {\n",
       "        vertical-align: middle;\n",
       "    }\n",
       "\n",
       "    .dataframe tbody tr th {\n",
       "        vertical-align: top;\n",
       "    }\n",
       "\n",
       "    .dataframe thead th {\n",
       "        text-align: right;\n",
       "    }\n",
       "</style>\n",
       "<table border=\"1\" class=\"dataframe\">\n",
       "  <thead>\n",
       "    <tr style=\"text-align: right;\">\n",
       "      <th></th>\n",
       "    </tr>\n",
       "  </thead>\n",
       "  <tbody>\n",
       "  </tbody>\n",
       "</table>\n",
       "</div>"
      ],
      "text/plain": [
       "Empty DataFrame\n",
       "Columns: []\n",
       "Index: []"
      ]
     },
     "execution_count": 44,
     "metadata": {},
     "output_type": "execute_result"
    }
   ],
   "source": [
    "%%bigquery\n",
    "INSERT INTO H_1B_refined.Application (CASE_NUMBER, CASE_STATUS, CASE_SUBMITTED, DECESION_DATE, VISA_CLASS, employer_name, employer_city)\n",
    "SELECT CASE_NUMBER, CASE_STATUS, CASE_SUBMITTED, DECISION_DATE, VISA_CLASS, EMPLOYER_NAME, EMPLOYER_CITY\n",
    "FROM H_1B_Complete.h1b_2017_2;"
   ]
  },
  {
   "cell_type": "code",
   "execution_count": 45,
   "metadata": {},
   "outputs": [
    {
     "data": {
      "text/html": [
       "<div>\n",
       "<style scoped>\n",
       "    .dataframe tbody tr th:only-of-type {\n",
       "        vertical-align: middle;\n",
       "    }\n",
       "\n",
       "    .dataframe tbody tr th {\n",
       "        vertical-align: top;\n",
       "    }\n",
       "\n",
       "    .dataframe thead th {\n",
       "        text-align: right;\n",
       "    }\n",
       "</style>\n",
       "<table border=\"1\" class=\"dataframe\">\n",
       "  <thead>\n",
       "    <tr style=\"text-align: right;\">\n",
       "      <th></th>\n",
       "    </tr>\n",
       "  </thead>\n",
       "  <tbody>\n",
       "  </tbody>\n",
       "</table>\n",
       "</div>"
      ],
      "text/plain": [
       "Empty DataFrame\n",
       "Columns: []\n",
       "Index: []"
      ]
     },
     "execution_count": 45,
     "metadata": {},
     "output_type": "execute_result"
    }
   ],
   "source": [
    "%%bigquery\n",
    "INSERT INTO H_1B_refined.Application (CASE_NUMBER, CASE_STATUS, CASE_SUBMITTED, DECESION_DATE, VISA_CLASS, employer_name, employer_city)\n",
    "SELECT CASE_NUMBER, CASE_STATUS, CASE_SUBMITTED, DECISION_DATE, VISA_CLASS, EMPLOYER_NAME, EMPLOYER_CITY\n",
    "FROM H_1B_Complete.h1b_2018_2;"
   ]
  },
  {
   "cell_type": "code",
   "execution_count": 46,
   "metadata": {},
   "outputs": [
    {
     "data": {
      "text/html": [
       "<div>\n",
       "<style scoped>\n",
       "    .dataframe tbody tr th:only-of-type {\n",
       "        vertical-align: middle;\n",
       "    }\n",
       "\n",
       "    .dataframe tbody tr th {\n",
       "        vertical-align: top;\n",
       "    }\n",
       "\n",
       "    .dataframe thead th {\n",
       "        text-align: right;\n",
       "    }\n",
       "</style>\n",
       "<table border=\"1\" class=\"dataframe\">\n",
       "  <thead>\n",
       "    <tr style=\"text-align: right;\">\n",
       "      <th></th>\n",
       "    </tr>\n",
       "  </thead>\n",
       "  <tbody>\n",
       "  </tbody>\n",
       "</table>\n",
       "</div>"
      ],
      "text/plain": [
       "Empty DataFrame\n",
       "Columns: []\n",
       "Index: []"
      ]
     },
     "execution_count": 46,
     "metadata": {},
     "output_type": "execute_result"
    }
   ],
   "source": [
    "%%bigquery\n",
    "INSERT INTO H_1B_refined.Occupation (job_title, employer_name, employer_city, employment_start_date, employment_end_date, soc_code, soc_title, prevailing_wage_YR, pw_wage_source, pw_wage_source_year, pw_wage_source_other, worksite_city, worksite_state)\n",
    "SELECT LCA_CASE_JOB_TITLE, LCA_CASE_EMPLOYER_NAME, LCA_CASE_EMPLOYER_CITY, LCA_CASE_EMPLOYMENT_START_DATE, LCA_CASE_EMPLOYMENT_END_DATE, LCA_CASE_SOC_CODE, LCA_CASE_SOC_NAME, CEILING(PW_1), PW_SOURCE_1, YR_SOURCE_PUB_1, OTHER_WAGE_SOURCE_1, LCA_CASE_WORKLOC1_CITY, LCA_CASE_WORKLOC1_STATE\n",
    "FROM H_1B_Complete.h1b_2014_2;\n",
    "\n"
   ]
  },
  {
   "cell_type": "code",
   "execution_count": 47,
   "metadata": {},
   "outputs": [
    {
     "data": {
      "text/html": [
       "<div>\n",
       "<style scoped>\n",
       "    .dataframe tbody tr th:only-of-type {\n",
       "        vertical-align: middle;\n",
       "    }\n",
       "\n",
       "    .dataframe tbody tr th {\n",
       "        vertical-align: top;\n",
       "    }\n",
       "\n",
       "    .dataframe thead th {\n",
       "        text-align: right;\n",
       "    }\n",
       "</style>\n",
       "<table border=\"1\" class=\"dataframe\">\n",
       "  <thead>\n",
       "    <tr style=\"text-align: right;\">\n",
       "      <th></th>\n",
       "    </tr>\n",
       "  </thead>\n",
       "  <tbody>\n",
       "  </tbody>\n",
       "</table>\n",
       "</div>"
      ],
      "text/plain": [
       "Empty DataFrame\n",
       "Columns: []\n",
       "Index: []"
      ]
     },
     "execution_count": 47,
     "metadata": {},
     "output_type": "execute_result"
    }
   ],
   "source": [
    "%%bigquery\n",
    "INSERT INTO H_1B_refined.Occupation (job_title, employer_name, employer_city, employment_start_date, employment_end_date, soc_code, soc_title, prevailing_wage_YR, pw_wage_level, pw_wage_source, pw_wage_source_year, pw_wage_source_other, worksite_city, worksite_country, worksite_state, worksite_postal_code)\n",
    "SELECT JOB_TITLE, EMPLOYER_NAME, EMPLOYER_CITY, EMPLOYMENT_START_DATE, EMPLOYMENT_END_DATE, SOC_CODE, SOC_NAME, PREVAILING_WAGE_YR, PW_WAGE_LEVEL, PW_WAGE_SOURCE, PW_WAGE_SOURCE_YEAR, PW_WAGE_SOURCE_OTHER, WORKSITE_CITY, WORKSITE_COUNTY, WORKSITE_STATE, WORKSITE_POSTAL_CODE\n",
    "FROM H_1B_Complete.h1b_2015_3;\n"
   ]
  },
  {
   "cell_type": "code",
   "execution_count": 48,
   "metadata": {},
   "outputs": [
    {
     "data": {
      "text/html": [
       "<div>\n",
       "<style scoped>\n",
       "    .dataframe tbody tr th:only-of-type {\n",
       "        vertical-align: middle;\n",
       "    }\n",
       "\n",
       "    .dataframe tbody tr th {\n",
       "        vertical-align: top;\n",
       "    }\n",
       "\n",
       "    .dataframe thead th {\n",
       "        text-align: right;\n",
       "    }\n",
       "</style>\n",
       "<table border=\"1\" class=\"dataframe\">\n",
       "  <thead>\n",
       "    <tr style=\"text-align: right;\">\n",
       "      <th></th>\n",
       "    </tr>\n",
       "  </thead>\n",
       "  <tbody>\n",
       "  </tbody>\n",
       "</table>\n",
       "</div>"
      ],
      "text/plain": [
       "Empty DataFrame\n",
       "Columns: []\n",
       "Index: []"
      ]
     },
     "execution_count": 48,
     "metadata": {},
     "output_type": "execute_result"
    }
   ],
   "source": [
    "%%bigquery\n",
    "INSERT INTO H_1B_refined.Occupation (job_title, employer_name, employer_city, employment_start_date, employment_end_date, soc_code, soc_title, prevailing_wage_YR, pw_wage_source, pw_wage_source_year, pw_wage_source_other, worksite_city, worksite_country, worksite_state, worksite_postal_code)\n",
    "SELECT JOB_TITLE, EMPLOYER_NAME, EMPLOYER_CITY, EMPLOYMENT_START_DATE, EMPLOYMENT_END_DATE, SOC_CODE, SOC_NAME, PREVAILING_WAGE, PW_WAGE_SOURCE, PW_SOURCE_YEAR, PW_SOURCE_OTHER, WORKSITE_CITY, WORKSITE_COUNTY, WORKSITE_STATE, WORKSITE_POSTAL_CODE\n",
    "FROM H_1B_Complete.h1b_2016_2;\n"
   ]
  },
  {
   "cell_type": "code",
   "execution_count": 49,
   "metadata": {},
   "outputs": [
    {
     "data": {
      "text/html": [
       "<div>\n",
       "<style scoped>\n",
       "    .dataframe tbody tr th:only-of-type {\n",
       "        vertical-align: middle;\n",
       "    }\n",
       "\n",
       "    .dataframe tbody tr th {\n",
       "        vertical-align: top;\n",
       "    }\n",
       "\n",
       "    .dataframe thead th {\n",
       "        text-align: right;\n",
       "    }\n",
       "</style>\n",
       "<table border=\"1\" class=\"dataframe\">\n",
       "  <thead>\n",
       "    <tr style=\"text-align: right;\">\n",
       "      <th></th>\n",
       "    </tr>\n",
       "  </thead>\n",
       "  <tbody>\n",
       "  </tbody>\n",
       "</table>\n",
       "</div>"
      ],
      "text/plain": [
       "Empty DataFrame\n",
       "Columns: []\n",
       "Index: []"
      ]
     },
     "execution_count": 49,
     "metadata": {},
     "output_type": "execute_result"
    }
   ],
   "source": [
    "%%bigquery\n",
    "INSERT INTO H_1B_refined.Occupation (job_title, employer_name, employer_city, employment_start_date, employment_end_date, soc_code, soc_title, prevailing_wage_YR, pw_wage_level, pw_wage_source, pw_wage_source_year, pw_wage_source_other, worksite_city, worksite_country, worksite_state, worksite_postal_code)\n",
    "SELECT JOB_TITLE, EMPLOYER_NAME, EMPLOYER_CITY, EMPLOYMENT_START_DATE, EMPLOYMENT_END_DATE, SOC_CODE, SOC_NAME, PREVAILING_WAGE, PW_WAGE_LEVEL, PW_SOURCE, PW_SOURCE_YEAR, PW_SOURCE_OTHER, WORKSITE_CITY, WORKSITE_COUNTY, WORKSITE_STATE, WORKSITE_POSTAL_CODE\n",
    "FROM H_1B_Complete.h1b_2017_2;"
   ]
  },
  {
   "cell_type": "code",
   "execution_count": 50,
   "metadata": {},
   "outputs": [
    {
     "data": {
      "text/html": [
       "<div>\n",
       "<style scoped>\n",
       "    .dataframe tbody tr th:only-of-type {\n",
       "        vertical-align: middle;\n",
       "    }\n",
       "\n",
       "    .dataframe tbody tr th {\n",
       "        vertical-align: top;\n",
       "    }\n",
       "\n",
       "    .dataframe thead th {\n",
       "        text-align: right;\n",
       "    }\n",
       "</style>\n",
       "<table border=\"1\" class=\"dataframe\">\n",
       "  <thead>\n",
       "    <tr style=\"text-align: right;\">\n",
       "      <th></th>\n",
       "    </tr>\n",
       "  </thead>\n",
       "  <tbody>\n",
       "  </tbody>\n",
       "</table>\n",
       "</div>"
      ],
      "text/plain": [
       "Empty DataFrame\n",
       "Columns: []\n",
       "Index: []"
      ]
     },
     "execution_count": 50,
     "metadata": {},
     "output_type": "execute_result"
    }
   ],
   "source": [
    "%%bigquery\n",
    "INSERT INTO H_1B_refined.Occupation (job_title, employer_name, employer_city, employment_start_date, employment_end_date, soc_code, soc_title, prevailing_wage_YR, pw_wage_level, pw_wage_source, pw_wage_source_year, pw_wage_source_other, worksite_city, worksite_country, worksite_state, worksite_postal_code)\n",
    "SELECT JOB_TITLE, EMPLOYER_NAME, EMPLOYER_CITY, EMPLOYMENT_START_DATE, EMPLOYMENT_END_DATE, SOC_CODE, SOC_NAME, PREVAILING_WAGE, PW_WAGE_LEVEL, PW_SOURCE, PW_SOURCE_YEAR, PW_SOURCE_OTHER, WORKSITE_CITY, WORKSITE_COUNTY, WORKSITE_STATE, WORKSITE_POSTAL_CODE\n",
    "FROM H_1B_Complete.h1b_2018_2;"
   ]
  },
  {
   "cell_type": "code",
   "execution_count": 53,
   "metadata": {},
   "outputs": [
    {
     "data": {
      "text/html": [
       "<div>\n",
       "<style scoped>\n",
       "    .dataframe tbody tr th:only-of-type {\n",
       "        vertical-align: middle;\n",
       "    }\n",
       "\n",
       "    .dataframe tbody tr th {\n",
       "        vertical-align: top;\n",
       "    }\n",
       "\n",
       "    .dataframe thead th {\n",
       "        text-align: right;\n",
       "    }\n",
       "</style>\n",
       "<table border=\"1\" class=\"dataframe\">\n",
       "  <thead>\n",
       "    <tr style=\"text-align: right;\">\n",
       "      <th></th>\n",
       "    </tr>\n",
       "  </thead>\n",
       "  <tbody>\n",
       "  </tbody>\n",
       "</table>\n",
       "</div>"
      ],
      "text/plain": [
       "Empty DataFrame\n",
       "Columns: []\n",
       "Index: []"
      ]
     },
     "execution_count": 53,
     "metadata": {},
     "output_type": "execute_result"
    }
   ],
   "source": [
    "%%bigquery\n",
    "INSERT INTO H_1B_refined.Ownership\n",
    "SELECT nat.occ_code, nat.occ_title, own.ownership, sec.naics_title, nat.group, nat.tot_emp, nat.emp_prse, nat.h_mean, nat.a_mean, nat.mean_prse, nat.a_pct10, nat.a_pct25, nat.a_median, nat.a_pct75, nat.a_pct90\n",
    "FROM oesm_staging.OESM_national_14 as nat\n",
    "JOIN\n",
    "oesm_staging.OESM_owner_14 as own ON nat.occ_code = own.occ_code\n",
    "JOIN\n",
    "oesm_staging.OESM_sector_14 as sec ON own.occ_code = sec.occ_code\n"
   ]
  },
  {
   "cell_type": "code",
   "execution_count": 54,
   "metadata": {},
   "outputs": [
    {
     "data": {
      "text/html": [
       "<div>\n",
       "<style scoped>\n",
       "    .dataframe tbody tr th:only-of-type {\n",
       "        vertical-align: middle;\n",
       "    }\n",
       "\n",
       "    .dataframe tbody tr th {\n",
       "        vertical-align: top;\n",
       "    }\n",
       "\n",
       "    .dataframe thead th {\n",
       "        text-align: right;\n",
       "    }\n",
       "</style>\n",
       "<table border=\"1\" class=\"dataframe\">\n",
       "  <thead>\n",
       "    <tr style=\"text-align: right;\">\n",
       "      <th></th>\n",
       "    </tr>\n",
       "  </thead>\n",
       "  <tbody>\n",
       "  </tbody>\n",
       "</table>\n",
       "</div>"
      ],
      "text/plain": [
       "Empty DataFrame\n",
       "Columns: []\n",
       "Index: []"
      ]
     },
     "execution_count": 54,
     "metadata": {},
     "output_type": "execute_result"
    }
   ],
   "source": [
    "%%bigquery\n",
    "INSERT INTO H_1B_refined.Ownership\n",
    "SELECT nat.occ_code, nat.occ_title, own.ownership, sec.naics_title, nat.group, nat.tot_emp, nat.emp_prse, nat.h_mean, nat.a_mean, nat.mean_prse, nat.a_pct10, nat.a_pct25, nat.a_median, nat.a_pct75, nat.a_pct90\n",
    "FROM oesm_staging.OESM_national_15 as nat\n",
    "JOIN\n",
    "oesm_staging.OESM_owner_15 as own ON nat.occ_code = own.occ_code\n",
    "JOIN\n",
    "oesm_staging.OESM_sector_15 as sec ON own.occ_code = sec.occ_code\n"
   ]
  },
  {
   "cell_type": "code",
   "execution_count": 55,
   "metadata": {},
   "outputs": [
    {
     "data": {
      "text/html": [
       "<div>\n",
       "<style scoped>\n",
       "    .dataframe tbody tr th:only-of-type {\n",
       "        vertical-align: middle;\n",
       "    }\n",
       "\n",
       "    .dataframe tbody tr th {\n",
       "        vertical-align: top;\n",
       "    }\n",
       "\n",
       "    .dataframe thead th {\n",
       "        text-align: right;\n",
       "    }\n",
       "</style>\n",
       "<table border=\"1\" class=\"dataframe\">\n",
       "  <thead>\n",
       "    <tr style=\"text-align: right;\">\n",
       "      <th></th>\n",
       "    </tr>\n",
       "  </thead>\n",
       "  <tbody>\n",
       "  </tbody>\n",
       "</table>\n",
       "</div>"
      ],
      "text/plain": [
       "Empty DataFrame\n",
       "Columns: []\n",
       "Index: []"
      ]
     },
     "execution_count": 55,
     "metadata": {},
     "output_type": "execute_result"
    }
   ],
   "source": [
    "%%bigquery\n",
    "INSERT INTO H_1B_refined.Ownership\n",
    "SELECT nat.occ_code, nat.occ_title, own.ownership, sec.naics_title, nat.group, nat.tot_emp, nat.emp_prse, nat.h_mean, nat.a_mean, nat.mean_prse, nat.a_pct10, nat.a_pct25, nat.a_median, nat.a_pct75, nat.a_pct90\n",
    "FROM oesm_staging.OESM_national_16 as nat\n",
    "JOIN\n",
    "oesm_staging.OESM_owner_16 as own ON nat.occ_code = own.occ_code\n",
    "JOIN\n",
    "oesm_staging.OESM_sector_16 as sec ON own.occ_code = sec.occ_code\n"
   ]
  },
  {
   "cell_type": "code",
   "execution_count": 56,
   "metadata": {},
   "outputs": [
    {
     "data": {
      "text/html": [
       "<div>\n",
       "<style scoped>\n",
       "    .dataframe tbody tr th:only-of-type {\n",
       "        vertical-align: middle;\n",
       "    }\n",
       "\n",
       "    .dataframe tbody tr th {\n",
       "        vertical-align: top;\n",
       "    }\n",
       "\n",
       "    .dataframe thead th {\n",
       "        text-align: right;\n",
       "    }\n",
       "</style>\n",
       "<table border=\"1\" class=\"dataframe\">\n",
       "  <thead>\n",
       "    <tr style=\"text-align: right;\">\n",
       "      <th></th>\n",
       "    </tr>\n",
       "  </thead>\n",
       "  <tbody>\n",
       "  </tbody>\n",
       "</table>\n",
       "</div>"
      ],
      "text/plain": [
       "Empty DataFrame\n",
       "Columns: []\n",
       "Index: []"
      ]
     },
     "execution_count": 56,
     "metadata": {},
     "output_type": "execute_result"
    }
   ],
   "source": [
    "%%bigquery\n",
    "INSERT INTO H_1B_refined.Ownership\n",
    "SELECT nat.occ_code, nat.occ_title, own.ownership, sec.naics_title, nat.group, nat.tot_emp, nat.emp_prse, nat.h_mean, nat.a_mean, nat.mean_prse, nat.a_pct10, nat.a_pct25, nat.a_median, nat.a_pct75, nat.a_pct90\n",
    "FROM oesm_staging.OESM_national_17 as nat\n",
    "JOIN\n",
    "oesm_staging.OESM_owner_17 as own ON nat.occ_code = own.occ_code\n",
    "JOIN\n",
    "oesm_staging.OESM_sector_17 as sec ON own.occ_code = sec.occ_code\n"
   ]
  },
  {
   "cell_type": "code",
   "execution_count": 57,
   "metadata": {},
   "outputs": [
    {
     "data": {
      "text/html": [
       "<div>\n",
       "<style scoped>\n",
       "    .dataframe tbody tr th:only-of-type {\n",
       "        vertical-align: middle;\n",
       "    }\n",
       "\n",
       "    .dataframe tbody tr th {\n",
       "        vertical-align: top;\n",
       "    }\n",
       "\n",
       "    .dataframe thead th {\n",
       "        text-align: right;\n",
       "    }\n",
       "</style>\n",
       "<table border=\"1\" class=\"dataframe\">\n",
       "  <thead>\n",
       "    <tr style=\"text-align: right;\">\n",
       "      <th></th>\n",
       "    </tr>\n",
       "  </thead>\n",
       "  <tbody>\n",
       "  </tbody>\n",
       "</table>\n",
       "</div>"
      ],
      "text/plain": [
       "Empty DataFrame\n",
       "Columns: []\n",
       "Index: []"
      ]
     },
     "execution_count": 57,
     "metadata": {},
     "output_type": "execute_result"
    }
   ],
   "source": [
    "%%bigquery\n",
    "INSERT INTO H_1B_refined.Ownership\n",
    "SELECT nat.occ_code, nat.occ_title, own.ownership, sec.naics_title, nat.group, nat.tot_emp, nat.emp_prse, nat.h_mean, nat.a_mean, nat.mean_prse, nat.a_pct10, nat.a_pct25, nat.a_median, nat.a_pct75, nat.a_pct90\n",
    "FROM oesm_staging.OESM_national_18 as nat\n",
    "JOIN\n",
    "oesm_staging.OESM_owner_18 as own ON nat.occ_code = own.occ_code\n",
    "JOIN\n",
    "oesm_staging.OESM_sector_18 as sec ON own.occ_code = sec.occ_code\n"
   ]
  },
  {
   "cell_type": "markdown",
   "metadata": {},
   "source": [
    "### Check primary key constraint on Occupation"
   ]
  },
  {
   "cell_type": "code",
   "execution_count": 1,
   "metadata": {},
   "outputs": [
    {
     "data": {
      "text/html": [
       "<div>\n",
       "<style scoped>\n",
       "    .dataframe tbody tr th:only-of-type {\n",
       "        vertical-align: middle;\n",
       "    }\n",
       "\n",
       "    .dataframe tbody tr th {\n",
       "        vertical-align: top;\n",
       "    }\n",
       "\n",
       "    .dataframe thead th {\n",
       "        text-align: right;\n",
       "    }\n",
       "</style>\n",
       "<table border=\"1\" class=\"dataframe\">\n",
       "  <thead>\n",
       "    <tr style=\"text-align: right;\">\n",
       "      <th></th>\n",
       "      <th>total_count</th>\n",
       "    </tr>\n",
       "  </thead>\n",
       "  <tbody>\n",
       "    <tr>\n",
       "      <th>0</th>\n",
       "      <td>7169310</td>\n",
       "    </tr>\n",
       "  </tbody>\n",
       "</table>\n",
       "</div>"
      ],
      "text/plain": [
       "   total_count\n",
       "0      7169310"
      ]
     },
     "execution_count": 1,
     "metadata": {},
     "output_type": "execute_result"
    }
   ],
   "source": [
    "%%bigquery\n",
    "select count(*) total_count\n",
    "from H_1B_refined.Occupation"
   ]
  },
  {
   "cell_type": "code",
   "execution_count": 2,
   "metadata": {},
   "outputs": [
    {
     "data": {
      "text/html": [
       "<div>\n",
       "<style scoped>\n",
       "    .dataframe tbody tr th:only-of-type {\n",
       "        vertical-align: middle;\n",
       "    }\n",
       "\n",
       "    .dataframe tbody tr th {\n",
       "        vertical-align: top;\n",
       "    }\n",
       "\n",
       "    .dataframe thead th {\n",
       "        text-align: right;\n",
       "    }\n",
       "</style>\n",
       "<table border=\"1\" class=\"dataframe\">\n",
       "  <thead>\n",
       "    <tr style=\"text-align: right;\">\n",
       "      <th></th>\n",
       "      <th>distinct_event_count</th>\n",
       "    </tr>\n",
       "  </thead>\n",
       "  <tbody>\n",
       "    <tr>\n",
       "      <th>0</th>\n",
       "      <td>2561872</td>\n",
       "    </tr>\n",
       "  </tbody>\n",
       "</table>\n",
       "</div>"
      ],
      "text/plain": [
       "   distinct_event_count\n",
       "0               2561872"
      ]
     },
     "execution_count": 2,
     "metadata": {},
     "output_type": "execute_result"
    }
   ],
   "source": [
    "%%bigquery\n",
    "select count(*) distinct_event_count\n",
    "from\n",
    "(select distinct f0_\n",
    "from H_1B_refined.Occupation)"
   ]
  },
  {
   "cell_type": "markdown",
   "metadata": {},
   "source": [
    "### Choose a primitive data type"
   ]
  },
  {
   "cell_type": "markdown",
   "metadata": {},
   "source": [
    "##### Converting YYYY.MM.DD format to YYYY-MM-DD format in Occupation table\n",
    "#### ************We manually changed the most data type when we insert the data. The main data that needs casting is employment_start_date and employment_end_date, which I discussed with the professor and decided to convert it to DATE type using BEAM in the next milestone. Despite this fact, we tried to chage the values with yyyy.mm.dd format and yyyy/mm/dd format into yyyy-mm-dd format. The one that preventing us from casting this STRING data to DATE data is the values whose format is mm.dd.yyyy."
   ]
  },
  {
   "cell_type": "code",
   "execution_count": 9,
   "metadata": {},
   "outputs": [
    {
     "data": {
      "text/html": [
       "<div>\n",
       "<style scoped>\n",
       "    .dataframe tbody tr th:only-of-type {\n",
       "        vertical-align: middle;\n",
       "    }\n",
       "\n",
       "    .dataframe tbody tr th {\n",
       "        vertical-align: top;\n",
       "    }\n",
       "\n",
       "    .dataframe thead th {\n",
       "        text-align: right;\n",
       "    }\n",
       "</style>\n",
       "<table border=\"1\" class=\"dataframe\">\n",
       "  <thead>\n",
       "    <tr style=\"text-align: right;\">\n",
       "      <th></th>\n",
       "    </tr>\n",
       "  </thead>\n",
       "  <tbody>\n",
       "  </tbody>\n",
       "</table>\n",
       "</div>"
      ],
      "text/plain": [
       "Empty DataFrame\n",
       "Columns: []\n",
       "Index: []"
      ]
     },
     "execution_count": 9,
     "metadata": {},
     "output_type": "execute_result"
    }
   ],
   "source": [
    "%%bigquery\n",
    "UPDATE H_1B_refined.Occupation \n",
    "SET employment_start_date = REPLACE(employment_start_date, \".\", \"-\")\n",
    "WHERE employment_start_date is not NULL;"
   ]
  },
  {
   "cell_type": "code",
   "execution_count": 16,
   "metadata": {},
   "outputs": [
    {
     "data": {
      "text/html": [
       "<div>\n",
       "<style scoped>\n",
       "    .dataframe tbody tr th:only-of-type {\n",
       "        vertical-align: middle;\n",
       "    }\n",
       "\n",
       "    .dataframe tbody tr th {\n",
       "        vertical-align: top;\n",
       "    }\n",
       "\n",
       "    .dataframe thead th {\n",
       "        text-align: right;\n",
       "    }\n",
       "</style>\n",
       "<table border=\"1\" class=\"dataframe\">\n",
       "  <thead>\n",
       "    <tr style=\"text-align: right;\">\n",
       "      <th></th>\n",
       "    </tr>\n",
       "  </thead>\n",
       "  <tbody>\n",
       "  </tbody>\n",
       "</table>\n",
       "</div>"
      ],
      "text/plain": [
       "Empty DataFrame\n",
       "Columns: []\n",
       "Index: []"
      ]
     },
     "execution_count": 16,
     "metadata": {},
     "output_type": "execute_result"
    }
   ],
   "source": [
    "%%bigquery\n",
    "UPDATE H_1B_refined.Occupation \n",
    "SET employment_start_date = REPLACE(employment_start_date, \"/\", \"-\")\n",
    "WHERE employment_start_date is not NULL;"
   ]
  },
  {
   "cell_type": "code",
   "execution_count": 10,
   "metadata": {},
   "outputs": [
    {
     "data": {
      "text/html": [
       "<div>\n",
       "<style scoped>\n",
       "    .dataframe tbody tr th:only-of-type {\n",
       "        vertical-align: middle;\n",
       "    }\n",
       "\n",
       "    .dataframe tbody tr th {\n",
       "        vertical-align: top;\n",
       "    }\n",
       "\n",
       "    .dataframe thead th {\n",
       "        text-align: right;\n",
       "    }\n",
       "</style>\n",
       "<table border=\"1\" class=\"dataframe\">\n",
       "  <thead>\n",
       "    <tr style=\"text-align: right;\">\n",
       "      <th></th>\n",
       "    </tr>\n",
       "  </thead>\n",
       "  <tbody>\n",
       "  </tbody>\n",
       "</table>\n",
       "</div>"
      ],
      "text/plain": [
       "Empty DataFrame\n",
       "Columns: []\n",
       "Index: []"
      ]
     },
     "execution_count": 10,
     "metadata": {},
     "output_type": "execute_result"
    }
   ],
   "source": [
    "%%bigquery\n",
    "UPDATE H_1B_refined.Occupation \n",
    "SET employment_end_date = REPLACE(employment_end_date, \".\", \"-\")\n",
    "WHERE employment_end_date is not NULL;"
   ]
  },
  {
   "cell_type": "code",
   "execution_count": 17,
   "metadata": {},
   "outputs": [
    {
     "data": {
      "text/html": [
       "<div>\n",
       "<style scoped>\n",
       "    .dataframe tbody tr th:only-of-type {\n",
       "        vertical-align: middle;\n",
       "    }\n",
       "\n",
       "    .dataframe tbody tr th {\n",
       "        vertical-align: top;\n",
       "    }\n",
       "\n",
       "    .dataframe thead th {\n",
       "        text-align: right;\n",
       "    }\n",
       "</style>\n",
       "<table border=\"1\" class=\"dataframe\">\n",
       "  <thead>\n",
       "    <tr style=\"text-align: right;\">\n",
       "      <th></th>\n",
       "    </tr>\n",
       "  </thead>\n",
       "  <tbody>\n",
       "  </tbody>\n",
       "</table>\n",
       "</div>"
      ],
      "text/plain": [
       "Empty DataFrame\n",
       "Columns: []\n",
       "Index: []"
      ]
     },
     "execution_count": 17,
     "metadata": {},
     "output_type": "execute_result"
    }
   ],
   "source": [
    "%%bigquery\n",
    "UPDATE H_1B_refined.Occupation \n",
    "SET employment_end_date = REPLACE(employment_end_date, \"/\", \"-\")\n",
    "WHERE employment_end_date is not NULL;"
   ]
  },
  {
   "cell_type": "markdown",
   "metadata": {},
   "source": [
    "### Here, we were able to change yyyy.mm.dd STRING format to yyyy-mm-dd format so that we can CAST its type to DATE. (CASE_SUBMITTED and DECESION_DATE)"
   ]
  },
  {
   "cell_type": "code",
   "execution_count": 79,
   "metadata": {},
   "outputs": [
    {
     "data": {
      "text/html": [
       "<div>\n",
       "<style scoped>\n",
       "    .dataframe tbody tr th:only-of-type {\n",
       "        vertical-align: middle;\n",
       "    }\n",
       "\n",
       "    .dataframe tbody tr th {\n",
       "        vertical-align: top;\n",
       "    }\n",
       "\n",
       "    .dataframe thead th {\n",
       "        text-align: right;\n",
       "    }\n",
       "</style>\n",
       "<table border=\"1\" class=\"dataframe\">\n",
       "  <thead>\n",
       "    <tr style=\"text-align: right;\">\n",
       "      <th></th>\n",
       "    </tr>\n",
       "  </thead>\n",
       "  <tbody>\n",
       "  </tbody>\n",
       "</table>\n",
       "</div>"
      ],
      "text/plain": [
       "Empty DataFrame\n",
       "Columns: []\n",
       "Index: []"
      ]
     },
     "execution_count": 79,
     "metadata": {},
     "output_type": "execute_result"
    }
   ],
   "source": [
    "%%bigquery\n",
    "UPDATE H_1B_refined.Application \n",
    "SET CASE_SUBMITTED = REPLACE(CASE_SUBMITTED, \".\", \"-\")\n",
    "WHERE CASE_SUBMITTED is not NULL;"
   ]
  },
  {
   "cell_type": "code",
   "execution_count": 80,
   "metadata": {},
   "outputs": [
    {
     "data": {
      "text/html": [
       "<div>\n",
       "<style scoped>\n",
       "    .dataframe tbody tr th:only-of-type {\n",
       "        vertical-align: middle;\n",
       "    }\n",
       "\n",
       "    .dataframe tbody tr th {\n",
       "        vertical-align: top;\n",
       "    }\n",
       "\n",
       "    .dataframe thead th {\n",
       "        text-align: right;\n",
       "    }\n",
       "</style>\n",
       "<table border=\"1\" class=\"dataframe\">\n",
       "  <thead>\n",
       "    <tr style=\"text-align: right;\">\n",
       "      <th></th>\n",
       "    </tr>\n",
       "  </thead>\n",
       "  <tbody>\n",
       "  </tbody>\n",
       "</table>\n",
       "</div>"
      ],
      "text/plain": [
       "Empty DataFrame\n",
       "Columns: []\n",
       "Index: []"
      ]
     },
     "execution_count": 80,
     "metadata": {},
     "output_type": "execute_result"
    }
   ],
   "source": [
    "%%bigquery\n",
    "UPDATE H_1B_refined.Application \n",
    "SET DECESION_DATE = REPLACE(DECESION_DATE, \".\", \"-\")\n",
    "WHERE DECESION_DATE is not NULL;"
   ]
  },
  {
   "cell_type": "code",
   "execution_count": 82,
   "metadata": {},
   "outputs": [
    {
     "data": {
      "text/html": [
       "<div>\n",
       "<style scoped>\n",
       "    .dataframe tbody tr th:only-of-type {\n",
       "        vertical-align: middle;\n",
       "    }\n",
       "\n",
       "    .dataframe tbody tr th {\n",
       "        vertical-align: top;\n",
       "    }\n",
       "\n",
       "    .dataframe thead th {\n",
       "        text-align: right;\n",
       "    }\n",
       "</style>\n",
       "<table border=\"1\" class=\"dataframe\">\n",
       "  <thead>\n",
       "    <tr style=\"text-align: right;\">\n",
       "      <th></th>\n",
       "    </tr>\n",
       "  </thead>\n",
       "  <tbody>\n",
       "  </tbody>\n",
       "</table>\n",
       "</div>"
      ],
      "text/plain": [
       "Empty DataFrame\n",
       "Columns: []\n",
       "Index: []"
      ]
     },
     "execution_count": 82,
     "metadata": {},
     "output_type": "execute_result"
    }
   ],
   "source": [
    "%%bigquery\n",
    "create or replace table H_1B_refined.Application as\n",
    "select CASE_NUMBER, CASE_STATUS, CAST(CASE_SUBMITTED AS DATE) as CASE_SUBMITTED, CAST(DECESION_DATE AS DATE) as DECESION_DATE, VISA_CLASS, employer_name, employer_city\n",
    "from H_1B_refined.Application\n",
    "where DECESION_DATE is not NULL AND CASE_SUBMITTED is not NULL"
   ]
  },
  {
   "cell_type": "markdown",
   "metadata": {},
   "source": [
    "## Explore data"
   ]
  },
  {
   "cell_type": "markdown",
   "metadata": {},
   "source": [
    "#### 1. Find job titles that have yearly prevailing wage higher than average of yearly prevailing wage where yearly prevailing wage is greater than 100000. Drop duplicates in job title and desc order by prevailing_wage_YR, and limit the output by 20."
   ]
  },
  {
   "cell_type": "code",
   "execution_count": 132,
   "metadata": {},
   "outputs": [
    {
     "data": {
      "text/html": [
       "<div>\n",
       "<style scoped>\n",
       "    .dataframe tbody tr th:only-of-type {\n",
       "        vertical-align: middle;\n",
       "    }\n",
       "\n",
       "    .dataframe tbody tr th {\n",
       "        vertical-align: top;\n",
       "    }\n",
       "\n",
       "    .dataframe thead th {\n",
       "        text-align: right;\n",
       "    }\n",
       "</style>\n",
       "<table border=\"1\" class=\"dataframe\">\n",
       "  <thead>\n",
       "    <tr style=\"text-align: right;\">\n",
       "      <th></th>\n",
       "      <th>job_title</th>\n",
       "      <th>prevailing_wage_YR</th>\n",
       "    </tr>\n",
       "  </thead>\n",
       "  <tbody>\n",
       "    <tr>\n",
       "      <th>0</th>\n",
       "      <td>U.S. LEGAL ASSISTANT</td>\n",
       "      <td>1.000000e+09</td>\n",
       "    </tr>\n",
       "    <tr>\n",
       "      <th>1</th>\n",
       "      <td>PROJECT MANAGER</td>\n",
       "      <td>8.201323e+08</td>\n",
       "    </tr>\n",
       "    <tr>\n",
       "      <th>2</th>\n",
       "      <td>PROGRAMMER/ANALYST</td>\n",
       "      <td>6.169317e+08</td>\n",
       "    </tr>\n",
       "    <tr>\n",
       "      <th>3</th>\n",
       "      <td>RESEARCH ASSOCIATE</td>\n",
       "      <td>4.134726e+08</td>\n",
       "    </tr>\n",
       "    <tr>\n",
       "      <th>4</th>\n",
       "      <td>CONSULTANT LEVEL 3</td>\n",
       "      <td>2.016227e+08</td>\n",
       "    </tr>\n",
       "    <tr>\n",
       "      <th>5</th>\n",
       "      <td>MARKETING MANAGER</td>\n",
       "      <td>1.375920e+07</td>\n",
       "    </tr>\n",
       "    <tr>\n",
       "      <th>6</th>\n",
       "      <td>CLINICAL DIRECTOR OF ADULT MEDICINE</td>\n",
       "      <td>1.029390e+07</td>\n",
       "    </tr>\n",
       "    <tr>\n",
       "      <th>7</th>\n",
       "      <td>SOFTWARE ENGINEER</td>\n",
       "      <td>9.110400e+06</td>\n",
       "    </tr>\n",
       "    <tr>\n",
       "      <th>8</th>\n",
       "      <td>MARKET RESEARCH ANALYST</td>\n",
       "      <td>8.958600e+06</td>\n",
       "    </tr>\n",
       "    <tr>\n",
       "      <th>9</th>\n",
       "      <td>MANAGING CONSULTANT</td>\n",
       "      <td>8.937800e+06</td>\n",
       "    </tr>\n",
       "    <tr>\n",
       "      <th>10</th>\n",
       "      <td>ARCHITECT 3</td>\n",
       "      <td>8.927499e+06</td>\n",
       "    </tr>\n",
       "    <tr>\n",
       "      <th>11</th>\n",
       "      <td>PRINCIPLE RF ENGINEER</td>\n",
       "      <td>8.927400e+06</td>\n",
       "    </tr>\n",
       "    <tr>\n",
       "      <th>12</th>\n",
       "      <td>RF ENGINEER</td>\n",
       "      <td>8.927400e+06</td>\n",
       "    </tr>\n",
       "    <tr>\n",
       "      <th>13</th>\n",
       "      <td>IT AUDIT MANAGER</td>\n",
       "      <td>8.738100e+06</td>\n",
       "    </tr>\n",
       "    <tr>\n",
       "      <th>14</th>\n",
       "      <td>DEV/OPS ENGINEER</td>\n",
       "      <td>8.490600e+06</td>\n",
       "    </tr>\n",
       "    <tr>\n",
       "      <th>15</th>\n",
       "      <td>SOFTWARE DEVELOPER</td>\n",
       "      <td>7.049100e+06</td>\n",
       "    </tr>\n",
       "    <tr>\n",
       "      <th>16</th>\n",
       "      <td>RESEARCH SCIENTIST/ENGINEER</td>\n",
       "      <td>6.468800e+06</td>\n",
       "    </tr>\n",
       "    <tr>\n",
       "      <th>17</th>\n",
       "      <td>SOFTWARE ENGINEER</td>\n",
       "      <td>6.217100e+06</td>\n",
       "    </tr>\n",
       "    <tr>\n",
       "      <th>18</th>\n",
       "      <td>COMPUTER SYSTEMS ANALYST</td>\n",
       "      <td>6.169300e+06</td>\n",
       "    </tr>\n",
       "    <tr>\n",
       "      <th>19</th>\n",
       "      <td>PROGRAMMER ANALYST</td>\n",
       "      <td>6.077800e+06</td>\n",
       "    </tr>\n",
       "  </tbody>\n",
       "</table>\n",
       "</div>"
      ],
      "text/plain": [
       "                              job_title  prevailing_wage_YR\n",
       "0                  U.S. LEGAL ASSISTANT        1.000000e+09\n",
       "1                       PROJECT MANAGER        8.201323e+08\n",
       "2                    PROGRAMMER/ANALYST        6.169317e+08\n",
       "3                    RESEARCH ASSOCIATE        4.134726e+08\n",
       "4                    CONSULTANT LEVEL 3        2.016227e+08\n",
       "5                     MARKETING MANAGER        1.375920e+07\n",
       "6   CLINICAL DIRECTOR OF ADULT MEDICINE        1.029390e+07\n",
       "7                     SOFTWARE ENGINEER        9.110400e+06\n",
       "8               MARKET RESEARCH ANALYST        8.958600e+06\n",
       "9                   MANAGING CONSULTANT        8.937800e+06\n",
       "10                          ARCHITECT 3        8.927499e+06\n",
       "11                PRINCIPLE RF ENGINEER        8.927400e+06\n",
       "12                          RF ENGINEER        8.927400e+06\n",
       "13                     IT AUDIT MANAGER        8.738100e+06\n",
       "14                     DEV/OPS ENGINEER        8.490600e+06\n",
       "15                   SOFTWARE DEVELOPER        7.049100e+06\n",
       "16          RESEARCH SCIENTIST/ENGINEER        6.468800e+06\n",
       "17                    SOFTWARE ENGINEER        6.217100e+06\n",
       "18             COMPUTER SYSTEMS ANALYST        6.169300e+06\n",
       "19                   PROGRAMMER ANALYST        6.077800e+06"
      ]
     },
     "execution_count": 132,
     "metadata": {},
     "output_type": "execute_result"
    }
   ],
   "source": [
    "%%bigquery\n",
    "SELECT DISTINCT job_title, prevailing_wage_YR\n",
    "FROM H_1B_refined.Occupation as occ\n",
    "WHERE occ.prevailing_wage_YR > (\n",
    "                    SELECT avg(prevailing_wage_YR)\n",
    "                    FROM H_1B_refined.Occupation\n",
    "                    WHERE prevailing_wage_YR > 100000\n",
    "                    )\n",
    "ORDER BY prevailing_wage_YR DESC\n",
    "LIMIT 20;"
   ]
  },
  {
   "cell_type": "markdown",
   "metadata": {},
   "source": [
    "#### 2. Find occupational title, employer's name and average total employment which is greater than 100000 and the employers are not willful_violator. Then sort by the average of total employment. Which employer and its occupational title have highest avg total employment?"
   ]
  },
  {
   "cell_type": "code",
   "execution_count": 134,
   "metadata": {},
   "outputs": [
    {
     "data": {
      "text/html": [
       "<div>\n",
       "<style scoped>\n",
       "    .dataframe tbody tr th:only-of-type {\n",
       "        vertical-align: middle;\n",
       "    }\n",
       "\n",
       "    .dataframe tbody tr th {\n",
       "        vertical-align: top;\n",
       "    }\n",
       "\n",
       "    .dataframe thead th {\n",
       "        text-align: right;\n",
       "    }\n",
       "</style>\n",
       "<table border=\"1\" class=\"dataframe\">\n",
       "  <thead>\n",
       "    <tr style=\"text-align: right;\">\n",
       "      <th></th>\n",
       "      <th>occ_title</th>\n",
       "      <th>employer_name</th>\n",
       "      <th>avg_total_employment</th>\n",
       "    </tr>\n",
       "  </thead>\n",
       "  <tbody>\n",
       "    <tr>\n",
       "      <th>0</th>\n",
       "      <td>General and Operations Managers</td>\n",
       "      <td>GVHB</td>\n",
       "      <td>2.177170e+06</td>\n",
       "    </tr>\n",
       "    <tr>\n",
       "      <th>1</th>\n",
       "      <td>Accountants and Auditors</td>\n",
       "      <td>1</td>\n",
       "      <td>1.232338e+06</td>\n",
       "    </tr>\n",
       "    <tr>\n",
       "      <th>2</th>\n",
       "      <td>Software Developers, Applications</td>\n",
       "      <td>ELWYN</td>\n",
       "      <td>8.041223e+05</td>\n",
       "    </tr>\n",
       "    <tr>\n",
       "      <th>3</th>\n",
       "      <td>Coaches and Scouts</td>\n",
       "      <td>MILLIGAN COLLEGE</td>\n",
       "      <td>2.269707e+05</td>\n",
       "    </tr>\n",
       "    <tr>\n",
       "      <th>4</th>\n",
       "      <td>Coaches and Scouts</td>\n",
       "      <td>NIAGARA UNIVERSITY</td>\n",
       "      <td>2.269707e+05</td>\n",
       "    </tr>\n",
       "    <tr>\n",
       "      <th>5</th>\n",
       "      <td>Health Specialties Teachers, Postsecondary</td>\n",
       "      <td>LINCOLN UNIVERSITY</td>\n",
       "      <td>1.868121e+05</td>\n",
       "    </tr>\n",
       "    <tr>\n",
       "      <th>6</th>\n",
       "      <td>Mental Health Counselors</td>\n",
       "      <td>ELWYN</td>\n",
       "      <td>1.297491e+05</td>\n",
       "    </tr>\n",
       "    <tr>\n",
       "      <th>7</th>\n",
       "      <td>Occupational Therapists</td>\n",
       "      <td>ELWYN</td>\n",
       "      <td>1.192115e+05</td>\n",
       "    </tr>\n",
       "    <tr>\n",
       "      <th>8</th>\n",
       "      <td>Database Administrators</td>\n",
       "      <td>ELWYN</td>\n",
       "      <td>1.126900e+05</td>\n",
       "    </tr>\n",
       "    <tr>\n",
       "      <th>9</th>\n",
       "      <td>Clinical, Counseling, and School Psychologists</td>\n",
       "      <td>ELWYN</td>\n",
       "      <td>1.073720e+05</td>\n",
       "    </tr>\n",
       "  </tbody>\n",
       "</table>\n",
       "</div>"
      ],
      "text/plain": [
       "                                        occ_title       employer_name  \\\n",
       "0                 General and Operations Managers                GVHB   \n",
       "1                        Accountants and Auditors                   1   \n",
       "2               Software Developers, Applications               ELWYN   \n",
       "3                              Coaches and Scouts    MILLIGAN COLLEGE   \n",
       "4                              Coaches and Scouts  NIAGARA UNIVERSITY   \n",
       "5      Health Specialties Teachers, Postsecondary  LINCOLN UNIVERSITY   \n",
       "6                        Mental Health Counselors               ELWYN   \n",
       "7                         Occupational Therapists               ELWYN   \n",
       "8                         Database Administrators               ELWYN   \n",
       "9  Clinical, Counseling, and School Psychologists               ELWYN   \n",
       "\n",
       "   avg_total_employment  \n",
       "0          2.177170e+06  \n",
       "1          1.232338e+06  \n",
       "2          8.041223e+05  \n",
       "3          2.269707e+05  \n",
       "4          2.269707e+05  \n",
       "5          1.868121e+05  \n",
       "6          1.297491e+05  \n",
       "7          1.192115e+05  \n",
       "8          1.126900e+05  \n",
       "9          1.073720e+05  "
      ]
     },
     "execution_count": 134,
     "metadata": {},
     "output_type": "execute_result"
    }
   ],
   "source": [
    "%%bigquery\n",
    "SELECT own.occ_title, emp.employer_name, AVG(own.tot_emp) as avg_total_employment\n",
    "FROM H_1B_refined.Ownership as own\n",
    "JOIN \n",
    "H_1B_refined.Occupation as occ ON own.occ_code = occ.soc_code\n",
    "JOIN\n",
    "H_1B_refined.Employer as emp ON occ.employer_name = emp.employer_name AND occ.employer_city = emp.employer_name\n",
    "WHERE own.tot_emp > 100000 AND emp.willful_violator = False\n",
    "GROUP BY own.occ_title, emp.employer_name\n",
    "ORDER BY avg_total_employment DESC\n",
    "LIMIT 20;"
   ]
  },
  {
   "cell_type": "markdown",
   "metadata": {},
   "source": [
    "#### 3. Find employers who are h-1b dependent employer and whose city is in AUSTIN. The employers are those who are not included in willful violator list. Order the result by descending order and limit the ouput by 20.  "
   ]
  },
  {
   "cell_type": "code",
   "execution_count": 54,
   "metadata": {},
   "outputs": [
    {
     "data": {
      "text/html": [
       "<div>\n",
       "<style scoped>\n",
       "    .dataframe tbody tr th:only-of-type {\n",
       "        vertical-align: middle;\n",
       "    }\n",
       "\n",
       "    .dataframe tbody tr th {\n",
       "        vertical-align: top;\n",
       "    }\n",
       "\n",
       "    .dataframe thead th {\n",
       "        text-align: right;\n",
       "    }\n",
       "</style>\n",
       "<table border=\"1\" class=\"dataframe\">\n",
       "  <thead>\n",
       "    <tr style=\"text-align: right;\">\n",
       "      <th></th>\n",
       "      <th>employer_name</th>\n",
       "      <th>employer_city</th>\n",
       "      <th>h_1b_dependent</th>\n",
       "    </tr>\n",
       "  </thead>\n",
       "  <tbody>\n",
       "    <tr>\n",
       "      <th>0</th>\n",
       "      <td>YANA SOFTWARE INC.</td>\n",
       "      <td>AUSTIN</td>\n",
       "      <td>True</td>\n",
       "    </tr>\n",
       "    <tr>\n",
       "      <th>1</th>\n",
       "      <td>YANA SOFTWARE INC</td>\n",
       "      <td>AUSTIN</td>\n",
       "      <td>True</td>\n",
       "    </tr>\n",
       "    <tr>\n",
       "      <th>2</th>\n",
       "      <td>VSION TECHNOLOGIES, INC.</td>\n",
       "      <td>AUSTIN</td>\n",
       "      <td>True</td>\n",
       "    </tr>\n",
       "    <tr>\n",
       "      <th>3</th>\n",
       "      <td>VRN TECHNOLOGIES LLC</td>\n",
       "      <td>AUSTIN</td>\n",
       "      <td>True</td>\n",
       "    </tr>\n",
       "    <tr>\n",
       "      <th>4</th>\n",
       "      <td>TTS SOLUTIONS,INC.</td>\n",
       "      <td>AUSTIN</td>\n",
       "      <td>True</td>\n",
       "    </tr>\n",
       "    <tr>\n",
       "      <th>5</th>\n",
       "      <td>TTS SOLUTIONS,INC</td>\n",
       "      <td>AUSTIN</td>\n",
       "      <td>True</td>\n",
       "    </tr>\n",
       "    <tr>\n",
       "      <th>6</th>\n",
       "      <td>TTS SOLUTIONS INC.</td>\n",
       "      <td>AUSTIN</td>\n",
       "      <td>True</td>\n",
       "    </tr>\n",
       "    <tr>\n",
       "      <th>7</th>\n",
       "      <td>TERRA TECHNOLOGY, LLC</td>\n",
       "      <td>AUSTIN</td>\n",
       "      <td>True</td>\n",
       "    </tr>\n",
       "    <tr>\n",
       "      <th>8</th>\n",
       "      <td>TECRA SYSTEMS, INC.</td>\n",
       "      <td>AUSTIN</td>\n",
       "      <td>True</td>\n",
       "    </tr>\n",
       "    <tr>\n",
       "      <th>9</th>\n",
       "      <td>TECHNOZANT LLC</td>\n",
       "      <td>AUSTIN</td>\n",
       "      <td>True</td>\n",
       "    </tr>\n",
       "    <tr>\n",
       "      <th>10</th>\n",
       "      <td>TAPROOT SOLUTIONS, INC.</td>\n",
       "      <td>AUSTIN</td>\n",
       "      <td>True</td>\n",
       "    </tr>\n",
       "    <tr>\n",
       "      <th>11</th>\n",
       "      <td>TAKE SOLUTIONS INC.</td>\n",
       "      <td>AUSTIN</td>\n",
       "      <td>True</td>\n",
       "    </tr>\n",
       "    <tr>\n",
       "      <th>12</th>\n",
       "      <td>STECK SYSTEMS, INC.</td>\n",
       "      <td>AUSTIN</td>\n",
       "      <td>True</td>\n",
       "    </tr>\n",
       "    <tr>\n",
       "      <th>13</th>\n",
       "      <td>SOFTWARE GLOBAL LTD.</td>\n",
       "      <td>AUSTIN</td>\n",
       "      <td>True</td>\n",
       "    </tr>\n",
       "    <tr>\n",
       "      <th>14</th>\n",
       "      <td>SICONTECH, INC.</td>\n",
       "      <td>AUSTIN</td>\n",
       "      <td>True</td>\n",
       "    </tr>\n",
       "    <tr>\n",
       "      <th>15</th>\n",
       "      <td>SHAKTI GROUP, INC.</td>\n",
       "      <td>AUSTIN</td>\n",
       "      <td>True</td>\n",
       "    </tr>\n",
       "    <tr>\n",
       "      <th>16</th>\n",
       "      <td>REDDWERKS CORP.</td>\n",
       "      <td>AUSTIN</td>\n",
       "      <td>True</td>\n",
       "    </tr>\n",
       "    <tr>\n",
       "      <th>17</th>\n",
       "      <td>M9 CONSULTING INC.</td>\n",
       "      <td>AUSTIN</td>\n",
       "      <td>True</td>\n",
       "    </tr>\n",
       "    <tr>\n",
       "      <th>18</th>\n",
       "      <td>LOM NETWORKS INC.</td>\n",
       "      <td>AUSTIN</td>\n",
       "      <td>True</td>\n",
       "    </tr>\n",
       "    <tr>\n",
       "      <th>19</th>\n",
       "      <td>IRUNWAY, INC.</td>\n",
       "      <td>AUSTIN</td>\n",
       "      <td>True</td>\n",
       "    </tr>\n",
       "  </tbody>\n",
       "</table>\n",
       "</div>"
      ],
      "text/plain": [
       "               employer_name employer_city  h_1b_dependent\n",
       "0         YANA SOFTWARE INC.        AUSTIN            True\n",
       "1          YANA SOFTWARE INC        AUSTIN            True\n",
       "2   VSION TECHNOLOGIES, INC.        AUSTIN            True\n",
       "3       VRN TECHNOLOGIES LLC        AUSTIN            True\n",
       "4         TTS SOLUTIONS,INC.        AUSTIN            True\n",
       "5          TTS SOLUTIONS,INC        AUSTIN            True\n",
       "6         TTS SOLUTIONS INC.        AUSTIN            True\n",
       "7      TERRA TECHNOLOGY, LLC        AUSTIN            True\n",
       "8        TECRA SYSTEMS, INC.        AUSTIN            True\n",
       "9             TECHNOZANT LLC        AUSTIN            True\n",
       "10   TAPROOT SOLUTIONS, INC.        AUSTIN            True\n",
       "11       TAKE SOLUTIONS INC.        AUSTIN            True\n",
       "12       STECK SYSTEMS, INC.        AUSTIN            True\n",
       "13      SOFTWARE GLOBAL LTD.        AUSTIN            True\n",
       "14           SICONTECH, INC.        AUSTIN            True\n",
       "15        SHAKTI GROUP, INC.        AUSTIN            True\n",
       "16           REDDWERKS CORP.        AUSTIN            True\n",
       "17        M9 CONSULTING INC.        AUSTIN            True\n",
       "18         LOM NETWORKS INC.        AUSTIN            True\n",
       "19             IRUNWAY, INC.        AUSTIN            True"
      ]
     },
     "execution_count": 54,
     "metadata": {},
     "output_type": "execute_result"
    }
   ],
   "source": [
    "%%bigquery\n",
    "SELECT DISTINCT employer_name, employer_city, h_1b_dependent\n",
    "FROM H_1B_refined.Employer\n",
    "WHERE h_1b_dependent = True AND employer_city=\"AUSTIN\" AND employer_name NOT IN (\n",
    "                    SELECT employer_name\n",
    "                    FROM H_1B_refined.Employer\n",
    "                    WHERE willful_violator=True)\n",
    "ORDER BY employer_name DESC\n",
    "LIMIT 20;"
   ]
  },
  {
   "cell_type": "markdown",
   "metadata": {},
   "source": [
    "#### 4. Find ownership, occupation title, and the count of the occupation titles where total emploment is greater than 1000000 and its group is not minor. Also, filter out those occupational titles whose annual wage mean is greater than its annual prevailing wage. Order the result by thecount of the occupation titles and limit the result by 20. "
   ]
  },
  {
   "cell_type": "code",
   "execution_count": 76,
   "metadata": {},
   "outputs": [
    {
     "data": {
      "text/html": [
       "<div>\n",
       "<style scoped>\n",
       "    .dataframe tbody tr th:only-of-type {\n",
       "        vertical-align: middle;\n",
       "    }\n",
       "\n",
       "    .dataframe tbody tr th {\n",
       "        vertical-align: top;\n",
       "    }\n",
       "\n",
       "    .dataframe thead th {\n",
       "        text-align: right;\n",
       "    }\n",
       "</style>\n",
       "<table border=\"1\" class=\"dataframe\">\n",
       "  <thead>\n",
       "    <tr style=\"text-align: right;\">\n",
       "      <th></th>\n",
       "      <th>ownership</th>\n",
       "      <th>occ_title</th>\n",
       "      <th>occ_title_count</th>\n",
       "    </tr>\n",
       "  </thead>\n",
       "  <tbody>\n",
       "    <tr>\n",
       "      <th>0</th>\n",
       "      <td>State government</td>\n",
       "      <td>Accountants and Auditors</td>\n",
       "      <td>5357340</td>\n",
       "    </tr>\n",
       "    <tr>\n",
       "      <th>1</th>\n",
       "      <td>Private</td>\n",
       "      <td>Accountants and Auditors</td>\n",
       "      <td>5357340</td>\n",
       "    </tr>\n",
       "    <tr>\n",
       "      <th>2</th>\n",
       "      <td>Federal government</td>\n",
       "      <td>Accountants and Auditors</td>\n",
       "      <td>5357340</td>\n",
       "    </tr>\n",
       "    <tr>\n",
       "      <th>3</th>\n",
       "      <td>Local government</td>\n",
       "      <td>Accountants and Auditors</td>\n",
       "      <td>5357340</td>\n",
       "    </tr>\n",
       "    <tr>\n",
       "      <th>4</th>\n",
       "      <td>Federal, State, and Local government</td>\n",
       "      <td>Accountants and Auditors</td>\n",
       "      <td>5357340</td>\n",
       "    </tr>\n",
       "    <tr>\n",
       "      <th>5</th>\n",
       "      <td>Federal government</td>\n",
       "      <td>General and Operations Managers</td>\n",
       "      <td>767140</td>\n",
       "    </tr>\n",
       "    <tr>\n",
       "      <th>6</th>\n",
       "      <td>Private</td>\n",
       "      <td>General and Operations Managers</td>\n",
       "      <td>767140</td>\n",
       "    </tr>\n",
       "    <tr>\n",
       "      <th>7</th>\n",
       "      <td>Local government</td>\n",
       "      <td>General and Operations Managers</td>\n",
       "      <td>767140</td>\n",
       "    </tr>\n",
       "    <tr>\n",
       "      <th>8</th>\n",
       "      <td>State government</td>\n",
       "      <td>General and Operations Managers</td>\n",
       "      <td>767140</td>\n",
       "    </tr>\n",
       "    <tr>\n",
       "      <th>9</th>\n",
       "      <td>Federal, State, and Local government</td>\n",
       "      <td>General and Operations Managers</td>\n",
       "      <td>767140</td>\n",
       "    </tr>\n",
       "    <tr>\n",
       "      <th>10</th>\n",
       "      <td>Local government</td>\n",
       "      <td>Business Operations Specialists, All Other</td>\n",
       "      <td>236060</td>\n",
       "    </tr>\n",
       "    <tr>\n",
       "      <th>11</th>\n",
       "      <td>Private</td>\n",
       "      <td>Business Operations Specialists, All Other</td>\n",
       "      <td>236060</td>\n",
       "    </tr>\n",
       "    <tr>\n",
       "      <th>12</th>\n",
       "      <td>State government</td>\n",
       "      <td>Business Operations Specialists, All Other</td>\n",
       "      <td>236060</td>\n",
       "    </tr>\n",
       "    <tr>\n",
       "      <th>13</th>\n",
       "      <td>Federal government</td>\n",
       "      <td>Business Operations Specialists, All Other</td>\n",
       "      <td>236060</td>\n",
       "    </tr>\n",
       "    <tr>\n",
       "      <th>14</th>\n",
       "      <td>Federal, State, and Local government</td>\n",
       "      <td>Business Operations Specialists, All Other</td>\n",
       "      <td>236060</td>\n",
       "    </tr>\n",
       "    <tr>\n",
       "      <th>15</th>\n",
       "      <td>State government</td>\n",
       "      <td>Elementary School Teachers, Except Special Edu...</td>\n",
       "      <td>196975</td>\n",
       "    </tr>\n",
       "    <tr>\n",
       "      <th>16</th>\n",
       "      <td>Federal, State, and Local government</td>\n",
       "      <td>Elementary School Teachers, Except Special Edu...</td>\n",
       "      <td>196975</td>\n",
       "    </tr>\n",
       "    <tr>\n",
       "      <th>17</th>\n",
       "      <td>Private</td>\n",
       "      <td>Elementary School Teachers, Except Special Edu...</td>\n",
       "      <td>196975</td>\n",
       "    </tr>\n",
       "    <tr>\n",
       "      <th>18</th>\n",
       "      <td>Local government</td>\n",
       "      <td>Elementary School Teachers, Except Special Edu...</td>\n",
       "      <td>196975</td>\n",
       "    </tr>\n",
       "    <tr>\n",
       "      <th>19</th>\n",
       "      <td>Federal government</td>\n",
       "      <td>Registered Nurses</td>\n",
       "      <td>111407</td>\n",
       "    </tr>\n",
       "  </tbody>\n",
       "</table>\n",
       "</div>"
      ],
      "text/plain": [
       "                               ownership  \\\n",
       "0                       State government   \n",
       "1                                Private   \n",
       "2                     Federal government   \n",
       "3                       Local government   \n",
       "4   Federal, State, and Local government   \n",
       "5                     Federal government   \n",
       "6                                Private   \n",
       "7                       Local government   \n",
       "8                       State government   \n",
       "9   Federal, State, and Local government   \n",
       "10                      Local government   \n",
       "11                               Private   \n",
       "12                      State government   \n",
       "13                    Federal government   \n",
       "14  Federal, State, and Local government   \n",
       "15                      State government   \n",
       "16  Federal, State, and Local government   \n",
       "17                               Private   \n",
       "18                      Local government   \n",
       "19                    Federal government   \n",
       "\n",
       "                                            occ_title  occ_title_count  \n",
       "0                            Accountants and Auditors          5357340  \n",
       "1                            Accountants and Auditors          5357340  \n",
       "2                            Accountants and Auditors          5357340  \n",
       "3                            Accountants and Auditors          5357340  \n",
       "4                            Accountants and Auditors          5357340  \n",
       "5                     General and Operations Managers           767140  \n",
       "6                     General and Operations Managers           767140  \n",
       "7                     General and Operations Managers           767140  \n",
       "8                     General and Operations Managers           767140  \n",
       "9                     General and Operations Managers           767140  \n",
       "10         Business Operations Specialists, All Other           236060  \n",
       "11         Business Operations Specialists, All Other           236060  \n",
       "12         Business Operations Specialists, All Other           236060  \n",
       "13         Business Operations Specialists, All Other           236060  \n",
       "14         Business Operations Specialists, All Other           236060  \n",
       "15  Elementary School Teachers, Except Special Edu...           196975  \n",
       "16  Elementary School Teachers, Except Special Edu...           196975  \n",
       "17  Elementary School Teachers, Except Special Edu...           196975  \n",
       "18  Elementary School Teachers, Except Special Edu...           196975  \n",
       "19                                  Registered Nurses           111407  "
      ]
     },
     "execution_count": 76,
     "metadata": {},
     "output_type": "execute_result"
    }
   ],
   "source": [
    "%%bigquery\n",
    "SELECT own.ownership, own.occ_title, COUNT(own.occ_title) as occ_title_count\n",
    "FROM H_1B_refined.Ownership as own\n",
    "JOIN H_1B_refined.Occupation as occ ON own.occ_code = occ.soc_code\n",
    "WHERE own.tot_emp > 1000000 AND own.grp != \"minor\" AND own.a_mean > occ.prevailing_wage_YR\n",
    "GROUP BY own.ownership, own.occ_title\n",
    "ORDER BY occ_title_count DESC\n",
    "LIMIT 20;\n"
   ]
  },
  {
   "cell_type": "markdown",
   "metadata": {},
   "source": [
    "#### 5. Find ownerships whose sum of mean of annual wage is smaller than the sum of annual prevailing wage. Order by sum of annual wage mean in descending order and limit the output by 20."
   ]
  },
  {
   "cell_type": "code",
   "execution_count": 90,
   "metadata": {},
   "outputs": [
    {
     "data": {
      "text/html": [
       "<div>\n",
       "<style scoped>\n",
       "    .dataframe tbody tr th:only-of-type {\n",
       "        vertical-align: middle;\n",
       "    }\n",
       "\n",
       "    .dataframe tbody tr th {\n",
       "        vertical-align: top;\n",
       "    }\n",
       "\n",
       "    .dataframe thead th {\n",
       "        text-align: right;\n",
       "    }\n",
       "</style>\n",
       "<table border=\"1\" class=\"dataframe\">\n",
       "  <thead>\n",
       "    <tr style=\"text-align: right;\">\n",
       "      <th></th>\n",
       "      <th>ownership</th>\n",
       "      <th>sum_of_annual_wage_mean</th>\n",
       "    </tr>\n",
       "  </thead>\n",
       "  <tbody>\n",
       "    <tr>\n",
       "      <th>0</th>\n",
       "      <td>Private</td>\n",
       "      <td>4593113240</td>\n",
       "    </tr>\n",
       "    <tr>\n",
       "      <th>1</th>\n",
       "      <td>Federal, State, and Local government</td>\n",
       "      <td>4429273080</td>\n",
       "    </tr>\n",
       "    <tr>\n",
       "      <th>2</th>\n",
       "      <td>Local government</td>\n",
       "      <td>4213928470</td>\n",
       "    </tr>\n",
       "    <tr>\n",
       "      <th>3</th>\n",
       "      <td>State government</td>\n",
       "      <td>4115976430</td>\n",
       "    </tr>\n",
       "    <tr>\n",
       "      <th>4</th>\n",
       "      <td>Federal government</td>\n",
       "      <td>3226144580</td>\n",
       "    </tr>\n",
       "  </tbody>\n",
       "</table>\n",
       "</div>"
      ],
      "text/plain": [
       "                              ownership  sum_of_annual_wage_mean\n",
       "0                               Private               4593113240\n",
       "1  Federal, State, and Local government               4429273080\n",
       "2                      Local government               4213928470\n",
       "3                      State government               4115976430\n",
       "4                    Federal government               3226144580"
      ]
     },
     "execution_count": 90,
     "metadata": {},
     "output_type": "execute_result"
    }
   ],
   "source": [
    "%%bigquery\n",
    "SELECT own.ownership, SUM(own.a_mean) as sum_of_annual_wage_mean\n",
    "FROM H_1B_refined.Ownership as own\n",
    "GROUP BY own.ownership\n",
    "HAVING sum_of_annual_wage_mean < (\n",
    "                    SELECT SUM(prevailing_wage_YR)\n",
    "                    FROM H_1B_refined.Occupation as occ\n",
    "                    )\n",
    "ORDER BY sum_of_annual_wage_mean DESC\n",
    "LIMIT 20;"
   ]
  },
  {
   "cell_type": "markdown",
   "metadata": {},
   "source": [
    "## Create Views for number 2 and 3 from above"
   ]
  },
  {
   "cell_type": "code",
   "execution_count": 135,
   "metadata": {},
   "outputs": [
    {
     "data": {
      "text/html": [
       "<div>\n",
       "<style scoped>\n",
       "    .dataframe tbody tr th:only-of-type {\n",
       "        vertical-align: middle;\n",
       "    }\n",
       "\n",
       "    .dataframe tbody tr th {\n",
       "        vertical-align: top;\n",
       "    }\n",
       "\n",
       "    .dataframe thead th {\n",
       "        text-align: right;\n",
       "    }\n",
       "</style>\n",
       "<table border=\"1\" class=\"dataframe\">\n",
       "  <thead>\n",
       "    <tr style=\"text-align: right;\">\n",
       "      <th></th>\n",
       "    </tr>\n",
       "  </thead>\n",
       "  <tbody>\n",
       "  </tbody>\n",
       "</table>\n",
       "</div>"
      ],
      "text/plain": [
       "Empty DataFrame\n",
       "Columns: []\n",
       "Index: []"
      ]
     },
     "execution_count": 135,
     "metadata": {},
     "output_type": "execute_result"
    }
   ],
   "source": [
    "%%bigquery\n",
    "CREATE VIEW insights.v_Highet_Avg_Tot_Emp as \n",
    "SELECT own.occ_title, emp.employer_name, AVG(own.tot_emp) as avg_total_employment\n",
    "FROM H_1B_refined.Ownership as own\n",
    "JOIN \n",
    "H_1B_refined.Occupation as occ ON own.occ_code = occ.soc_code\n",
    "JOIN\n",
    "H_1B_refined.Employer as emp ON occ.employer_name = emp.employer_name AND occ.employer_city = emp.employer_name\n",
    "WHERE own.tot_emp > 100000 AND emp.willful_violator = False\n",
    "GROUP BY own.occ_title, emp.employer_name\n",
    "ORDER BY avg_total_employment DESC"
   ]
  },
  {
   "cell_type": "code",
   "execution_count": 31,
   "metadata": {},
   "outputs": [
    {
     "data": {
      "text/html": [
       "<div>\n",
       "<style scoped>\n",
       "    .dataframe tbody tr th:only-of-type {\n",
       "        vertical-align: middle;\n",
       "    }\n",
       "\n",
       "    .dataframe tbody tr th {\n",
       "        vertical-align: top;\n",
       "    }\n",
       "\n",
       "    .dataframe thead th {\n",
       "        text-align: right;\n",
       "    }\n",
       "</style>\n",
       "<table border=\"1\" class=\"dataframe\">\n",
       "  <thead>\n",
       "    <tr style=\"text-align: right;\">\n",
       "      <th></th>\n",
       "    </tr>\n",
       "  </thead>\n",
       "  <tbody>\n",
       "  </tbody>\n",
       "</table>\n",
       "</div>"
      ],
      "text/plain": [
       "Empty DataFrame\n",
       "Columns: []\n",
       "Index: []"
      ]
     },
     "execution_count": 31,
     "metadata": {},
     "output_type": "execute_result"
    }
   ],
   "source": [
    "%%bigquery\n",
    "CREATE VIEW insights.v_More_Emp_Occ as \n",
    "SELECT own.ownership, own.occ_title, COUNT(own.occ_title) as occ_title_count\n",
    "FROM H_1B_refined.Ownership as own\n",
    "JOIN H_1B_refined.Occupation as occ ON own.occ_code = occ.soc_code\n",
    "WHERE own.tot_emp > 1000000 AND own.grp != \"minor\" AND own.a_mean > occ.prevailing_wage_YR\n",
    "GROUP BY own.ownership, own.occ_title\n",
    "ORDER BY occ_title_count DESC"
   ]
  },
  {
   "cell_type": "markdown",
   "metadata": {},
   "source": [
    "## ERD"
   ]
  },
  {
   "cell_type": "markdown",
   "metadata": {},
   "source": [
    "### For ERD, we put our PK and FK candidates because in current stage, we do not have employer_id nor job_id. Because of this issue, even though we could have manually create PKs before we create modeled tables, we decided to use employer_name and employer_city (because there could be the same employer name in different location) as our temporary \"PK\"s so that we could perform JOIN function and connect the modeled tables in this stage. "
   ]
  },
  {
   "cell_type": "markdown",
   "metadata": {},
   "source": [
    "### But since the rubric says the PKs and FKs have to be supported by code, we included another ERD that kinda represents our code. (We know that we are putting PK on the element that has duplicates (job_title from Occupation table). We made this ERD just for the reference sake for us but thought this could give the representation of our code except the PK on job_title. "
   ]
  }
 ],
 "metadata": {
  "environment": {
   "name": "common-cpu.m56",
   "type": "gcloud",
   "uri": "gcr.io/deeplearning-platform-release/base-cpu:m56"
  },
  "kernelspec": {
   "display_name": "Python 3",
   "language": "python",
   "name": "python3"
  },
  "language_info": {
   "codemirror_mode": {
    "name": "ipython",
    "version": 3
   },
   "file_extension": ".py",
   "mimetype": "text/x-python",
   "name": "python",
   "nbconvert_exporter": "python",
   "pygments_lexer": "ipython3",
   "version": "3.7.8"
  }
 },
 "nbformat": 4,
 "nbformat_minor": 4
}
