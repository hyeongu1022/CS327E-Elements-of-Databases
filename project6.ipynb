{
 "cells": [
  {
   "cell_type": "code",
   "execution_count": 6,
   "metadata": {},
   "outputs": [
    {
     "name": "stdout",
     "output_type": "stream",
     "text": [
      "env: CYPHER=/home/jupyter/neo4j-community-4.1.3/bin/cypher-shell\n",
      "env: USER=neo4j\n",
      "env: PW=neo4j\n"
     ]
    }
   ],
   "source": [
    "%env CYPHER=/home/jupyter/neo4j-community-4.1.3/bin/cypher-shell\n",
    "%env USER=neo4j\n",
    "%env PW=neo4j"
   ]
  },
  {
   "cell_type": "code",
   "execution_count": 7,
   "metadata": {},
   "outputs": [],
   "source": [
    "CONNECT=\"$CYPHER -u $USER -p $PW\""
   ]
  },
  {
   "cell_type": "code",
   "execution_count": 8,
   "metadata": {},
   "outputs": [
    {
     "name": "stdout",
     "output_type": "stream",
     "text": [
      "+------------------------------------------------------------------------------------------------+\n",
      "| name     | address          | role         | requestedStatus | currentStatus | error | default |\n",
      "+------------------------------------------------------------------------------------------------+\n",
      "| \"neo4j\"  | \"localhost:7687\" | \"standalone\" | \"online\"        | \"online\"      | \"\"    | TRUE    |\n",
      "| \"system\" | \"localhost:7687\" | \"standalone\" | \"online\"        | \"online\"      | \"\"    | FALSE   |\n",
      "+------------------------------------------------------------------------------------------------+\n",
      "\n",
      "2 rows available after 7 ms, consumed after another 2 ms\n"
     ]
    }
   ],
   "source": [
    "!{CONNECT} \"SHOW DATABASES\""
   ]
  },
  {
   "cell_type": "code",
   "execution_count": 10,
   "metadata": {},
   "outputs": [
    {
     "name": "stdout",
     "output_type": "stream",
     "text": [
      "0 rows available after 13 ms, consumed after another 0 ms\n"
     ]
    }
   ],
   "source": [
    "!$CONNECT \"MATCH (n) DETACH DELETE n\""
   ]
  },
  {
   "cell_type": "code",
   "execution_count": 11,
   "metadata": {},
   "outputs": [
    {
     "name": "stdout",
     "output_type": "stream",
     "text": [
      "+--------------------------------------------------------------------------------------------------------------------------------------------------------------+\n",
      "| id | name                  | state    | populationPercent | uniqueness  | type    | entityType | labelsOrTypes    | properties          | provider           |\n",
      "+--------------------------------------------------------------------------------------------------------------------------------------------------------------+\n",
      "| 5  | \"constraint_3988c775\" | \"ONLINE\" | 100.0             | \"UNIQUE\"    | \"BTREE\" | \"NODE\"     | [\"Amenity\"]      | [\"name\"]            | \"native-btree-1.0\" |\n",
      "| 2  | \"constraint_3e37701d\" | \"ONLINE\" | 100.0             | \"UNIQUE\"    | \"BTREE\" | \"NODE\"     | [\"Host\"]         | [\"host_id\"]         | \"native-btree-1.0\" |\n",
      "| 1  | \"constraint_c0af93de\" | \"ONLINE\" | 100.0             | \"UNIQUE\"    | \"BTREE\" | \"NODE\"     | [\"User\"]         | [\"user_id\"]         | \"native-btree-1.0\" |\n",
      "| 3  | \"constraint_c2c3e4d2\" | \"ONLINE\" | 100.0             | \"UNIQUE\"    | \"BTREE\" | \"NODE\"     | [\"Neighborhood\"] | [\"neighborhood_id\"] | \"native-btree-1.0\" |\n",
      "| 4  | \"index_cc55e8e7\"      | \"ONLINE\" | 100.0             | \"NONUNIQUE\" | \"BTREE\" | \"NODE\"     | [\"Listing\"]      | [\"listing_id\"]      | \"native-btree-1.0\" |\n",
      "+--------------------------------------------------------------------------------------------------------------------------------------------------------------+\n",
      "\n",
      "5 rows available after 22 ms, consumed after another 4 ms\n",
      "0 rows available after 62 ms, consumed after another 0 ms\n",
      "Removed 1 indexes\n",
      "0 rows available after 18 ms, consumed after another 0 ms\n",
      "Removed 1 constraints\n",
      "0 rows available after 7 ms, consumed after another 0 ms\n",
      "Removed 1 constraints\n",
      "0 rows available after 6 ms, consumed after another 0 ms\n",
      "Removed 1 constraints\n",
      "0 rows available after 7 ms, consumed after another 0 ms\n",
      "Removed 1 constraints\n"
     ]
    }
   ],
   "source": [
    "!$CONNECT \"CALL db.indexes\"\n",
    "!$CONNECT \"DROP INDEX ON:Listing(listing_id)\"\n",
    "!$CONNECT \"DROP CONSTRAINT ON (a:Amenity) ASSERT a.name IS UNIQUE\"\n",
    "!$CONNECT \"DROP CONSTRAINT ON (h:Host) ASSERT h.host_id IS UNIQUE\"\n",
    "!$CONNECT \"DROP CONSTRAINT ON (u:User) ASSERT u.user_id IS UNIQUE\"\n",
    "!$CONNECT \"DROP CONSTRAINT ON (n:Neighborhood) ASSERT n.neighborhood_id IS UNIQUE\""
   ]
  },
  {
   "cell_type": "code",
   "execution_count": 12,
   "metadata": {},
   "outputs": [
    {
     "name": "stdout",
     "output_type": "stream",
     "text": [
      "COUNT(l)\n",
      "5835\n",
      "COUNT(a)\n",
      "42\n",
      "COUNT(n)\n",
      "41\n",
      "COUNT(h)\n",
      "4633\n",
      "COUNT(u)\n",
      "55917\n",
      "COUNT(r)\n",
      "62976\n"
     ]
    }
   ],
   "source": [
    "!cat /home/jupyter/airbnb/load_data.cypher | {CONNECT} --format plain"
   ]
  },
  {
   "cell_type": "code",
   "execution_count": 13,
   "metadata": {},
   "outputs": [
    {
     "name": "stdout",
     "output_type": "stream",
     "text": [
      "+----------+\n",
      "| COUNT(n) |\n",
      "+----------+\n",
      "| 129444   |\n",
      "+----------+\n",
      "\n",
      "1 row available after 12 ms, consumed after another 1 ms\n"
     ]
    }
   ],
   "source": [
    "!{CONNECT} \"MATCH (n) RETURN COUNT(n)\""
   ]
  },
  {
   "cell_type": "code",
   "execution_count": 14,
   "metadata": {},
   "outputs": [
    {
     "name": "stdout",
     "output_type": "stream",
     "text": [
      "+----------+\n",
      "| COUNT(l) |\n",
      "+----------+\n",
      "| 5835     |\n",
      "+----------+\n",
      "\n",
      "1 row available after 14 ms, consumed after another 0 ms\n"
     ]
    }
   ],
   "source": [
    "!{CONNECT} \"MATCH (l:Listing) RETURN COUNT(l)\""
   ]
  },
  {
   "cell_type": "code",
   "execution_count": 15,
   "metadata": {},
   "outputs": [
    {
     "name": "stdout",
     "output_type": "stream",
     "text": [
      "+----------+\n",
      "| COUNT(a) |\n",
      "+----------+\n",
      "| 42       |\n",
      "+----------+\n",
      "\n",
      "1 row available after 12 ms, consumed after another 0 ms\n"
     ]
    }
   ],
   "source": [
    "!{CONNECT} \"MATCH (a:Amenity) RETURN COUNT(a)\""
   ]
  },
  {
   "cell_type": "code",
   "execution_count": 16,
   "metadata": {},
   "outputs": [
    {
     "name": "stdout",
     "output_type": "stream",
     "text": [
      "+----------+\n",
      "| COUNT(n) |\n",
      "+----------+\n",
      "| 41       |\n",
      "+----------+\n",
      "\n",
      "1 row available after 13 ms, consumed after another 0 ms\n"
     ]
    }
   ],
   "source": [
    "!{CONNECT} \"MATCH (n:Neighborhood) RETURN COUNT(n)\""
   ]
  },
  {
   "cell_type": "code",
   "execution_count": 17,
   "metadata": {},
   "outputs": [
    {
     "name": "stdout",
     "output_type": "stream",
     "text": [
      "+----------+\n",
      "| COUNT(h) |\n",
      "+----------+\n",
      "| 4633     |\n",
      "+----------+\n",
      "\n",
      "1 row available after 14 ms, consumed after another 0 ms\n"
     ]
    }
   ],
   "source": [
    "!{CONNECT} \"MATCH (h:Host) RETURN COUNT(h)\""
   ]
  },
  {
   "cell_type": "code",
   "execution_count": 18,
   "metadata": {},
   "outputs": [
    {
     "name": "stdout",
     "output_type": "stream",
     "text": [
      "+----------+\n",
      "| COUNT(u) |\n",
      "+----------+\n",
      "| 55917    |\n",
      "+----------+\n",
      "\n",
      "1 row available after 9 ms, consumed after another 0 ms\n"
     ]
    }
   ],
   "source": [
    "!{CONNECT} \"MATCH (u:User) RETURN COUNT(u)\" "
   ]
  },
  {
   "cell_type": "code",
   "execution_count": 18,
   "metadata": {},
   "outputs": [
    {
     "name": "stdout",
     "output_type": "stream",
     "text": [
      "+----------+\n",
      "| COUNT(r) |\n",
      "+----------+\n",
      "| 62976    |\n",
      "+----------+\n",
      "\n",
      "1 row available after 8 ms, consumed after another 1 ms\n"
     ]
    }
   ],
   "source": [
    "!{CONNECT} \"MATCH (r:Review) RETURN COUNT(r)\""
   ]
  },
  {
   "cell_type": "markdown",
   "metadata": {},
   "source": [
    "## Q1"
   ]
  },
  {
   "cell_type": "code",
   "execution_count": 19,
   "metadata": {},
   "outputs": [
    {
     "name": "stdout",
     "output_type": "stream",
     "text": [
      "+----------+\n",
      "| COUNT(h) |\n",
      "+----------+\n",
      "| 3774     |\n",
      "+----------+\n",
      "\n",
      "1 row available after 13 ms, consumed after another 6 ms\n"
     ]
    }
   ],
   "source": [
    "!{CONNECT} \"MATCH (h:Host) WHERE h.location = 'Austin, Texas, United States' RETURN COUNT(h)\""
   ]
  },
  {
   "cell_type": "markdown",
   "metadata": {},
   "source": [
    "## Q2"
   ]
  },
  {
   "cell_type": "code",
   "execution_count": 20,
   "metadata": {},
   "outputs": [
    {
     "name": "stdout",
     "output_type": "stream",
     "text": [
      "+--------------------------------------------------------------------------------------+\n",
      "| l.name                                | l.property_type | l.price | availability_365 |\n",
      "+--------------------------------------------------------------------------------------+\n",
      "| \"1BR Convenient Austin Condo \"        | \"Apartment\"     | 93.0    | NULL             |\n",
      "| \"1BR Inviting Downtown Condo, Pool\"   | \"Apartment\"     | 99.0    | NULL             |\n",
      "| \"2BR/1.5BA Charming House Off SoCo\"   | \"House\"         | 110.0   | NULL             |\n",
      "| \"2BR Prime East-Side Downtown\"        | \"House\"         | 121.0   | NULL             |\n",
      "| \"1BR SoCo Treehouse Studio\"           | \"House\"         | 129.0   | NULL             |\n",
      "| \"1BR/1.5BA East 6th, Colorful 2Story\" | \"Apartment\"     | 134.0   | NULL             |\n",
      "| \"3BR Prestigious Home Travis Heights\" | \"House\"         | 138.0   | NULL             |\n",
      "| \"1BR/1.5BA Perfectly Located Casita\"  | \"House\"         | 140.0   | NULL             |\n",
      "| \"3BR/2BA Inviting Retreat off SoCo\"   | \"House\"         | 145.0   | NULL             |\n",
      "| \"2BR/2BA Austin Soul Off Soco!\"       | \"House\"         | 149.0   | NULL             |\n",
      "+--------------------------------------------------------------------------------------+\n",
      "\n",
      "10 rows available after 49 ms, consumed after another 5 ms\n"
     ]
    }
   ],
   "source": [
    "!{CONNECT} \"MATCH (l:Listing)<-[:HOSTS]-(h:Host) WHERE h.host_id = '4641823' RETURN l.name, l.property_type, l.price, l.availabiliity_365 AS availability_365 ORDER BY l.price LIMIT 10\"\n"
   ]
  },
  {
   "cell_type": "markdown",
   "metadata": {},
   "source": [
    "## Q3"
   ]
  },
  {
   "cell_type": "code",
   "execution_count": 21,
   "metadata": {},
   "outputs": [
    {
     "name": "stdout",
     "output_type": "stream",
     "text": [
      "+--------------------------+\n",
      "| u.id | u.name            |\n",
      "+--------------------------+\n",
      "| NULL | \"Annie\"           |\n",
      "| NULL | \"Carole\"          |\n",
      "| NULL | \"Cory\"            |\n",
      "| NULL | \"Craig And Trina\" |\n",
      "| NULL | \"Dianne\"          |\n",
      "| NULL | \"Hannah\"          |\n",
      "| NULL | \"Jacob\"           |\n",
      "| NULL | \"Jessie\"          |\n",
      "| NULL | \"Johannes\"        |\n",
      "| NULL | \"Ju-Ju\"           |\n",
      "+--------------------------+\n",
      "\n",
      "10 rows available after 85 ms, consumed after another 2 ms\n"
     ]
    }
   ],
   "source": [
    "!{CONNECT} \"MATCH (u:User)-[:WROTE]->(r:Review)-[:REVIEWS]->(l:Listing) WHERE l.listing_id = '5293632' RETURN u.id, u.name ORDER BY u.name LIMIT 10\"\n"
   ]
  },
  {
   "cell_type": "markdown",
   "metadata": {},
   "source": [
    "## Q4"
   ]
  },
  {
   "cell_type": "code",
   "execution_count": 25,
   "metadata": {},
   "outputs": [
    {
     "name": "stdout",
     "output_type": "stream",
     "text": [
      "+------------------+\n",
      "| u.id | u.name    |\n",
      "+------------------+\n",
      "| NULL | \"Andrew\"  |\n",
      "| NULL | \"Bryan\"   |\n",
      "| NULL | \"Cindy\"   |\n",
      "| NULL | \"Henrik\"  |\n",
      "| NULL | \"Scott\"   |\n",
      "| NULL | \"Thaniya\" |\n",
      "| NULL | \"Warren\"  |\n",
      "+------------------+\n",
      "\n",
      "7 rows available after 90 ms, consumed after another 7 ms\n"
     ]
    }
   ],
   "source": [
    "!{CONNECT} \"MATCH (u:User)-[:WROTE]->(r:Review)-[:REVIEWS]->(l:Listing)-[:HAS]->(a:Amenity) WHERE a.name CONTAINS 'Washer' AND a.name CONTAINS 'Dryer' RETURN u.id, u.name ORDER BY u.name LIMIT 10\""
   ]
  },
  {
   "cell_type": "markdown",
   "metadata": {},
   "source": [
    "## Q5"
   ]
  },
  {
   "cell_type": "code",
   "execution_count": 46,
   "metadata": {},
   "outputs": [
    {
     "name": "stdout",
     "output_type": "stream",
     "text": [
      "+--------------------------------------------------------------------------------------+\n",
      "| l.name                                | l.property_type | l.price | availability_365 |\n",
      "+--------------------------------------------------------------------------------------+\n",
      "| \"3BR/2.5BA Exquisite Townhouse\"       | \"House\"         | 222.0   | NULL             |\n",
      "| \"3BR/2.5BA Tarrytown Duplex, Austin!\" | \"House\"         | 249.0   | NULL             |\n",
      "| \"Austin downtown hideaway\"            | \"House\"         | 249.0   | NULL             |\n",
      "| \"3BD Luxury Cottage by Lake Austin\"   | \"House\"         | 290.0   | NULL             |\n",
      "| \"Entire Adorable Downtown House\"      | \"House\"         | 295.0   | NULL             |\n",
      "+--------------------------------------------------------------------------------------+\n",
      "\n",
      "5 rows available after 1 ms, consumed after another 2 ms\n"
     ]
    }
   ],
   "source": [
    "!{CONNECT} \"MATCH (l:Listing)-[:IN_NEIGHBORHOOD]->(n:Neighborhood) WHERE l.bedrooms = 3 AND n.name = 'Clarksville' RETURN l.name, l.property_type, l.price, l.availabiliity_365 AS availability_365 ORDER BY l.price LIMIT 5\"\n"
   ]
  },
  {
   "cell_type": "markdown",
   "metadata": {},
   "source": [
    "## Q6"
   ]
  },
  {
   "cell_type": "code",
   "execution_count": 43,
   "metadata": {},
   "outputs": [
    {
     "name": "stdout",
     "output_type": "stream",
     "text": [
      "+-----------------------------------+\n",
      "| a.name                     | freq |\n",
      "+-----------------------------------+\n",
      "| \"Air Conditioning\"         | 5615 |\n",
      "| \"Wireless Internet\"        | 5479 |\n",
      "| \"Heating\"                  | 5440 |\n",
      "| \"Kitchen\"                  | 5400 |\n",
      "| \"Free Parking on Premises\" | 5123 |\n",
      "+-----------------------------------+\n",
      "\n",
      "5 rows available after 21 ms, consumed after another 209 ms\n"
     ]
    }
   ],
   "source": [
    "!{CONNECT} \"MATCH (l:Listing)-[:HAS]->(a:Amenity) RETURN a.name, COUNT(*) AS freq ORDER BY freq DESC LIMIT 5\""
   ]
  },
  {
   "cell_type": "markdown",
   "metadata": {},
   "source": [
    "## Q7"
   ]
  },
  {
   "cell_type": "code",
   "execution_count": 44,
   "metadata": {},
   "outputs": [
    {
     "name": "stdout",
     "output_type": "stream",
     "text": [
      "+----------------------------------------------------+\n",
      "| n.name           | n.neighborhood_id | listing_num |\n",
      "+----------------------------------------------------+\n",
      "| NULL             | \"78704\"           | 1601        |\n",
      "| NULL             | \"78702\"           | 797         |\n",
      "| \"Clarksville\"    | \"78703\"           | 419         |\n",
      "| \"East Riverside\" | \"78741\"           | 414         |\n",
      "| NULL             | \"78745\"           | 328         |\n",
      "+----------------------------------------------------+\n",
      "\n",
      "5 rows available after 22 ms, consumed after another 29 ms\n"
     ]
    }
   ],
   "source": [
    "!{CONNECT} \"MATCH (n:Neighborhood)<-[:IN_NEIGHBORHOOD]-(l:Listing) RETURN n.name, n.neighborhood_id, COUNT(*) AS listing_num ORDER BY listing_num DESC LIMIT 5\"\n"
   ]
  },
  {
   "cell_type": "code",
   "execution_count": null,
   "metadata": {},
   "outputs": [],
   "source": []
  }
 ],
 "metadata": {
  "environment": {
   "name": "common-cpu.m56",
   "type": "gcloud",
   "uri": "gcr.io/deeplearning-platform-release/base-cpu:m56"
  },
  "kernelspec": {
   "display_name": "Python 3",
   "language": "python",
   "name": "python3"
  },
  "language_info": {
   "codemirror_mode": {
    "name": "ipython",
    "version": 3
   },
   "file_extension": ".py",
   "mimetype": "text/x-python",
   "name": "python",
   "nbconvert_exporter": "python",
   "pygments_lexer": "ipython3",
   "version": "3.7.8"
  }
 },
 "nbformat": 4,
 "nbformat_minor": 4
}
