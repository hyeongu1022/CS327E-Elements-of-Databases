{
 "cells": [
  {
   "cell_type": "code",
   "execution_count": 227,
   "metadata": {},
   "outputs": [],
   "source": [
    "dataset_id = \"ucis_staging\""
   ]
  },
  {
   "cell_type": "code",
   "execution_count": 228,
   "metadata": {},
   "outputs": [
    {
     "name": "stdout",
     "output_type": "stream",
     "text": [
      "BigQuery error in mk operation: Dataset 'skilful-wording-288303:ucis_staging'\n",
      "already exists.\n"
     ]
    }
   ],
   "source": [
    "!bq --location=US mk --dataset {dataset_id}"
   ]
  },
  {
   "cell_type": "markdown",
   "metadata": {},
   "source": [
    "## H-1B Dataset"
   ]
  },
  {
   "cell_type": "code",
   "execution_count": 230,
   "metadata": {},
   "outputs": [
    {
     "name": "stdout",
     "output_type": "stream",
     "text": [
      "Waiting on bqjob_r42120c65ddac8a2c_000001759ca31a43_1 ... (1s) Current status: DONE   \n"
     ]
    }
   ],
   "source": [
    "!bq --location=US load --skip_leading_rows=1 --allow_jagged_rows=true --source_format=CSV {dataset_id}.H1_09 \\\n",
    "'gs://h_1b/h_1b_dataset/h1b_datahubexport-2009.csv' \\\n",
    "fiscal_year:INTEGER,employer:STRING,initial_approval:INTEGER,initial_denials:INTEGER,continuing_approval:INTEGER,continuing_denials:INTEGER,naics:STRING,tax_id:STRING,state:STRING,city:STRING,zip_code:STRING\n",
    "                        "
   ]
  },
  {
   "cell_type": "code",
   "execution_count": 231,
   "metadata": {},
   "outputs": [
    {
     "name": "stdout",
     "output_type": "stream",
     "text": [
      "Waiting on bqjob_r1758cf807fc9e93d_000001759ca49755_1 ... (2s) Current status: DONE   \n"
     ]
    }
   ],
   "source": [
    "!bq --location=US load --skip_leading_rows=1 --allow_jagged_rows=true --source_format=CSV {dataset_id}.H1_10 \\\n",
    "'gs://h_1b/h_1b_dataset/h1b_datahubexport-2010.csv' \\\n",
    "fiscal_year:INTEGER,employer:STRING,initial_approval:INTEGER,initial_denials:INTEGER,continuing_approval:INTEGER,continuing_denials:INTEGER,naics:STRING,tax_id:STRING,state:STRING,city:STRING,zip_code:STRING\n",
    "                        "
   ]
  },
  {
   "cell_type": "code",
   "execution_count": 232,
   "metadata": {},
   "outputs": [
    {
     "name": "stdout",
     "output_type": "stream",
     "text": [
      "Waiting on bqjob_r785a9692fa498ee_000001759ca4b906_1 ... (2s) Current status: DONE   \n"
     ]
    }
   ],
   "source": [
    "!bq --location=US load --skip_leading_rows=1 --allow_jagged_rows=true --source_format=CSV {dataset_id}.H1_11 \\\n",
    "'gs://h_1b/h_1b_dataset/h1b_datahubexport-2011.csv' \\\n",
    "fiscal_year:INTEGER,employer:STRING,initial_approval:INTEGER,initial_denials:INTEGER,continuing_approval:INTEGER,continuing_denials:INTEGER,naics:STRING,tax_id:STRING,state:STRING,city:STRING,zip_code:STRING\n",
    "                        "
   ]
  },
  {
   "cell_type": "code",
   "execution_count": 233,
   "metadata": {},
   "outputs": [
    {
     "name": "stdout",
     "output_type": "stream",
     "text": [
      "Waiting on bqjob_r6f9b11063a969434_000001759ca4d920_1 ... (2s) Current status: DONE   \n"
     ]
    }
   ],
   "source": [
    "!bq --location=US load --skip_leading_rows=1 --allow_jagged_rows=true --source_format=CSV {dataset_id}.H1_12 \\\n",
    "'gs://h_1b/h_1b_dataset/h1b_datahubexport-2012.csv' \\\n",
    "fiscal_year:INTEGER,employer:STRING,initial_approval:INTEGER,initial_denials:INTEGER,continuing_approval:INTEGER,continuing_denials:INTEGER,naics:STRING,tax_id:STRING,state:STRING,city:STRING,zip_code:STRING\n",
    "                        "
   ]
  },
  {
   "cell_type": "code",
   "execution_count": 234,
   "metadata": {},
   "outputs": [
    {
     "name": "stdout",
     "output_type": "stream",
     "text": [
      "Waiting on bqjob_r1e505c42201f5b42_000001759ca4fc1f_1 ... (1s) Current status: DONE   \n"
     ]
    }
   ],
   "source": [
    "!bq --location=US load --skip_leading_rows=1 --allow_jagged_rows=true --source_format=CSV {dataset_id}.H1_13 \\\n",
    "'gs://h_1b/h_1b_dataset/h1b_datahubexport-2013.csv' \\\n",
    "fiscal_year:INTEGER,employer:STRING,initial_approval:INTEGER,initial_denials:INTEGER,continuing_approval:INTEGER,continuing_denials:INTEGER,naics:STRING,tax_id:STRING,state:STRING,city:STRING,zip_code:STRING\n",
    "                        "
   ]
  },
  {
   "cell_type": "code",
   "execution_count": 235,
   "metadata": {},
   "outputs": [
    {
     "name": "stdout",
     "output_type": "stream",
     "text": [
      "Waiting on bqjob_r1367208926975492_000001759ca51c27_1 ... (1s) Current status: DONE   \n"
     ]
    }
   ],
   "source": [
    "!bq --location=US load --skip_leading_rows=1 --allow_jagged_rows=true --source_format=CSV {dataset_id}.H1_14 \\\n",
    "'gs://h_1b/h_1b_dataset/h1b_datahubexport-2014.csv' \\\n",
    "fiscal_year:INTEGER,employer:STRING,initial_approval:INTEGER,initial_denials:INTEGER,continuing_approval:INTEGER,continuing_denials:INTEGER,naics:STRING,tax_id:STRING,state:STRING,city:STRING,zip_code:STRING\n",
    "                        "
   ]
  },
  {
   "cell_type": "code",
   "execution_count": 236,
   "metadata": {},
   "outputs": [
    {
     "name": "stdout",
     "output_type": "stream",
     "text": [
      "Waiting on bqjob_r65ff22ac74350662_000001759ca54ee6_1 ... (1s) Current status: DONE   \n"
     ]
    }
   ],
   "source": [
    "!bq --location=US load --skip_leading_rows=1 --allow_jagged_rows=true --source_format=CSV {dataset_id}.H1_15 \\\n",
    "'gs://h_1b/h_1b_dataset/h1b_datahubexport-2015.csv' \\\n",
    "fiscal_year:INTEGER,employer:STRING,initial_approval:INTEGER,initial_denials:INTEGER,continuing_approval:INTEGER,continuing_denials:INTEGER,naics:STRING,tax_id:STRING,state:STRING,city:STRING,zip_code:STRING\n",
    "                        "
   ]
  },
  {
   "cell_type": "code",
   "execution_count": 237,
   "metadata": {},
   "outputs": [
    {
     "name": "stdout",
     "output_type": "stream",
     "text": [
      "Waiting on bqjob_r6f028f2bda835922_000001759ca57188_1 ... (2s) Current status: DONE   \n"
     ]
    }
   ],
   "source": [
    "!bq --location=US load --skip_leading_rows=1 --allow_jagged_rows=true --source_format=CSV {dataset_id}.H1_16 \\\n",
    "'gs://h_1b/h_1b_dataset/h1b_datahubexport-2016.csv' \\\n",
    "fiscal_year:INTEGER,employer:STRING,initial_approval:INTEGER,initial_denials:INTEGER,continuing_approval:INTEGER,continuing_denials:INTEGER,naics:STRING,tax_id:STRING,state:STRING,city:STRING,zip_code:STRING\n",
    "                        "
   ]
  },
  {
   "cell_type": "code",
   "execution_count": 238,
   "metadata": {},
   "outputs": [
    {
     "name": "stdout",
     "output_type": "stream",
     "text": [
      "Waiting on bqjob_r1dc7ae892ef2a0a_000001759ca59375_1 ... (1s) Current status: DONE   \n"
     ]
    }
   ],
   "source": [
    "!bq --location=US load --skip_leading_rows=1 --allow_jagged_rows=true --source_format=CSV {dataset_id}.H1_17 \\\n",
    "'gs://h_1b/h_1b_dataset/h1b_datahubexport-2017.csv' \\\n",
    "fiscal_year:INTEGER,employer:STRING,initial_approval:INTEGER,initial_denials:INTEGER,continuing_approval:INTEGER,continuing_denials:INTEGER,naics:STRING,tax_id:STRING,state:STRING,city:STRING,zip_code:STRING\n",
    "                        "
   ]
  },
  {
   "cell_type": "code",
   "execution_count": 239,
   "metadata": {},
   "outputs": [
    {
     "name": "stdout",
     "output_type": "stream",
     "text": [
      "Waiting on bqjob_r5fd4545d59e50d28_000001759ca5adb1_1 ... (1s) Current status: DONE   \n"
     ]
    }
   ],
   "source": [
    "!bq --location=US load --skip_leading_rows=1 --allow_jagged_rows=true --source_format=CSV {dataset_id}.H1_18 \\\n",
    "'gs://h_1b/h_1b_dataset/h1b_datahubexport-2018.csv' \\\n",
    "fiscal_year:INTEGER,employer:STRING,initial_approval:INTEGER,initial_denials:INTEGER,continuing_approval:INTEGER,continuing_denials:INTEGER,naics:STRING,tax_id:STRING,state:STRING,city:STRING,zip_code:STRING\n",
    "                        "
   ]
  },
  {
   "cell_type": "code",
   "execution_count": 240,
   "metadata": {},
   "outputs": [
    {
     "name": "stdout",
     "output_type": "stream",
     "text": [
      "Waiting on bqjob_r3455d7f5c65dbd5_000001759ca5c8d8_1 ... (2s) Current status: DONE   \n"
     ]
    }
   ],
   "source": [
    "!bq --location=US load --skip_leading_rows=1 --allow_jagged_rows=true --source_format=CSV {dataset_id}.H1_19 \\\n",
    "'gs://h_1b/h_1b_dataset/h1b_datahubexport-2019.csv' \\\n",
    "fiscal_year:INTEGER,employer:STRING,initial_approval:INTEGER,initial_denials:INTEGER,continuing_approval:INTEGER,continuing_denials:INTEGER,naics:STRING,tax_id:STRING,state:STRING,city:STRING,zip_code:STRING\n",
    "                        "
   ]
  },
  {
   "cell_type": "markdown",
   "metadata": {},
   "source": [
    "## OESM_STAGING"
   ]
  },
  {
   "cell_type": "markdown",
   "metadata": {},
   "source": [
    "### OESM_national"
   ]
  },
  {
   "cell_type": "code",
   "execution_count": 7,
   "metadata": {},
   "outputs": [
    {
     "name": "stdout",
     "output_type": "stream",
     "text": [
      "BigQuery error in mk operation: Dataset 'skilful-wording-288303:oesm_staging'\n",
      "already exists.\n"
     ]
    }
   ],
   "source": [
    "dataset_id2 = \"oesm_staging\"\n",
    "!bq --location=US mk --dataset {dataset_id2}"
   ]
  },
  {
   "cell_type": "code",
   "execution_count": 126,
   "metadata": {},
   "outputs": [
    {
     "name": "stdout",
     "output_type": "stream",
     "text": [
      "Waiting on bqjob_r37cb653906fe1104_000001759c3457fe_1 ... (0s) Current status: DONE   \n"
     ]
    }
   ],
   "source": [
    "!bq --location=US load --skip_leading_rows=1 --allow_jagged_rows=true --source_format=CSV {dataset_id2}.OESM_national_09 \\\n",
    "'gs://h_1b/oesm_national/national_M2009_dl.csv' \\\n",
    "occ_code:STRING,occ_title:STRING,group:STRING,tot_emp:INTEGER,emp_prse:FLOAT,h_mean:FLOAT,a_mean:INTEGER,mean_prse:FLOAT,h_pct10:FLOAT,h_pct25:FLOAT,h_median:FLOAT,h_pct75:FLOAT,h_pct90:FLOAT,a_pct10:INTEGER,a_pct25:INTEGER,a_median:INTEGER,a_pct75:INTEGER,a_pct90:INTEGER,annual:BOOLEAN,hourly:BOOLEAN\n",
    "                                                                                        "
   ]
  },
  {
   "cell_type": "code",
   "execution_count": 127,
   "metadata": {},
   "outputs": [
    {
     "name": "stdout",
     "output_type": "stream",
     "text": [
      "Waiting on bqjob_r71202e8e6c0ef63a_000001759c346485_1 ... (0s) Current status: DONE   \n"
     ]
    }
   ],
   "source": [
    "!bq --location=US load --skip_leading_rows=1 --allow_jagged_rows=true --source_format=CSV {dataset_id2}.OESM_national_10 \\\n",
    "'gs://h_1b/oesm_national/national_M2010_dl.csv' \\\n",
    "occ_code:STRING,occ_title:STRING,group:STRING,tot_emp:INTEGER,emp_prse:FLOAT,h_mean:FLOAT,a_mean:INTEGER,mean_prse:FLOAT,h_pct10:FLOAT,h_pct25:FLOAT,h_median:FLOAT,h_pct75:FLOAT,h_pct90:FLOAT,a_pct10:INTEGER,a_pct25:INTEGER,a_median:INTEGER,a_pct75:INTEGER,a_pct90:INTEGER,annual:BOOLEAN,hourly:BOOLEAN\n",
    "                                                                                        "
   ]
  },
  {
   "cell_type": "code",
   "execution_count": 128,
   "metadata": {},
   "outputs": [
    {
     "name": "stdout",
     "output_type": "stream",
     "text": [
      "Waiting on bqjob_r7269a5da8d428e1e_000001759c347184_1 ... (0s) Current status: DONE   \n"
     ]
    }
   ],
   "source": [
    "!bq --location=US load --skip_leading_rows=1 --allow_jagged_rows=true --source_format=CSV {dataset_id2}.OESM_national_11 \\\n",
    "'gs://h_1b/oesm_national/national_M2011_dl.csv' \\\n",
    "occ_code:STRING,occ_title:STRING,group:STRING,tot_emp:INTEGER,emp_prse:FLOAT,h_mean:FLOAT,a_mean:INTEGER,mean_prse:FLOAT,h_pct10:FLOAT,h_pct25:FLOAT,h_median:FLOAT,h_pct75:FLOAT,h_pct90:FLOAT,a_pct10:INTEGER,a_pct25:INTEGER,a_median:INTEGER,a_pct75:INTEGER,a_pct90:INTEGER,annual:BOOLEAN,hourly:BOOLEAN\n",
    "                                                                                        "
   ]
  },
  {
   "cell_type": "code",
   "execution_count": 129,
   "metadata": {},
   "outputs": [
    {
     "name": "stdout",
     "output_type": "stream",
     "text": [
      "Waiting on bqjob_r787d2ebe45f0863a_000001759c347e36_1 ... (1s) Current status: DONE   \n"
     ]
    }
   ],
   "source": [
    "!bq --location=US load --skip_leading_rows=1 --allow_jagged_rows=true --source_format=CSV {dataset_id2}.OESM_national_12 \\\n",
    "'gs://h_1b/oesm_national/national_M2012_dl.csv' \\\n",
    "occ_code:STRING,occ_title:STRING,group:STRING,tot_emp:INTEGER,emp_prse:FLOAT,h_mean:FLOAT,a_mean:INTEGER,mean_prse:FLOAT,h_pct10:FLOAT,h_pct25:FLOAT,h_median:FLOAT,h_pct75:FLOAT,h_pct90:FLOAT,a_pct10:INTEGER,a_pct25:INTEGER,a_median:INTEGER,a_pct75:INTEGER,a_pct90:INTEGER,annual:BOOLEAN,hourly:BOOLEAN\n",
    "                                                                                        "
   ]
  },
  {
   "cell_type": "code",
   "execution_count": 130,
   "metadata": {},
   "outputs": [
    {
     "name": "stdout",
     "output_type": "stream",
     "text": [
      "Waiting on bqjob_r52c643883aab7c8e_000001759c348f8d_1 ... (1s) Current status: DONE   \n"
     ]
    }
   ],
   "source": [
    "!bq --location=US load --skip_leading_rows=1 --allow_jagged_rows=true --source_format=CSV {dataset_id2}.OESM_national_13 \\\n",
    "'gs://h_1b/oesm_national/national_M2013_dl.csv' \\\n",
    "occ_code:STRING,occ_title:STRING,group:STRING,tot_emp:INTEGER,emp_prse:FLOAT,h_mean:FLOAT,a_mean:INTEGER,mean_prse:FLOAT,h_pct10:FLOAT,h_pct25:FLOAT,h_median:FLOAT,h_pct75:FLOAT,h_pct90:FLOAT,a_pct10:INTEGER,a_pct25:INTEGER,a_median:INTEGER,a_pct75:INTEGER,a_pct90:INTEGER,annual:BOOLEAN,hourly:BOOLEAN\n",
    "                                                                                        "
   ]
  },
  {
   "cell_type": "code",
   "execution_count": 131,
   "metadata": {},
   "outputs": [
    {
     "name": "stdout",
     "output_type": "stream",
     "text": [
      "Waiting on bqjob_r6a3e5714539224e2_000001759c34a191_1 ... (0s) Current status: DONE   \n"
     ]
    }
   ],
   "source": [
    "!bq --location=US load --skip_leading_rows=1 --allow_jagged_rows=true --source_format=CSV {dataset_id2}.OESM_national_14 \\\n",
    "'gs://h_1b/oesm_national/national_M2014_dl.csv' \\\n",
    "occ_code:STRING,occ_title:STRING,group:STRING,tot_emp:INTEGER,emp_prse:FLOAT,h_mean:FLOAT,a_mean:INTEGER,mean_prse:FLOAT,h_pct10:FLOAT,h_pct25:FLOAT,h_median:FLOAT,h_pct75:FLOAT,h_pct90:FLOAT,a_pct10:INTEGER,a_pct25:INTEGER,a_median:INTEGER,a_pct75:INTEGER,a_pct90:INTEGER,annual:BOOLEAN,hourly:BOOLEAN\n",
    "                                                                                        "
   ]
  },
  {
   "cell_type": "code",
   "execution_count": 132,
   "metadata": {},
   "outputs": [
    {
     "name": "stdout",
     "output_type": "stream",
     "text": [
      "Waiting on bqjob_r4f9f2f1c6b26c8a1_000001759c34ae68_1 ... (0s) Current status: DONE   \n"
     ]
    }
   ],
   "source": [
    "!bq --location=US load --skip_leading_rows=1 --allow_jagged_rows=true --source_format=CSV {dataset_id2}.OESM_national_15 \\\n",
    "'gs://h_1b/oesm_national/national_M2015_dl.csv' \\\n",
    "occ_code:STRING,occ_title:STRING,group:STRING,tot_emp:INTEGER,emp_prse:FLOAT,h_mean:FLOAT,a_mean:INTEGER,mean_prse:FLOAT,h_pct10:FLOAT,h_pct25:FLOAT,h_median:FLOAT,h_pct75:FLOAT,h_pct90:FLOAT,a_pct10:INTEGER,a_pct25:INTEGER,a_median:INTEGER,a_pct75:INTEGER,a_pct90:INTEGER,annual:BOOLEAN,hourly:BOOLEAN\n",
    "                                                                                        "
   ]
  },
  {
   "cell_type": "code",
   "execution_count": 133,
   "metadata": {},
   "outputs": [
    {
     "name": "stdout",
     "output_type": "stream",
     "text": [
      "Waiting on bqjob_r77b1c2d935755f80_000001759c34bc05_1 ... (0s) Current status: DONE   \n"
     ]
    }
   ],
   "source": [
    "!bq --location=US load --skip_leading_rows=1 --allow_jagged_rows=true --source_format=CSV {dataset_id2}.OESM_national_16 \\\n",
    "'gs://h_1b/oesm_national/national_M2016_dl.csv' \\\n",
    "occ_code:STRING,occ_title:STRING,group:STRING,tot_emp:INTEGER,emp_prse:FLOAT,h_mean:FLOAT,a_mean:INTEGER,mean_prse:FLOAT,h_pct10:FLOAT,h_pct25:FLOAT,h_median:FLOAT,h_pct75:FLOAT,h_pct90:FLOAT,a_pct10:INTEGER,a_pct25:INTEGER,a_median:INTEGER,a_pct75:INTEGER,a_pct90:INTEGER,annual:BOOLEAN,hourly:BOOLEAN\n",
    "                                                                                        "
   ]
  },
  {
   "cell_type": "code",
   "execution_count": 134,
   "metadata": {},
   "outputs": [
    {
     "name": "stdout",
     "output_type": "stream",
     "text": [
      "Waiting on bqjob_r22acaa659137f361_000001759c34c86e_1 ... (0s) Current status: DONE   \n"
     ]
    }
   ],
   "source": [
    "!bq --location=US load --skip_leading_rows=1 --allow_jagged_rows=true --source_format=CSV {dataset_id2}.OESM_national_17 \\\n",
    "'gs://h_1b/oesm_national/national_M2017_dl.csv' \\\n",
    "occ_code:STRING,occ_title:STRING,group:STRING,tot_emp:INTEGER,emp_prse:FLOAT,h_mean:FLOAT,a_mean:INTEGER,mean_prse:FLOAT,h_pct10:FLOAT,h_pct25:FLOAT,h_median:FLOAT,h_pct75:FLOAT,h_pct90:FLOAT,a_pct10:INTEGER,a_pct25:INTEGER,a_median:INTEGER,a_pct75:INTEGER,a_pct90:INTEGER,annual:BOOLEAN,hourly:BOOLEAN\n",
    "                                                                                        "
   ]
  },
  {
   "cell_type": "code",
   "execution_count": 135,
   "metadata": {},
   "outputs": [
    {
     "name": "stdout",
     "output_type": "stream",
     "text": [
      "Waiting on bqjob_r5dd079621a794_000001759c34d52e_1 ... (0s) Current status: DONE   \n"
     ]
    }
   ],
   "source": [
    "!bq --location=US load --skip_leading_rows=1 --allow_jagged_rows=true --source_format=CSV {dataset_id2}.OESM_national_18 \\\n",
    "'gs://h_1b/oesm_national/national_M2018_dl.csv' \\\n",
    "occ_code:STRING,occ_title:STRING,group:STRING,tot_emp:INTEGER,emp_prse:FLOAT,h_mean:FLOAT,a_mean:INTEGER,mean_prse:FLOAT,h_pct10:FLOAT,h_pct25:FLOAT,h_median:FLOAT,h_pct75:FLOAT,h_pct90:FLOAT,a_pct10:INTEGER,a_pct25:INTEGER,a_median:INTEGER,a_pct75:INTEGER,a_pct90:INTEGER,annual:BOOLEAN,hourly:BOOLEAN\n",
    "                                                                                        "
   ]
  },
  {
   "cell_type": "code",
   "execution_count": 138,
   "metadata": {},
   "outputs": [
    {
     "name": "stdout",
     "output_type": "stream",
     "text": [
      "Waiting on bqjob_r27fb66ead21a7a5e_000001759c374ecd_1 ... (1s) Current status: DONE   \n"
     ]
    }
   ],
   "source": [
    "!bq --location=US load --skip_leading_rows=1 --allow_jagged_rows=true --source_format=CSV {dataset_id2}.OESM_national_19 \\\n",
    "'gs://h_1b/oesm_national/national_M2019_dl.csv' \\\n",
    "area:INTEGER,area_title:STRING,area_type:INTEGER,naics:INTEGER,naics_title:STRING,i_group:STRING,own_code:INTEGER,occ_code:STRING,occ_title:STRING,o_group:STRING,tot_emp:INTEGER,emp_prse:FLOAT,jobs_1000:INTEGER,loc_quotient:FLOAT,pct_total:FLOAT,h_mean:FLOAT,a_mean:INTEGER,mean_prse:FLOAT,h_pct10:FLOAT,h_pct25:FLOAT,h_median:FLOAT,h_pct75:FLOAT,h_pct90:FLOAT,a_pct10:INTEGER,a_pct25:INTEGER,a_median:INTEGER,a_pct75:INTEGER,a_pct90:INTEGER,annual:BOOLEAN,hourly:BOOLEAN\n",
    "                                                                                        "
   ]
  },
  {
   "cell_type": "markdown",
   "metadata": {},
   "source": [
    "### OESM_OWNER"
   ]
  },
  {
   "cell_type": "code",
   "execution_count": 139,
   "metadata": {},
   "outputs": [
    {
     "name": "stdout",
     "output_type": "stream",
     "text": [
      "Waiting on bqjob_r3cf9eba4e1bda3c4_000001759c3a539f_1 ... (0s) Current status: DONE   \n"
     ]
    }
   ],
   "source": [
    "!bq --location=US load --skip_leading_rows=1 --allow_jagged_rows=true --source_format=CSV {dataset_id2}.OESM_owner_09 \\\n",
    "'gs://h_1b/oesm_owner/n_owner_M2009_dl.csv' \\\n",
    "ownership:STRING,occ_code:STRING,occ_title:STRING,group:STRING,tot_emp:INTEGER,emp_prse:FLOAT,h_mean:FLOAT,a_mean:INTEGER,mean_prse:FLOAT,h_pct10:FLOAT,h_pct25:FLOAT,h_median:FLOAT,h_pct75:FLOAT,h_pct90:FLOAT,a_pct10:INTEGER,a_pct25:INTEGER,a_median:INTEGER,a_pct75:INTEGER,a_pct90:INTEGER,annual:BOOLEAN,hourly:BOOLEAN\n",
    "                                                                                        "
   ]
  },
  {
   "cell_type": "code",
   "execution_count": 140,
   "metadata": {},
   "outputs": [
    {
     "name": "stdout",
     "output_type": "stream",
     "text": [
      "Waiting on bqjob_r6cf786afee5282ef_000001759c3a8cf8_1 ... (1s) Current status: DONE   \n"
     ]
    }
   ],
   "source": [
    "!bq --location=US load --skip_leading_rows=1 --allow_jagged_rows=true --source_format=CSV {dataset_id2}.OESM_owner_10 \\\n",
    "'gs://h_1b/oesm_owner/n_owner_M2010_dl.csv' \\\n",
    "ownership:STRING,occ_code:STRING,occ_title:STRING,group:STRING,tot_emp:INTEGER,emp_prse:FLOAT,h_mean:FLOAT,a_mean:INTEGER,mean_prse:FLOAT,h_pct10:FLOAT,h_pct25:FLOAT,h_median:FLOAT,h_pct75:FLOAT,h_pct90:FLOAT,a_pct10:INTEGER,a_pct25:INTEGER,a_median:INTEGER,a_pct75:INTEGER,a_pct90:INTEGER,annual:BOOLEAN,hourly:BOOLEAN\n",
    "                                                                                        "
   ]
  },
  {
   "cell_type": "code",
   "execution_count": 141,
   "metadata": {},
   "outputs": [
    {
     "name": "stdout",
     "output_type": "stream",
     "text": [
      "Waiting on bqjob_r140518dc95bf41cf_000001759c3ab3b3_1 ... (0s) Current status: DONE   \n"
     ]
    }
   ],
   "source": [
    "!bq --location=US load --skip_leading_rows=1 --allow_jagged_rows=true --source_format=CSV {dataset_id2}.OESM_owner_11 \\\n",
    "'gs://h_1b/oesm_owner/n_owner_M2011_dl.csv' \\\n",
    "ownership:STRING,occ_code:STRING,occ_title:STRING,group:STRING,tot_emp:INTEGER,emp_prse:FLOAT,h_mean:FLOAT,a_mean:INTEGER,mean_prse:FLOAT,h_pct10:FLOAT,h_pct25:FLOAT,h_median:FLOAT,h_pct75:FLOAT,h_pct90:FLOAT,a_pct10:INTEGER,a_pct25:INTEGER,a_median:INTEGER,a_pct75:INTEGER,a_pct90:INTEGER,annual:BOOLEAN,hourly:BOOLEAN\n",
    "                                                                                        "
   ]
  },
  {
   "cell_type": "code",
   "execution_count": 142,
   "metadata": {},
   "outputs": [
    {
     "name": "stdout",
     "output_type": "stream",
     "text": [
      "Waiting on bqjob_r626ac45bccb2c7ad_000001759c3ad5ec_1 ... (0s) Current status: DONE   \n"
     ]
    }
   ],
   "source": [
    "!bq --location=US load --skip_leading_rows=1 --allow_jagged_rows=true --source_format=CSV {dataset_id2}.OESM_owner_12 \\\n",
    "'gs://h_1b/oesm_owner/n_owner_M2012_dl.csv' \\\n",
    "ownership:STRING,occ_code:STRING,occ_title:STRING,group:STRING,tot_emp:INTEGER,emp_prse:FLOAT,h_mean:FLOAT,a_mean:INTEGER,mean_prse:FLOAT,h_pct10:FLOAT,h_pct25:FLOAT,h_median:FLOAT,h_pct75:FLOAT,h_pct90:FLOAT,a_pct10:INTEGER,a_pct25:INTEGER,a_median:INTEGER,a_pct75:INTEGER,a_pct90:INTEGER,annual:BOOLEAN,hourly:BOOLEAN\n",
    "                                                                                        "
   ]
  },
  {
   "cell_type": "code",
   "execution_count": 143,
   "metadata": {},
   "outputs": [
    {
     "name": "stdout",
     "output_type": "stream",
     "text": [
      "Waiting on bqjob_r41c83980afdcb9b4_000001759c3af9f2_1 ... (0s) Current status: DONE   \n"
     ]
    }
   ],
   "source": [
    "!bq --location=US load --skip_leading_rows=1 --allow_jagged_rows=true --source_format=CSV {dataset_id2}.OESM_owner_13 \\\n",
    "'gs://h_1b/oesm_owner/n_owner_M2013_dl.csv' \\\n",
    "ownership:STRING,occ_code:STRING,occ_title:STRING,group:STRING,tot_emp:INTEGER,emp_prse:FLOAT,h_mean:FLOAT,a_mean:INTEGER,mean_prse:FLOAT,h_pct10:FLOAT,h_pct25:FLOAT,h_median:FLOAT,h_pct75:FLOAT,h_pct90:FLOAT,a_pct10:INTEGER,a_pct25:INTEGER,a_median:INTEGER,a_pct75:INTEGER,a_pct90:INTEGER,annual:BOOLEAN,hourly:BOOLEAN\n",
    "                                                                                        "
   ]
  },
  {
   "cell_type": "code",
   "execution_count": 144,
   "metadata": {},
   "outputs": [
    {
     "name": "stdout",
     "output_type": "stream",
     "text": [
      "Waiting on bqjob_r46b86482f5e4e13f_000001759c3b20ec_1 ... (0s) Current status: DONE   \n"
     ]
    }
   ],
   "source": [
    "!bq --location=US load --skip_leading_rows=1 --allow_jagged_rows=true --source_format=CSV {dataset_id2}.OESM_owner_14 \\\n",
    "'gs://h_1b/oesm_owner/n_owner_M2014_dl.csv' \\\n",
    "ownership:STRING,occ_code:STRING,occ_title:STRING,group:STRING,tot_emp:INTEGER,emp_prse:FLOAT,h_mean:FLOAT,a_mean:INTEGER,mean_prse:FLOAT,h_pct10:FLOAT,h_pct25:FLOAT,h_median:FLOAT,h_pct75:FLOAT,h_pct90:FLOAT,a_pct10:INTEGER,a_pct25:INTEGER,a_median:INTEGER,a_pct75:INTEGER,a_pct90:INTEGER,annual:BOOLEAN,hourly:BOOLEAN\n",
    "                                                                                        "
   ]
  },
  {
   "cell_type": "code",
   "execution_count": 145,
   "metadata": {},
   "outputs": [
    {
     "name": "stdout",
     "output_type": "stream",
     "text": [
      "Waiting on bqjob_r650ba748aee6901b_000001759c3b4096_1 ... (0s) Current status: DONE   \n"
     ]
    }
   ],
   "source": [
    "!bq --location=US load --skip_leading_rows=1 --allow_jagged_rows=true --source_format=CSV {dataset_id2}.OESM_owner_15 \\\n",
    "'gs://h_1b/oesm_owner/n_owner_M2015_dl.csv' \\\n",
    "ownership:STRING,occ_code:STRING,occ_title:STRING,group:STRING,tot_emp:INTEGER,emp_prse:FLOAT,h_mean:FLOAT,a_mean:INTEGER,mean_prse:FLOAT,h_pct10:FLOAT,h_pct25:FLOAT,h_median:FLOAT,h_pct75:FLOAT,h_pct90:FLOAT,a_pct10:INTEGER,a_pct25:INTEGER,a_median:INTEGER,a_pct75:INTEGER,a_pct90:INTEGER,annual:BOOLEAN,hourly:BOOLEAN\n",
    "                                                                                        "
   ]
  },
  {
   "cell_type": "code",
   "execution_count": 146,
   "metadata": {},
   "outputs": [
    {
     "name": "stdout",
     "output_type": "stream",
     "text": [
      "Waiting on bqjob_r4111e3fa5322ac3e_000001759c3b695d_1 ... (0s) Current status: DONE   \n"
     ]
    }
   ],
   "source": [
    "!bq --location=US load --skip_leading_rows=1 --allow_jagged_rows=true --source_format=CSV {dataset_id2}.OESM_owner_16 \\\n",
    "'gs://h_1b/oesm_owner/n_owner_M2016_dl.csv' \\\n",
    "ownership:STRING,occ_code:STRING,occ_title:STRING,group:STRING,tot_emp:INTEGER,emp_prse:FLOAT,h_mean:FLOAT,a_mean:INTEGER,mean_prse:FLOAT,h_pct10:FLOAT,h_pct25:FLOAT,h_median:FLOAT,h_pct75:FLOAT,h_pct90:FLOAT,a_pct10:INTEGER,a_pct25:INTEGER,a_median:INTEGER,a_pct75:INTEGER,a_pct90:INTEGER,annual:BOOLEAN,hourly:BOOLEAN\n",
    "                                                                                        "
   ]
  },
  {
   "cell_type": "code",
   "execution_count": 147,
   "metadata": {},
   "outputs": [
    {
     "name": "stdout",
     "output_type": "stream",
     "text": [
      "Waiting on bqjob_r5097bb587e651f19_000001759c3b8e19_1 ... (0s) Current status: DONE   \n"
     ]
    }
   ],
   "source": [
    "!bq --location=US load --skip_leading_rows=1 --allow_jagged_rows=true --source_format=CSV {dataset_id2}.OESM_owner_17 \\\n",
    "'gs://h_1b/oesm_owner/n_owner_M2017_dl.csv' \\\n",
    "ownership:STRING,occ_code:STRING,occ_title:STRING,group:STRING,tot_emp:INTEGER,emp_prse:FLOAT,h_mean:FLOAT,a_mean:INTEGER,mean_prse:FLOAT,h_pct10:FLOAT,h_pct25:FLOAT,h_median:FLOAT,h_pct75:FLOAT,h_pct90:FLOAT,a_pct10:INTEGER,a_pct25:INTEGER,a_median:INTEGER,a_pct75:INTEGER,a_pct90:INTEGER,annual:BOOLEAN,hourly:BOOLEAN\n",
    "                                                                                        "
   ]
  },
  {
   "cell_type": "code",
   "execution_count": 148,
   "metadata": {},
   "outputs": [
    {
     "name": "stdout",
     "output_type": "stream",
     "text": [
      "Waiting on bqjob_r1f11f2c0d41e422c_000001759c3bae7f_1 ... (1s) Current status: DONE   \n"
     ]
    }
   ],
   "source": [
    "!bq --location=US load --skip_leading_rows=1 --allow_jagged_rows=true --source_format=CSV {dataset_id2}.OESM_owner_18 \\\n",
    "'gs://h_1b/oesm_owner/n_owner_M2018_dl.csv' \\\n",
    "ownership:STRING,occ_code:STRING,occ_title:STRING,group:STRING,tot_emp:INTEGER,emp_prse:FLOAT,h_mean:FLOAT,a_mean:INTEGER,mean_prse:FLOAT,h_pct10:FLOAT,h_pct25:FLOAT,h_median:FLOAT,h_pct75:FLOAT,h_pct90:FLOAT,a_pct10:INTEGER,a_pct25:INTEGER,a_median:INTEGER,a_pct75:INTEGER,a_pct90:INTEGER,annual:BOOLEAN,hourly:BOOLEAN\n",
    "                                                                                        "
   ]
  },
  {
   "cell_type": "code",
   "execution_count": 151,
   "metadata": {},
   "outputs": [
    {
     "name": "stdout",
     "output_type": "stream",
     "text": [
      "Waiting on bqjob_r1fd60c4f3c95f453_000001759c406858_1 ... (5s) Current status: DONE   \n"
     ]
    }
   ],
   "source": [
    "!bq --location=US load --skip_leading_rows=1 --allow_jagged_rows=true --source_format=CSV {dataset_id2}.OESM_owner_19 \\\n",
    "'gs://h_1b/oesm_owner/n_owner_M2019_dl.csv' \\\n",
    "area:INTEGER,area_title:STRING,area_type:INTEGER,naics:INTEGER,naics_title:STRING,i_group:STRING,own_code:INTEGER,occ_code:STRING,occ_title:STRING,o_group:STRING,tot_emp:INTEGER,emp_prse:FLOAT,jobs_1000:INTEGER,loc_quotient:FLOAT,pct_total:FLOAT,h_mean:FLOAT,a_mean:INTEGER,mean_prse:FLOAT,h_pct10:FLOAT,h_pct25:FLOAT,h_median:FLOAT,h_pct75:FLOAT,h_pct90:FLOAT,a_pct10:INTEGER,a_pct25:INTEGER,a_median:INTEGER,a_pct75:INTEGER,a_pct90:INTEGER,annual:BOOLEAN,hourly:BOOLEAN\n",
    "                                                                                        "
   ]
  },
  {
   "cell_type": "markdown",
   "metadata": {},
   "source": [
    "### OESM_sector"
   ]
  },
  {
   "cell_type": "code",
   "execution_count": 153,
   "metadata": {},
   "outputs": [
    {
     "name": "stdout",
     "output_type": "stream",
     "text": [
      "Waiting on bqjob_r30bce8ea723c36a5_000001759c43f5a5_1 ... (1s) Current status: DONE   \n"
     ]
    }
   ],
   "source": [
    "!bq --location=US load --skip_leading_rows=1 --allow_jagged_rows=true --source_format=CSV {dataset_id2}.OESM_sector_09 \\\n",
    "'gs://h_1b/oesm_sector/natsector_M2009_dl.csv' \\\n",
    "naics:STRING,naics_title:STRING,occ_code:STRING,occ_title:STRING,group:STRING,tot_emp:INTEGER,emp_prse:FLOAT,pct_total:FLOAT,pct_rpt:INTEGER,h_mean:FLOAT,a_mean:INTEGER,mean_prse:FLOAT,h_pct10:FLOAT,h_pct25:FLOAT,h_median:FLOAT,h_pct75:FLOAT,h_pct90:FLOAT,a_pct10:INTEGER,a_pct25:INTEGER,a_median:INTEGER,a_pct75:INTEGER,a_pct90:INTEGER,annual:BOOLEAN,hourly:BOOLEAN\n",
    "                                                                                        "
   ]
  },
  {
   "cell_type": "code",
   "execution_count": 154,
   "metadata": {},
   "outputs": [
    {
     "name": "stdout",
     "output_type": "stream",
     "text": [
      "Waiting on bqjob_r3ad2a9fc05eb9aab_000001759c445ef3_1 ... (1s) Current status: DONE   \n"
     ]
    }
   ],
   "source": [
    "!bq --location=US load --skip_leading_rows=1 --allow_jagged_rows=true --source_format=CSV {dataset_id2}.OESM_sector_10 \\\n",
    "'gs://h_1b/oesm_sector/natsector_M2010_dl.csv' \\\n",
    "naics:STRING,naics_title:STRING,occ_code:STRING,occ_title:STRING,group:STRING,tot_emp:INTEGER,emp_prse:FLOAT,pct_total:FLOAT,pct_rpt:INTEGER,h_mean:FLOAT,a_mean:INTEGER,mean_prse:FLOAT,h_pct10:FLOAT,h_pct25:FLOAT,h_median:FLOAT,h_pct75:FLOAT,h_pct90:FLOAT,a_pct10:INTEGER,a_pct25:INTEGER,a_median:INTEGER,a_pct75:INTEGER,a_pct90:INTEGER,annual:BOOLEAN,hourly:BOOLEAN\n",
    "                                                                                        "
   ]
  },
  {
   "cell_type": "code",
   "execution_count": 156,
   "metadata": {},
   "outputs": [
    {
     "name": "stdout",
     "output_type": "stream",
     "text": [
      "Waiting on bqjob_r622c6d6549a4874b_000001759c452fdc_1 ... (1s) Current status: DONE   \n"
     ]
    }
   ],
   "source": [
    "!bq --location=US load --skip_leading_rows=1 --allow_jagged_rows=true --source_format=CSV {dataset_id2}.OESM_sector_11 \\\n",
    "'gs://h_1b/oesm_sector/natsector_M2011_dl.csv' \\\n",
    "naics:STRING,naics_title:STRING,ownership:STRING,occ_code:STRING,occ_title:STRING,group:STRING,tot_emp:INTEGER,emp_prse:FLOAT,pct_total:FLOAT,pct_rpt:INTEGER,h_mean:FLOAT,a_mean:INTEGER,mean_prse:FLOAT,h_pct10:FLOAT,h_pct25:FLOAT,h_median:FLOAT,h_pct75:FLOAT,h_pct90:FLOAT,a_pct10:INTEGER,a_pct25:INTEGER,a_median:INTEGER,a_pct75:INTEGER,a_pct90:INTEGER,annual:BOOLEAN,hourly:BOOLEAN\n",
    "                                                                                        "
   ]
  },
  {
   "cell_type": "code",
   "execution_count": 157,
   "metadata": {},
   "outputs": [
    {
     "name": "stdout",
     "output_type": "stream",
     "text": [
      "Waiting on bqjob_r4a49ad91a37c79d0_000001759c45cb68_1 ... (1s) Current status: DONE   \n"
     ]
    }
   ],
   "source": [
    "!bq --location=US load --skip_leading_rows=1 --allow_jagged_rows=true --source_format=CSV {dataset_id2}.OESM_sector_12 \\\n",
    "'gs://h_1b/oesm_sector/natsector_M2012_dl.csv' \\\n",
    "naics:STRING,naics_title:STRING,occ_code:STRING,occ_title:STRING,group:STRING,tot_emp:INTEGER,emp_prse:FLOAT,pct_total:FLOAT,pct_rpt:INTEGER,h_mean:FLOAT,a_mean:INTEGER,mean_prse:FLOAT,h_pct10:FLOAT,h_pct25:FLOAT,h_median:FLOAT,h_pct75:FLOAT,h_pct90:FLOAT,a_pct10:INTEGER,a_pct25:INTEGER,a_median:INTEGER,a_pct75:INTEGER,a_pct90:INTEGER,annual:BOOLEAN,hourly:BOOLEAN\n",
    "                                                                                        "
   ]
  },
  {
   "cell_type": "code",
   "execution_count": 158,
   "metadata": {},
   "outputs": [
    {
     "name": "stdout",
     "output_type": "stream",
     "text": [
      "Waiting on bqjob_ra4d035231e05d74_000001759c45fc71_1 ... (2s) Current status: DONE   \n"
     ]
    }
   ],
   "source": [
    "!bq --location=US load --skip_leading_rows=1 --allow_jagged_rows=true --source_format=CSV {dataset_id2}.OESM_sector_13 \\\n",
    "'gs://h_1b/oesm_sector/natsector_M2013_dl.csv' \\\n",
    "naics:STRING,naics_title:STRING,occ_code:STRING,occ_title:STRING,group:STRING,tot_emp:INTEGER,emp_prse:FLOAT,pct_total:FLOAT,pct_rpt:INTEGER,h_mean:FLOAT,a_mean:INTEGER,mean_prse:FLOAT,h_pct10:FLOAT,h_pct25:FLOAT,h_median:FLOAT,h_pct75:FLOAT,h_pct90:FLOAT,a_pct10:INTEGER,a_pct25:INTEGER,a_median:INTEGER,a_pct75:INTEGER,a_pct90:INTEGER,annual:BOOLEAN,hourly:BOOLEAN\n",
    "                                                                                        "
   ]
  },
  {
   "cell_type": "code",
   "execution_count": 159,
   "metadata": {},
   "outputs": [
    {
     "name": "stdout",
     "output_type": "stream",
     "text": [
      "Waiting on bqjob_r4b2f54d26bbf4021_000001759c46220e_1 ... (1s) Current status: DONE   \n"
     ]
    }
   ],
   "source": [
    "!bq --location=US load --skip_leading_rows=1 --allow_jagged_rows=true --source_format=CSV {dataset_id2}.OESM_sector_14 \\\n",
    "'gs://h_1b/oesm_sector/natsector_M2014_dl.csv' \\\n",
    "naics:STRING,naics_title:STRING,occ_code:STRING,occ_title:STRING,group:STRING,tot_emp:INTEGER,emp_prse:FLOAT,pct_total:FLOAT,pct_rpt:INTEGER,h_mean:FLOAT,a_mean:INTEGER,mean_prse:FLOAT,h_pct10:FLOAT,h_pct25:FLOAT,h_median:FLOAT,h_pct75:FLOAT,h_pct90:FLOAT,a_pct10:INTEGER,a_pct25:INTEGER,a_median:INTEGER,a_pct75:INTEGER,a_pct90:INTEGER,annual:BOOLEAN,hourly:BOOLEAN\n",
    "                                                                                        "
   ]
  },
  {
   "cell_type": "code",
   "execution_count": 160,
   "metadata": {},
   "outputs": [
    {
     "name": "stdout",
     "output_type": "stream",
     "text": [
      "Waiting on bqjob_r15974d52a87c63fb_000001759c46475d_1 ... (1s) Current status: DONE   \n"
     ]
    }
   ],
   "source": [
    "!bq --location=US load --skip_leading_rows=1 --allow_jagged_rows=true --source_format=CSV {dataset_id2}.OESM_sector_15 \\\n",
    "'gs://h_1b/oesm_sector/natsector_M2015_dl.csv' \\\n",
    "naics:STRING,naics_title:STRING,occ_code:STRING,occ_title:STRING,group:STRING,tot_emp:INTEGER,emp_prse:FLOAT,pct_total:FLOAT,pct_rpt:INTEGER,h_mean:FLOAT,a_mean:INTEGER,mean_prse:FLOAT,h_pct10:FLOAT,h_pct25:FLOAT,h_median:FLOAT,h_pct75:FLOAT,h_pct90:FLOAT,a_pct10:INTEGER,a_pct25:INTEGER,a_median:INTEGER,a_pct75:INTEGER,a_pct90:INTEGER,annual:BOOLEAN,hourly:BOOLEAN\n",
    "                                                                                        "
   ]
  },
  {
   "cell_type": "code",
   "execution_count": 161,
   "metadata": {},
   "outputs": [
    {
     "name": "stdout",
     "output_type": "stream",
     "text": [
      "Waiting on bqjob_r3c610fde271798b6_000001759c467005_1 ... (1s) Current status: DONE   \n"
     ]
    }
   ],
   "source": [
    "!bq --location=US load --skip_leading_rows=1 --allow_jagged_rows=true --source_format=CSV {dataset_id2}.OESM_sector_16 \\\n",
    "'gs://h_1b/oesm_sector/natsector_M2016_dl.csv' \\\n",
    "naics:STRING,naics_title:STRING,occ_code:STRING,occ_title:STRING,group:STRING,tot_emp:INTEGER,emp_prse:FLOAT,pct_total:FLOAT,pct_rpt:INTEGER,h_mean:FLOAT,a_mean:INTEGER,mean_prse:FLOAT,h_pct10:FLOAT,h_pct25:FLOAT,h_median:FLOAT,h_pct75:FLOAT,h_pct90:FLOAT,a_pct10:INTEGER,a_pct25:INTEGER,a_median:INTEGER,a_pct75:INTEGER,a_pct90:INTEGER,annual:BOOLEAN,hourly:BOOLEAN\n",
    "                                                                                        "
   ]
  },
  {
   "cell_type": "code",
   "execution_count": 162,
   "metadata": {},
   "outputs": [
    {
     "name": "stdout",
     "output_type": "stream",
     "text": [
      "Waiting on bqjob_r1e1edc273d1647e_000001759c469586_1 ... (1s) Current status: DONE   \n"
     ]
    }
   ],
   "source": [
    "!bq --location=US load --skip_leading_rows=1 --allow_jagged_rows=true --source_format=CSV {dataset_id2}.OESM_sector_17 \\\n",
    "'gs://h_1b/oesm_sector/natsector_M2017_dl.csv' \\\n",
    "naics:STRING,naics_title:STRING,occ_code:STRING,occ_title:STRING,group:STRING,tot_emp:INTEGER,emp_prse:FLOAT,pct_total:FLOAT,pct_rpt:INTEGER,h_mean:FLOAT,a_mean:INTEGER,mean_prse:FLOAT,h_pct10:FLOAT,h_pct25:FLOAT,h_median:FLOAT,h_pct75:FLOAT,h_pct90:FLOAT,a_pct10:INTEGER,a_pct25:INTEGER,a_median:INTEGER,a_pct75:INTEGER,a_pct90:INTEGER,annual:BOOLEAN,hourly:BOOLEAN\n",
    "                                                                                        "
   ]
  },
  {
   "cell_type": "code",
   "execution_count": 163,
   "metadata": {},
   "outputs": [
    {
     "name": "stdout",
     "output_type": "stream",
     "text": [
      "Waiting on bqjob_r1eb5d33260ee6f32_000001759c46b0e2_1 ... (1s) Current status: DONE   \n"
     ]
    }
   ],
   "source": [
    "!bq --location=US load --skip_leading_rows=1 --allow_jagged_rows=true --source_format=CSV {dataset_id2}.OESM_sector_18 \\\n",
    "'gs://h_1b/oesm_sector/natsector_M2018_dl.csv' \\\n",
    "naics:STRING,naics_title:STRING,occ_code:STRING,occ_title:STRING,group:STRING,tot_emp:INTEGER,emp_prse:FLOAT,pct_total:FLOAT,pct_rpt:INTEGER,h_mean:FLOAT,a_mean:INTEGER,mean_prse:FLOAT,h_pct10:FLOAT,h_pct25:FLOAT,h_median:FLOAT,h_pct75:FLOAT,h_pct90:FLOAT,a_pct10:INTEGER,a_pct25:INTEGER,a_median:INTEGER,a_pct75:INTEGER,a_pct90:INTEGER,annual:BOOLEAN,hourly:BOOLEAN\n",
    "                                                                                        "
   ]
  },
  {
   "cell_type": "code",
   "execution_count": 165,
   "metadata": {},
   "outputs": [
    {
     "name": "stdout",
     "output_type": "stream",
     "text": [
      "Waiting on bqjob_r2e87c3014294619c_000001759c47f931_1 ... (1s) Current status: DONE   \n"
     ]
    }
   ],
   "source": [
    "!bq --location=US load --skip_leading_rows=1 --allow_jagged_rows=true --source_format=CSV {dataset_id2}.OESM_sector_19 \\\n",
    "'gs://h_1b/oesm_sector/natsector_M2019_dl.csv' \\\n",
    "area:INTEGER,area_title:STRING,area_type:INTEGER,naics:STRING,naics_title:STRING,i_group:STRING,own_code:INTEGER,occ_code:STRING,occ_title:STRING,o_group:STRING,tot_emp:INTEGER,emp_prse:FLOAT,jobs_1000:INTEGER,loc_quotient:FLOAT,pct_total:FLOAT,h_mean:FLOAT,a_mean:INTEGER,mean_prse:FLOAT,h_pct10:FLOAT,h_pct25:FLOAT,h_median:FLOAT,h_pct75:FLOAT,h_pct90:FLOAT,a_pct10:INTEGER,a_pct25:INTEGER,a_median:INTEGER,a_pct75:INTEGER,a_pct90:INTEGER,annual:BOOLEAN,hourly:BOOLEAN\n",
    "                                                                                        "
   ]
  },
  {
   "cell_type": "markdown",
   "metadata": {},
   "source": [
    "## Query"
   ]
  },
  {
   "cell_type": "markdown",
   "metadata": {},
   "source": [
    "### From H-1B dataset"
   ]
  },
  {
   "cell_type": "markdown",
   "metadata": {},
   "source": [
    "#### 1) Find employer that got approvals for H-1B VISA and find the sum of 2009's and 2019's, order by highest to lowest.\n",
    "#### We are trying to find which company tends to get highest number of initial approval of H-1B request. "
   ]
  },
  {
   "cell_type": "code",
   "execution_count": 335,
   "metadata": {},
   "outputs": [
    {
     "data": {
      "text/html": [
       "<div>\n",
       "<style scoped>\n",
       "    .dataframe tbody tr th:only-of-type {\n",
       "        vertical-align: middle;\n",
       "    }\n",
       "\n",
       "    .dataframe tbody tr th {\n",
       "        vertical-align: top;\n",
       "    }\n",
       "\n",
       "    .dataframe thead th {\n",
       "        text-align: right;\n",
       "    }\n",
       "</style>\n",
       "<table border=\"1\" class=\"dataframe\">\n",
       "  <thead>\n",
       "    <tr style=\"text-align: right;\">\n",
       "      <th></th>\n",
       "      <th>employer</th>\n",
       "      <th>initial_approval_sum</th>\n",
       "    </tr>\n",
       "  </thead>\n",
       "  <tbody>\n",
       "    <tr>\n",
       "      <th>0</th>\n",
       "      <td>MICROSOFT CORPORATION</td>\n",
       "      <td>3177</td>\n",
       "    </tr>\n",
       "    <tr>\n",
       "      <th>1</th>\n",
       "      <td>WIPRO LIMITED</td>\n",
       "      <td>2680</td>\n",
       "    </tr>\n",
       "    <tr>\n",
       "      <th>2</th>\n",
       "      <td>WIPRO LIMITED</td>\n",
       "      <td>2076</td>\n",
       "    </tr>\n",
       "    <tr>\n",
       "      <th>3</th>\n",
       "      <td>WIPRO LIMITED</td>\n",
       "      <td>2076</td>\n",
       "    </tr>\n",
       "    <tr>\n",
       "      <th>4</th>\n",
       "      <td>WIPRO LIMITED</td>\n",
       "      <td>2076</td>\n",
       "    </tr>\n",
       "    <tr>\n",
       "      <th>5</th>\n",
       "      <td>WIPRO LIMITED</td>\n",
       "      <td>2075</td>\n",
       "    </tr>\n",
       "    <tr>\n",
       "      <th>6</th>\n",
       "      <td>WIPRO LIMITED</td>\n",
       "      <td>2075</td>\n",
       "    </tr>\n",
       "    <tr>\n",
       "      <th>7</th>\n",
       "      <td>WIPRO LIMITED</td>\n",
       "      <td>2075</td>\n",
       "    </tr>\n",
       "    <tr>\n",
       "      <th>8</th>\n",
       "      <td>WIPRO LIMITED</td>\n",
       "      <td>2075</td>\n",
       "    </tr>\n",
       "    <tr>\n",
       "      <th>9</th>\n",
       "      <td>WIPRO LIMITED</td>\n",
       "      <td>2075</td>\n",
       "    </tr>\n",
       "  </tbody>\n",
       "</table>\n",
       "</div>"
      ],
      "text/plain": [
       "                employer  initial_approval_sum\n",
       "0  MICROSOFT CORPORATION                  3177\n",
       "1          WIPRO LIMITED                  2680\n",
       "2          WIPRO LIMITED                  2076\n",
       "3          WIPRO LIMITED                  2076\n",
       "4          WIPRO LIMITED                  2076\n",
       "5          WIPRO LIMITED                  2075\n",
       "6          WIPRO LIMITED                  2075\n",
       "7          WIPRO LIMITED                  2075\n",
       "8          WIPRO LIMITED                  2075\n",
       "9          WIPRO LIMITED                  2075"
      ]
     },
     "execution_count": 335,
     "metadata": {},
     "output_type": "execute_result"
    }
   ],
   "source": [
    "%%bigquery\n",
    "select h9.employer, (h9.initial_approval + h19.initial_approval) as initial_approval_sum\n",
    "from ucis_staging.H1_09 as h9\n",
    "join\n",
    "ucis_staging.H1_19 as h19 on h9.employer = h19.employer\n",
    "where (h9.initial_approval + h19.initial_approval) > 50\n",
    "order by (h9.initial_approval + h19.initial_approval) DESC\n",
    "limit 10;"
   ]
  },
  {
   "cell_type": "markdown",
   "metadata": {},
   "source": [
    "#### 2) Find companies that has highest sum of initial denials in two years (2009-2010)."
   ]
  },
  {
   "cell_type": "code",
   "execution_count": 289,
   "metadata": {},
   "outputs": [
    {
     "data": {
      "text/html": [
       "<div>\n",
       "<style scoped>\n",
       "    .dataframe tbody tr th:only-of-type {\n",
       "        vertical-align: middle;\n",
       "    }\n",
       "\n",
       "    .dataframe tbody tr th {\n",
       "        vertical-align: top;\n",
       "    }\n",
       "\n",
       "    .dataframe thead th {\n",
       "        text-align: right;\n",
       "    }\n",
       "</style>\n",
       "<table border=\"1\" class=\"dataframe\">\n",
       "  <thead>\n",
       "    <tr style=\"text-align: right;\">\n",
       "      <th></th>\n",
       "      <th>employer</th>\n",
       "      <th>denials_09</th>\n",
       "      <th>denials_10</th>\n",
       "    </tr>\n",
       "  </thead>\n",
       "  <tbody>\n",
       "    <tr>\n",
       "      <th>0</th>\n",
       "      <td>COGNIZANT TECH SOLUTIONS US CORP</td>\n",
       "      <td>3070</td>\n",
       "      <td>1</td>\n",
       "    </tr>\n",
       "    <tr>\n",
       "      <th>1</th>\n",
       "      <td>COGNIZANT TECH SOLUTIONS US CORP</td>\n",
       "      <td>3070</td>\n",
       "      <td>0</td>\n",
       "    </tr>\n",
       "    <tr>\n",
       "      <th>2</th>\n",
       "      <td>PATNI AMERICAS INC</td>\n",
       "      <td>264</td>\n",
       "      <td>30</td>\n",
       "    </tr>\n",
       "    <tr>\n",
       "      <th>3</th>\n",
       "      <td>PATNI AMERICAS INC</td>\n",
       "      <td>264</td>\n",
       "      <td>1</td>\n",
       "    </tr>\n",
       "    <tr>\n",
       "      <th>4</th>\n",
       "      <td>PATNI AMERICAS INC</td>\n",
       "      <td>264</td>\n",
       "      <td>0</td>\n",
       "    </tr>\n",
       "    <tr>\n",
       "      <th>5</th>\n",
       "      <td>INFOSYS TECHNOLOGIES LIMITED</td>\n",
       "      <td>32</td>\n",
       "      <td>206</td>\n",
       "    </tr>\n",
       "    <tr>\n",
       "      <th>6</th>\n",
       "      <td>INFOSYS TECHNOLOGIES LIMITED</td>\n",
       "      <td>1</td>\n",
       "      <td>206</td>\n",
       "    </tr>\n",
       "    <tr>\n",
       "      <th>7</th>\n",
       "      <td>INFOSYS TECHNOLOGIES LIMITED</td>\n",
       "      <td>0</td>\n",
       "      <td>206</td>\n",
       "    </tr>\n",
       "    <tr>\n",
       "      <th>8</th>\n",
       "      <td>COGNIZANT TECHNOLOGY SOLUTIONS US</td>\n",
       "      <td>0</td>\n",
       "      <td>197</td>\n",
       "    </tr>\n",
       "    <tr>\n",
       "      <th>9</th>\n",
       "      <td>JSMN INTERNATIONAL INC</td>\n",
       "      <td>179</td>\n",
       "      <td>13</td>\n",
       "    </tr>\n",
       "  </tbody>\n",
       "</table>\n",
       "</div>"
      ],
      "text/plain": [
       "                            employer  denials_09  denials_10\n",
       "0   COGNIZANT TECH SOLUTIONS US CORP        3070           1\n",
       "1   COGNIZANT TECH SOLUTIONS US CORP        3070           0\n",
       "2                 PATNI AMERICAS INC         264          30\n",
       "3                 PATNI AMERICAS INC         264           1\n",
       "4                 PATNI AMERICAS INC         264           0\n",
       "5       INFOSYS TECHNOLOGIES LIMITED          32         206\n",
       "6       INFOSYS TECHNOLOGIES LIMITED           1         206\n",
       "7       INFOSYS TECHNOLOGIES LIMITED           0         206\n",
       "8  COGNIZANT TECHNOLOGY SOLUTIONS US           0         197\n",
       "9             JSMN INTERNATIONAL INC         179          13"
      ]
     },
     "execution_count": 289,
     "metadata": {},
     "output_type": "execute_result"
    }
   ],
   "source": [
    "%%bigquery\n",
    "select distinct h9.employer, h9.initial_denials as denials_09, h10.initial_denials as denials_10\n",
    "from ucis_staging.H1_09 as h9\n",
    "join\n",
    "ucis_staging.H1_10 as h10 on h9.employer = h10.employer\n",
    "order by (h9.initial_denials + h10.initial_denials) DESC\n",
    "limit 10;"
   ]
  },
  {
   "cell_type": "markdown",
   "metadata": {},
   "source": [
    "#### 3) Find companies that are located in MARLBOROUGH city and find their number of continuing approvals in 2015 and 2019."
   ]
  },
  {
   "cell_type": "code",
   "execution_count": 336,
   "metadata": {},
   "outputs": [
    {
     "data": {
      "text/html": [
       "<div>\n",
       "<style scoped>\n",
       "    .dataframe tbody tr th:only-of-type {\n",
       "        vertical-align: middle;\n",
       "    }\n",
       "\n",
       "    .dataframe tbody tr th {\n",
       "        vertical-align: top;\n",
       "    }\n",
       "\n",
       "    .dataframe thead th {\n",
       "        text-align: right;\n",
       "    }\n",
       "</style>\n",
       "<table border=\"1\" class=\"dataframe\">\n",
       "  <thead>\n",
       "    <tr style=\"text-align: right;\">\n",
       "      <th></th>\n",
       "      <th>employer</th>\n",
       "      <th>city</th>\n",
       "      <th>continuing_approval15</th>\n",
       "      <th>continuing_approval19</th>\n",
       "    </tr>\n",
       "  </thead>\n",
       "  <tbody>\n",
       "    <tr>\n",
       "      <th>0</th>\n",
       "      <td>INTERNATIONAL COMPUTERWARE INC</td>\n",
       "      <td>MARLBOROUGH</td>\n",
       "      <td>0</td>\n",
       "      <td>3</td>\n",
       "    </tr>\n",
       "    <tr>\n",
       "      <th>1</th>\n",
       "      <td>SUNOVION PHARMACEUTICALS INC</td>\n",
       "      <td>MARLBOROUGH</td>\n",
       "      <td>0</td>\n",
       "      <td>6</td>\n",
       "    </tr>\n",
       "    <tr>\n",
       "      <th>2</th>\n",
       "      <td>CURADEL LLC</td>\n",
       "      <td>MARLBOROUGH</td>\n",
       "      <td>0</td>\n",
       "      <td>0</td>\n",
       "    </tr>\n",
       "    <tr>\n",
       "      <th>3</th>\n",
       "      <td>QUANTIPHI INC</td>\n",
       "      <td>MARLBOROUGH</td>\n",
       "      <td>0</td>\n",
       "      <td>0</td>\n",
       "    </tr>\n",
       "    <tr>\n",
       "      <th>4</th>\n",
       "      <td>QUANTIPHI INC</td>\n",
       "      <td>MARLBOROUGH</td>\n",
       "      <td>0</td>\n",
       "      <td>4</td>\n",
       "    </tr>\n",
       "    <tr>\n",
       "      <th>5</th>\n",
       "      <td>VASSIT SERVICES US INC</td>\n",
       "      <td>MARLBOROUGH</td>\n",
       "      <td>2</td>\n",
       "      <td>1</td>\n",
       "    </tr>\n",
       "    <tr>\n",
       "      <th>6</th>\n",
       "      <td>BOSTON TECHNOLOGY CORPORATION</td>\n",
       "      <td>MARLBOROUGH</td>\n",
       "      <td>5</td>\n",
       "      <td>2</td>\n",
       "    </tr>\n",
       "    <tr>\n",
       "      <th>7</th>\n",
       "      <td>RESOURCESOFT INC</td>\n",
       "      <td>MARLBOROUGH</td>\n",
       "      <td>8</td>\n",
       "      <td>14</td>\n",
       "    </tr>\n",
       "  </tbody>\n",
       "</table>\n",
       "</div>"
      ],
      "text/plain": [
       "                         employer         city  continuing_approval15  \\\n",
       "0  INTERNATIONAL COMPUTERWARE INC  MARLBOROUGH                      0   \n",
       "1    SUNOVION PHARMACEUTICALS INC  MARLBOROUGH                      0   \n",
       "2                     CURADEL LLC  MARLBOROUGH                      0   \n",
       "3                   QUANTIPHI INC  MARLBOROUGH                      0   \n",
       "4                   QUANTIPHI INC  MARLBOROUGH                      0   \n",
       "5          VASSIT SERVICES US INC  MARLBOROUGH                      2   \n",
       "6   BOSTON TECHNOLOGY CORPORATION  MARLBOROUGH                      5   \n",
       "7                RESOURCESOFT INC  MARLBOROUGH                      8   \n",
       "\n",
       "   continuing_approval19  \n",
       "0                      3  \n",
       "1                      6  \n",
       "2                      0  \n",
       "3                      0  \n",
       "4                      4  \n",
       "5                      1  \n",
       "6                      2  \n",
       "7                     14  "
      ]
     },
     "execution_count": 336,
     "metadata": {},
     "output_type": "execute_result"
    }
   ],
   "source": [
    "%%bigquery\n",
    "select distinct h15.employer, h15.city, h15.continuing_approval as continuing_approval15, h19.continuing_approval as continuing_approval19\n",
    "from ucis_staging.H1_15 as h15\n",
    "join \n",
    "ucis_staging.H1_19 as h19 on h15.employer = h19.employer\n",
    "where h15.city = \"MARLBOROUGH\"\n",
    "limit 10;"
   ]
  },
  {
   "cell_type": "markdown",
   "metadata": {},
   "source": [
    "#### 4) Count cities that appears more than 10 in both 2009 and 2019 and their continuing_approval more than 100 in 2019. "
   ]
  },
  {
   "cell_type": "code",
   "execution_count": 339,
   "metadata": {},
   "outputs": [
    {
     "data": {
      "text/html": [
       "<div>\n",
       "<style scoped>\n",
       "    .dataframe tbody tr th:only-of-type {\n",
       "        vertical-align: middle;\n",
       "    }\n",
       "\n",
       "    .dataframe tbody tr th {\n",
       "        vertical-align: top;\n",
       "    }\n",
       "\n",
       "    .dataframe thead th {\n",
       "        text-align: right;\n",
       "    }\n",
       "</style>\n",
       "<table border=\"1\" class=\"dataframe\">\n",
       "  <thead>\n",
       "    <tr style=\"text-align: right;\">\n",
       "      <th></th>\n",
       "      <th>city</th>\n",
       "      <th>count09</th>\n",
       "      <th>continuing_approval19</th>\n",
       "    </tr>\n",
       "  </thead>\n",
       "  <tbody>\n",
       "    <tr>\n",
       "      <th>0</th>\n",
       "      <td>WESTBORO</td>\n",
       "      <td>3</td>\n",
       "      <td>133</td>\n",
       "    </tr>\n",
       "    <tr>\n",
       "      <th>1</th>\n",
       "      <td>WESTBOROUGH</td>\n",
       "      <td>2</td>\n",
       "      <td>133</td>\n",
       "    </tr>\n",
       "    <tr>\n",
       "      <th>2</th>\n",
       "      <td>WESTBOROUGH</td>\n",
       "      <td>14</td>\n",
       "      <td>1</td>\n",
       "    </tr>\n",
       "    <tr>\n",
       "      <th>3</th>\n",
       "      <td>WESTBOROUGH</td>\n",
       "      <td>1</td>\n",
       "      <td>147</td>\n",
       "    </tr>\n",
       "    <tr>\n",
       "      <th>4</th>\n",
       "      <td>WESTBOROUGH</td>\n",
       "      <td>1</td>\n",
       "      <td>705</td>\n",
       "    </tr>\n",
       "    <tr>\n",
       "      <th>5</th>\n",
       "      <td>WORCESTER</td>\n",
       "      <td>1</td>\n",
       "      <td>187</td>\n",
       "    </tr>\n",
       "    <tr>\n",
       "      <th>6</th>\n",
       "      <td>ANDOVER</td>\n",
       "      <td>2</td>\n",
       "      <td>539</td>\n",
       "    </tr>\n",
       "    <tr>\n",
       "      <th>7</th>\n",
       "      <td>WILMINGTON</td>\n",
       "      <td>12</td>\n",
       "      <td>1</td>\n",
       "    </tr>\n",
       "    <tr>\n",
       "      <th>8</th>\n",
       "      <td>BOSTON</td>\n",
       "      <td>3</td>\n",
       "      <td>117</td>\n",
       "    </tr>\n",
       "    <tr>\n",
       "      <th>9</th>\n",
       "      <td>BOSTON</td>\n",
       "      <td>104</td>\n",
       "      <td>0</td>\n",
       "    </tr>\n",
       "  </tbody>\n",
       "</table>\n",
       "</div>"
      ],
      "text/plain": [
       "          city  count09  continuing_approval19\n",
       "0     WESTBORO        3                    133\n",
       "1  WESTBOROUGH        2                    133\n",
       "2  WESTBOROUGH       14                      1\n",
       "3  WESTBOROUGH        1                    147\n",
       "4  WESTBOROUGH        1                    705\n",
       "5    WORCESTER        1                    187\n",
       "6      ANDOVER        2                    539\n",
       "7   WILMINGTON       12                      1\n",
       "8       BOSTON        3                    117\n",
       "9       BOSTON      104                      0"
      ]
     },
     "execution_count": 339,
     "metadata": {},
     "output_type": "execute_result"
    }
   ],
   "source": [
    "%%bigquery\n",
    "select h9.city, count(h9.city) as count09, h19.continuing_approval as continuing_approval19\n",
    "from ucis_staging.H1_09 as h9\n",
    "join\n",
    "ucis_staging.H1_19 as h19 on h9.employer = h19.employer\n",
    "group by h9.city, h19.continuing_approval \n",
    "having count(h9.city) > 10 or h19.continuing_approval > 100\n",
    "limit 10;"
   ]
  },
  {
   "cell_type": "markdown",
   "metadata": {},
   "source": [
    "#### 5) Find out companies that have different NAICS number in 2017 and 2018."
   ]
  },
  {
   "cell_type": "code",
   "execution_count": 311,
   "metadata": {},
   "outputs": [
    {
     "data": {
      "text/html": [
       "<div>\n",
       "<style scoped>\n",
       "    .dataframe tbody tr th:only-of-type {\n",
       "        vertical-align: middle;\n",
       "    }\n",
       "\n",
       "    .dataframe tbody tr th {\n",
       "        vertical-align: top;\n",
       "    }\n",
       "\n",
       "    .dataframe thead th {\n",
       "        text-align: right;\n",
       "    }\n",
       "</style>\n",
       "<table border=\"1\" class=\"dataframe\">\n",
       "  <thead>\n",
       "    <tr style=\"text-align: right;\">\n",
       "      <th></th>\n",
       "      <th>employer</th>\n",
       "      <th>NAICS17</th>\n",
       "      <th>NAICS18</th>\n",
       "    </tr>\n",
       "  </thead>\n",
       "  <tbody>\n",
       "    <tr>\n",
       "      <th>0</th>\n",
       "      <td>BJS WHOLESALE CLUB INC</td>\n",
       "      <td>44</td>\n",
       "      <td>45</td>\n",
       "    </tr>\n",
       "    <tr>\n",
       "      <th>1</th>\n",
       "      <td>ASPEN TECHNOLOGY INC</td>\n",
       "      <td>54</td>\n",
       "      <td>51</td>\n",
       "    </tr>\n",
       "    <tr>\n",
       "      <th>2</th>\n",
       "      <td>COGNEX CORPORATION</td>\n",
       "      <td>33</td>\n",
       "      <td>54</td>\n",
       "    </tr>\n",
       "    <tr>\n",
       "      <th>3</th>\n",
       "      <td>SOPHOS INC</td>\n",
       "      <td>54</td>\n",
       "      <td>51</td>\n",
       "    </tr>\n",
       "    <tr>\n",
       "      <th>4</th>\n",
       "      <td>SOPHOS INC</td>\n",
       "      <td>54</td>\n",
       "      <td>51</td>\n",
       "    </tr>\n",
       "    <tr>\n",
       "      <th>5</th>\n",
       "      <td>LIBERTY MUTUAL GROUP INC</td>\n",
       "      <td>99</td>\n",
       "      <td>52</td>\n",
       "    </tr>\n",
       "    <tr>\n",
       "      <th>6</th>\n",
       "      <td>MILLENNIUM PHARMACEUTICALS INC</td>\n",
       "      <td>54</td>\n",
       "      <td>32</td>\n",
       "    </tr>\n",
       "    <tr>\n",
       "      <th>7</th>\n",
       "      <td>NETSCOUT SYSTEMS INC</td>\n",
       "      <td>51</td>\n",
       "      <td>54</td>\n",
       "    </tr>\n",
       "    <tr>\n",
       "      <th>8</th>\n",
       "      <td>DELOITTE CONSULTING LLP</td>\n",
       "      <td>51</td>\n",
       "      <td>54</td>\n",
       "    </tr>\n",
       "    <tr>\n",
       "      <th>9</th>\n",
       "      <td>DELOITTE CONSULTING LLP</td>\n",
       "      <td>52</td>\n",
       "      <td>54</td>\n",
       "    </tr>\n",
       "  </tbody>\n",
       "</table>\n",
       "</div>"
      ],
      "text/plain": [
       "                         employer NAICS17 NAICS18\n",
       "0          BJS WHOLESALE CLUB INC      44      45\n",
       "1            ASPEN TECHNOLOGY INC      54      51\n",
       "2              COGNEX CORPORATION      33      54\n",
       "3                      SOPHOS INC      54      51\n",
       "4                      SOPHOS INC      54      51\n",
       "5        LIBERTY MUTUAL GROUP INC      99      52\n",
       "6  MILLENNIUM PHARMACEUTICALS INC      54      32\n",
       "7            NETSCOUT SYSTEMS INC      51      54\n",
       "8         DELOITTE CONSULTING LLP      51      54\n",
       "9         DELOITTE CONSULTING LLP      52      54"
      ]
     },
     "execution_count": 311,
     "metadata": {},
     "output_type": "execute_result"
    }
   ],
   "source": [
    "%%bigquery\n",
    "select h17.employer, h17.naics as NAICS17, h18.naics as NAICS18\n",
    "from ucis_staging.H1_17 as h17\n",
    "join\n",
    "ucis_staging.H1_18 as h18 on h17.employer = h18.employer\n",
    "where h17.naics != h18.naics\n",
    "limit 10"
   ]
  },
  {
   "cell_type": "markdown",
   "metadata": {},
   "source": [
    "## From Occupational Survey datasets"
   ]
  },
  {
   "cell_type": "markdown",
   "metadata": {},
   "source": [
    "#### 1) Find which NAICS Title has the highest occupational count. "
   ]
  },
  {
   "cell_type": "code",
   "execution_count": 347,
   "metadata": {},
   "outputs": [
    {
     "data": {
      "text/html": [
       "<div>\n",
       "<style scoped>\n",
       "    .dataframe tbody tr th:only-of-type {\n",
       "        vertical-align: middle;\n",
       "    }\n",
       "\n",
       "    .dataframe tbody tr th {\n",
       "        vertical-align: top;\n",
       "    }\n",
       "\n",
       "    .dataframe thead th {\n",
       "        text-align: right;\n",
       "    }\n",
       "</style>\n",
       "<table border=\"1\" class=\"dataframe\">\n",
       "  <thead>\n",
       "    <tr style=\"text-align: right;\">\n",
       "      <th></th>\n",
       "      <th>naics_title</th>\n",
       "      <th>occ_count</th>\n",
       "    </tr>\n",
       "  </thead>\n",
       "  <tbody>\n",
       "    <tr>\n",
       "      <th>0</th>\n",
       "      <td>Federal, State, and Local Government (excludin...</td>\n",
       "      <td>637</td>\n",
       "    </tr>\n",
       "    <tr>\n",
       "      <th>1</th>\n",
       "      <td>Administrative and Support and Waste Managemen...</td>\n",
       "      <td>616</td>\n",
       "    </tr>\n",
       "    <tr>\n",
       "      <th>2</th>\n",
       "      <td>Educational Services</td>\n",
       "      <td>599</td>\n",
       "    </tr>\n",
       "    <tr>\n",
       "      <th>3</th>\n",
       "      <td>Professional, Scientific, and Technical Services</td>\n",
       "      <td>568</td>\n",
       "    </tr>\n",
       "    <tr>\n",
       "      <th>4</th>\n",
       "      <td>Manufacturing</td>\n",
       "      <td>552</td>\n",
       "    </tr>\n",
       "    <tr>\n",
       "      <th>5</th>\n",
       "      <td>Other Services (except Federal, State, and Loc...</td>\n",
       "      <td>532</td>\n",
       "    </tr>\n",
       "    <tr>\n",
       "      <th>6</th>\n",
       "      <td>Wholesale Trade</td>\n",
       "      <td>490</td>\n",
       "    </tr>\n",
       "    <tr>\n",
       "      <th>7</th>\n",
       "      <td>Health Care and Social Assistance</td>\n",
       "      <td>489</td>\n",
       "    </tr>\n",
       "    <tr>\n",
       "      <th>8</th>\n",
       "      <td>Management of Companies and Enterprises</td>\n",
       "      <td>485</td>\n",
       "    </tr>\n",
       "    <tr>\n",
       "      <th>9</th>\n",
       "      <td>Retail Trade</td>\n",
       "      <td>425</td>\n",
       "    </tr>\n",
       "  </tbody>\n",
       "</table>\n",
       "</div>"
      ],
      "text/plain": [
       "                                         naics_title  occ_count\n",
       "0  Federal, State, and Local Government (excludin...        637\n",
       "1  Administrative and Support and Waste Managemen...        616\n",
       "2                               Educational Services        599\n",
       "3   Professional, Scientific, and Technical Services        568\n",
       "4                                      Manufacturing        552\n",
       "5  Other Services (except Federal, State, and Loc...        532\n",
       "6                                    Wholesale Trade        490\n",
       "7                  Health Care and Social Assistance        489\n",
       "8            Management of Companies and Enterprises        485\n",
       "9                                       Retail Trade        425"
      ]
     },
     "execution_count": 347,
     "metadata": {},
     "output_type": "execute_result"
    }
   ],
   "source": [
    "%%bigquery\n",
    "select sector_11.naics_title, count(nat_11.occ_code) as occ_count\n",
    "from oesm_staging.OESM_sector_11 as sector_11 \n",
    "join \n",
    "oesm_staging.OESM_national_11 as nat_11 on sector_11.occ_title = nat_11.occ_title\n",
    "group by sector_11.naics_title\n",
    "order by occ_count DESC\n",
    "limit 10;\n"
   ]
  },
  {
   "cell_type": "markdown",
   "metadata": {},
   "source": [
    "#### 2) Find Occupation Title, Ownership and National Total Employment where the ownership is Federal, State, and Local government. "
   ]
  },
  {
   "cell_type": "code",
   "execution_count": 1,
   "metadata": {},
   "outputs": [
    {
     "data": {
      "text/html": [
       "<div>\n",
       "<style scoped>\n",
       "    .dataframe tbody tr th:only-of-type {\n",
       "        vertical-align: middle;\n",
       "    }\n",
       "\n",
       "    .dataframe tbody tr th {\n",
       "        vertical-align: top;\n",
       "    }\n",
       "\n",
       "    .dataframe thead th {\n",
       "        text-align: right;\n",
       "    }\n",
       "</style>\n",
       "<table border=\"1\" class=\"dataframe\">\n",
       "  <thead>\n",
       "    <tr style=\"text-align: right;\">\n",
       "      <th></th>\n",
       "      <th>occ_title</th>\n",
       "      <th>ownership</th>\n",
       "      <th>tot_emp</th>\n",
       "    </tr>\n",
       "  </thead>\n",
       "  <tbody>\n",
       "    <tr>\n",
       "      <th>0</th>\n",
       "      <td>Postmasters and Mail Superintendents</td>\n",
       "      <td>Federal, State, and Local government</td>\n",
       "      <td>13770</td>\n",
       "    </tr>\n",
       "    <tr>\n",
       "      <th>1</th>\n",
       "      <td>Postmasters and Mail Superintendents</td>\n",
       "      <td>Federal, State, and Local government</td>\n",
       "      <td>13770</td>\n",
       "    </tr>\n",
       "    <tr>\n",
       "      <th>2</th>\n",
       "      <td>Postmasters and Mail Superintendents</td>\n",
       "      <td>Federal, State, and Local government</td>\n",
       "      <td>13770</td>\n",
       "    </tr>\n",
       "    <tr>\n",
       "      <th>3</th>\n",
       "      <td>Postmasters and Mail Superintendents</td>\n",
       "      <td>Federal, State, and Local government</td>\n",
       "      <td>13770</td>\n",
       "    </tr>\n",
       "    <tr>\n",
       "      <th>4</th>\n",
       "      <td>Tax Preparers</td>\n",
       "      <td>Federal, State, and Local government</td>\n",
       "      <td>68090</td>\n",
       "    </tr>\n",
       "    <tr>\n",
       "      <th>5</th>\n",
       "      <td>Industrial-Organizational Psychologists</td>\n",
       "      <td>Federal, State, and Local government</td>\n",
       "      <td>780</td>\n",
       "    </tr>\n",
       "    <tr>\n",
       "      <th>6</th>\n",
       "      <td>Preschool Teachers, Except Special Education</td>\n",
       "      <td>Federal, State, and Local government</td>\n",
       "      <td>424520</td>\n",
       "    </tr>\n",
       "    <tr>\n",
       "      <th>7</th>\n",
       "      <td>Fashion Designers</td>\n",
       "      <td>Federal, State, and Local government</td>\n",
       "      <td>19750</td>\n",
       "    </tr>\n",
       "    <tr>\n",
       "      <th>8</th>\n",
       "      <td>Actors</td>\n",
       "      <td>Federal, State, and Local government</td>\n",
       "      <td>47430</td>\n",
       "    </tr>\n",
       "    <tr>\n",
       "      <th>9</th>\n",
       "      <td>Dancers and Choreographers</td>\n",
       "      <td>Federal, State, and Local government</td>\n",
       "      <td>14810</td>\n",
       "    </tr>\n",
       "  </tbody>\n",
       "</table>\n",
       "</div>"
      ],
      "text/plain": [
       "                                      occ_title  \\\n",
       "0          Postmasters and Mail Superintendents   \n",
       "1          Postmasters and Mail Superintendents   \n",
       "2          Postmasters and Mail Superintendents   \n",
       "3          Postmasters and Mail Superintendents   \n",
       "4                                 Tax Preparers   \n",
       "5       Industrial-Organizational Psychologists   \n",
       "6  Preschool Teachers, Except Special Education   \n",
       "7                             Fashion Designers   \n",
       "8                                        Actors   \n",
       "9                    Dancers and Choreographers   \n",
       "\n",
       "                              ownership  tot_emp  \n",
       "0  Federal, State, and Local government    13770  \n",
       "1  Federal, State, and Local government    13770  \n",
       "2  Federal, State, and Local government    13770  \n",
       "3  Federal, State, and Local government    13770  \n",
       "4  Federal, State, and Local government    68090  \n",
       "5  Federal, State, and Local government      780  \n",
       "6  Federal, State, and Local government   424520  \n",
       "7  Federal, State, and Local government    19750  \n",
       "8  Federal, State, and Local government    47430  \n",
       "9  Federal, State, and Local government    14810  "
      ]
     },
     "execution_count": 1,
     "metadata": {},
     "output_type": "execute_result"
    }
   ],
   "source": [
    "%%bigquery\n",
    "select own18.occ_title, own18.ownership, nat18.tot_emp\n",
    "from oesm_staging.OESM_owner_18 as own18\n",
    "join\n",
    "oesm_staging.OESM_national_18 as nat18 on own18.occ_title = nat18.occ_title\n",
    "where own18.ownership = \"Federal, State, and Local government\"\n",
    "limit 10;"
   ]
  },
  {
   "cell_type": "markdown",
   "metadata": {},
   "source": [
    "#### 3) Find Occupational Title, Ownership, national total employment and national hourly wage of occupations like \"Actors\", \"Dancers\", \"Choreographers\", \"Craft Artists\" in 2013 that have total employment more than 1000."
   ]
  },
  {
   "cell_type": "code",
   "execution_count": 323,
   "metadata": {},
   "outputs": [
    {
     "data": {
      "text/html": [
       "<div>\n",
       "<style scoped>\n",
       "    .dataframe tbody tr th:only-of-type {\n",
       "        vertical-align: middle;\n",
       "    }\n",
       "\n",
       "    .dataframe tbody tr th {\n",
       "        vertical-align: top;\n",
       "    }\n",
       "\n",
       "    .dataframe thead th {\n",
       "        text-align: right;\n",
       "    }\n",
       "</style>\n",
       "<table border=\"1\" class=\"dataframe\">\n",
       "  <thead>\n",
       "    <tr style=\"text-align: right;\">\n",
       "      <th></th>\n",
       "      <th>occ_title</th>\n",
       "      <th>ownership</th>\n",
       "      <th>tot_emp</th>\n",
       "      <th>h_mean</th>\n",
       "    </tr>\n",
       "  </thead>\n",
       "  <tbody>\n",
       "    <tr>\n",
       "      <th>0</th>\n",
       "      <td>Actors</td>\n",
       "      <td>Local government</td>\n",
       "      <td>63230</td>\n",
       "      <td>41.94</td>\n",
       "    </tr>\n",
       "    <tr>\n",
       "      <th>1</th>\n",
       "      <td>Actors</td>\n",
       "      <td>Federal, State, and Local government</td>\n",
       "      <td>63230</td>\n",
       "      <td>41.94</td>\n",
       "    </tr>\n",
       "    <tr>\n",
       "      <th>2</th>\n",
       "      <td>Actors</td>\n",
       "      <td>State government</td>\n",
       "      <td>63230</td>\n",
       "      <td>41.94</td>\n",
       "    </tr>\n",
       "    <tr>\n",
       "      <th>3</th>\n",
       "      <td>Actors</td>\n",
       "      <td>Private</td>\n",
       "      <td>63230</td>\n",
       "      <td>41.94</td>\n",
       "    </tr>\n",
       "    <tr>\n",
       "      <th>4</th>\n",
       "      <td>Choreographers</td>\n",
       "      <td>Private</td>\n",
       "      <td>6300</td>\n",
       "      <td>24.00</td>\n",
       "    </tr>\n",
       "    <tr>\n",
       "      <th>5</th>\n",
       "      <td>Choreographers</td>\n",
       "      <td>Local government</td>\n",
       "      <td>6300</td>\n",
       "      <td>24.00</td>\n",
       "    </tr>\n",
       "    <tr>\n",
       "      <th>6</th>\n",
       "      <td>Choreographers</td>\n",
       "      <td>Federal, State, and Local government</td>\n",
       "      <td>6300</td>\n",
       "      <td>24.00</td>\n",
       "    </tr>\n",
       "    <tr>\n",
       "      <th>7</th>\n",
       "      <td>Dancers</td>\n",
       "      <td>Private</td>\n",
       "      <td>11540</td>\n",
       "      <td>20.00</td>\n",
       "    </tr>\n",
       "    <tr>\n",
       "      <th>8</th>\n",
       "      <td>Dancers</td>\n",
       "      <td>Federal, State, and Local government</td>\n",
       "      <td>11540</td>\n",
       "      <td>20.00</td>\n",
       "    </tr>\n",
       "    <tr>\n",
       "      <th>9</th>\n",
       "      <td>Craft Artists</td>\n",
       "      <td>Federal, State, and Local government</td>\n",
       "      <td>4750</td>\n",
       "      <td>17.60</td>\n",
       "    </tr>\n",
       "    <tr>\n",
       "      <th>10</th>\n",
       "      <td>Craft Artists</td>\n",
       "      <td>Local government</td>\n",
       "      <td>4750</td>\n",
       "      <td>17.60</td>\n",
       "    </tr>\n",
       "    <tr>\n",
       "      <th>11</th>\n",
       "      <td>Craft Artists</td>\n",
       "      <td>Private</td>\n",
       "      <td>4750</td>\n",
       "      <td>17.60</td>\n",
       "    </tr>\n",
       "  </tbody>\n",
       "</table>\n",
       "</div>"
      ],
      "text/plain": [
       "         occ_title                             ownership  tot_emp  h_mean\n",
       "0           Actors                      Local government    63230   41.94\n",
       "1           Actors  Federal, State, and Local government    63230   41.94\n",
       "2           Actors                      State government    63230   41.94\n",
       "3           Actors                               Private    63230   41.94\n",
       "4   Choreographers                               Private     6300   24.00\n",
       "5   Choreographers                      Local government     6300   24.00\n",
       "6   Choreographers  Federal, State, and Local government     6300   24.00\n",
       "7          Dancers                               Private    11540   20.00\n",
       "8          Dancers  Federal, State, and Local government    11540   20.00\n",
       "9    Craft Artists  Federal, State, and Local government     4750   17.60\n",
       "10   Craft Artists                      Local government     4750   17.60\n",
       "11   Craft Artists                               Private     4750   17.60"
      ]
     },
     "execution_count": 323,
     "metadata": {},
     "output_type": "execute_result"
    }
   ],
   "source": [
    "%%bigquery\n",
    "select own13.occ_title, own13.ownership, nat13.tot_emp, nat13.h_mean\n",
    "from oesm_staging.OESM_owner_13 as own13\n",
    "join\n",
    "oesm_staging.OESM_national_13 as nat13 on own13.occ_code = nat13.occ_code\n",
    "where nat13.tot_emp > 1000 and own13.occ_title in (\"Actors\", \"Dancers\", \"Choreographers\", \"Craft Artists\")\n",
    "order by nat13.h_mean DESC\n",
    "limit 20;\n",
    "\n"
   ]
  },
  {
   "cell_type": "markdown",
   "metadata": {},
   "source": [
    "#### 4) Find Group, NAICS Title, national total employment, national Percent relative standard error (PRSE) for the employment estimate and national Annual Mean. We filtered Minor Groups whose NAICS Title is not Agriculture, Forestry, Fishing and Hunting."
   ]
  },
  {
   "cell_type": "code",
   "execution_count": 328,
   "metadata": {},
   "outputs": [
    {
     "data": {
      "text/html": [
       "<div>\n",
       "<style scoped>\n",
       "    .dataframe tbody tr th:only-of-type {\n",
       "        vertical-align: middle;\n",
       "    }\n",
       "\n",
       "    .dataframe tbody tr th {\n",
       "        vertical-align: top;\n",
       "    }\n",
       "\n",
       "    .dataframe thead th {\n",
       "        text-align: right;\n",
       "    }\n",
       "</style>\n",
       "<table border=\"1\" class=\"dataframe\">\n",
       "  <thead>\n",
       "    <tr style=\"text-align: right;\">\n",
       "      <th></th>\n",
       "      <th>group</th>\n",
       "      <th>naics_title</th>\n",
       "      <th>tot_emp</th>\n",
       "      <th>emp_prse</th>\n",
       "      <th>a_mean</th>\n",
       "    </tr>\n",
       "  </thead>\n",
       "  <tbody>\n",
       "    <tr>\n",
       "      <th>0</th>\n",
       "      <td>minor</td>\n",
       "      <td>Mining, Quarrying, and Oil and Gas Extraction</td>\n",
       "      <td>560</td>\n",
       "      <td>15.2</td>\n",
       "      <td>36290</td>\n",
       "    </tr>\n",
       "    <tr>\n",
       "      <th>1</th>\n",
       "      <td>minor</td>\n",
       "      <td>Mining, Quarrying, and Oil and Gas Extraction</td>\n",
       "      <td>3692980</td>\n",
       "      <td>0.5</td>\n",
       "      <td>83840</td>\n",
       "    </tr>\n",
       "    <tr>\n",
       "      <th>2</th>\n",
       "      <td>minor</td>\n",
       "      <td>Mining, Quarrying, and Oil and Gas Extraction</td>\n",
       "      <td>160590</td>\n",
       "      <td>1.1</td>\n",
       "      <td>72830</td>\n",
       "    </tr>\n",
       "    <tr>\n",
       "      <th>3</th>\n",
       "      <td>minor</td>\n",
       "      <td>Mining, Quarrying, and Oil and Gas Extraction</td>\n",
       "      <td>531920</td>\n",
       "      <td>0.9</td>\n",
       "      <td>51070</td>\n",
       "    </tr>\n",
       "    <tr>\n",
       "      <th>4</th>\n",
       "      <td>minor</td>\n",
       "      <td>Mining, Quarrying, and Oil and Gas Extraction</td>\n",
       "      <td>1736660</td>\n",
       "      <td>0.5</td>\n",
       "      <td>68870</td>\n",
       "    </tr>\n",
       "    <tr>\n",
       "      <th>5</th>\n",
       "      <td>minor</td>\n",
       "      <td>Mining, Quarrying, and Oil and Gas Extraction</td>\n",
       "      <td>383570</td>\n",
       "      <td>1.2</td>\n",
       "      <td>22870</td>\n",
       "    </tr>\n",
       "    <tr>\n",
       "      <th>6</th>\n",
       "      <td>minor</td>\n",
       "      <td>Mining, Quarrying, and Oil and Gas Extraction</td>\n",
       "      <td>1810560</td>\n",
       "      <td>0.7</td>\n",
       "      <td>31720</td>\n",
       "    </tr>\n",
       "    <tr>\n",
       "      <th>7</th>\n",
       "      <td>minor</td>\n",
       "      <td>Mining, Quarrying, and Oil and Gas Extraction</td>\n",
       "      <td>121470</td>\n",
       "      <td>1.5</td>\n",
       "      <td>29220</td>\n",
       "    </tr>\n",
       "    <tr>\n",
       "      <th>8</th>\n",
       "      <td>minor</td>\n",
       "      <td>Mining, Quarrying, and Oil and Gas Extraction</td>\n",
       "      <td>44470</td>\n",
       "      <td>1.8</td>\n",
       "      <td>35430</td>\n",
       "    </tr>\n",
       "    <tr>\n",
       "      <th>9</th>\n",
       "      <td>minor</td>\n",
       "      <td>Mining, Quarrying, and Oil and Gas Extraction</td>\n",
       "      <td>629670</td>\n",
       "      <td>0.5</td>\n",
       "      <td>127880</td>\n",
       "    </tr>\n",
       "  </tbody>\n",
       "</table>\n",
       "</div>"
      ],
      "text/plain": [
       "   group                                    naics_title  tot_emp  emp_prse  \\\n",
       "0  minor  Mining, Quarrying, and Oil and Gas Extraction      560      15.2   \n",
       "1  minor  Mining, Quarrying, and Oil and Gas Extraction  3692980       0.5   \n",
       "2  minor  Mining, Quarrying, and Oil and Gas Extraction   160590       1.1   \n",
       "3  minor  Mining, Quarrying, and Oil and Gas Extraction   531920       0.9   \n",
       "4  minor  Mining, Quarrying, and Oil and Gas Extraction  1736660       0.5   \n",
       "5  minor  Mining, Quarrying, and Oil and Gas Extraction   383570       1.2   \n",
       "6  minor  Mining, Quarrying, and Oil and Gas Extraction  1810560       0.7   \n",
       "7  minor  Mining, Quarrying, and Oil and Gas Extraction   121470       1.5   \n",
       "8  minor  Mining, Quarrying, and Oil and Gas Extraction    44470       1.8   \n",
       "9  minor  Mining, Quarrying, and Oil and Gas Extraction   629670       0.5   \n",
       "\n",
       "   a_mean  \n",
       "0   36290  \n",
       "1   83840  \n",
       "2   72830  \n",
       "3   51070  \n",
       "4   68870  \n",
       "5   22870  \n",
       "6   31720  \n",
       "7   29220  \n",
       "8   35430  \n",
       "9  127880  "
      ]
     },
     "execution_count": 328,
     "metadata": {},
     "output_type": "execute_result"
    }
   ],
   "source": [
    "%%bigquery\n",
    "select nat14.group, sec14.naics_title, nat14.tot_emp, nat14.emp_prse, nat14.a_mean\n",
    "from oesm_staging.OESM_sector_14 as sec14\n",
    "join\n",
    "oesm_staging.OESM_national_14 as nat14 on sec14.group = nat14.group\n",
    "where nat14.group = \"minor\" and sec14.naics_title != \"Agriculture, Forestry, Fishing and Hunting\"\n",
    "limit 10;"
   ]
  },
  {
   "cell_type": "markdown",
   "metadata": {},
   "source": [
    "#### 5)Find Ownership, Occupational Title, NAICS Title in 2018 where Occupational title is Physicists and the ownership is not \"Private\", \"Federal, State, or Local government\". "
   ]
  },
  {
   "cell_type": "code",
   "execution_count": 2,
   "metadata": {},
   "outputs": [
    {
     "data": {
      "text/html": [
       "<div>\n",
       "<style scoped>\n",
       "    .dataframe tbody tr th:only-of-type {\n",
       "        vertical-align: middle;\n",
       "    }\n",
       "\n",
       "    .dataframe tbody tr th {\n",
       "        vertical-align: top;\n",
       "    }\n",
       "\n",
       "    .dataframe thead th {\n",
       "        text-align: right;\n",
       "    }\n",
       "</style>\n",
       "<table border=\"1\" class=\"dataframe\">\n",
       "  <thead>\n",
       "    <tr style=\"text-align: right;\">\n",
       "      <th></th>\n",
       "      <th>ownership</th>\n",
       "      <th>occ_title</th>\n",
       "      <th>naics_title</th>\n",
       "    </tr>\n",
       "  </thead>\n",
       "  <tbody>\n",
       "    <tr>\n",
       "      <th>0</th>\n",
       "      <td>Local government</td>\n",
       "      <td>Physicists</td>\n",
       "      <td>Agriculture, Forestry, Fishing and Hunting</td>\n",
       "    </tr>\n",
       "    <tr>\n",
       "      <th>1</th>\n",
       "      <td>Federal government</td>\n",
       "      <td>Physicists</td>\n",
       "      <td>Agriculture, Forestry, Fishing and Hunting</td>\n",
       "    </tr>\n",
       "    <tr>\n",
       "      <th>2</th>\n",
       "      <td>State government</td>\n",
       "      <td>Physicists</td>\n",
       "      <td>Agriculture, Forestry, Fishing and Hunting</td>\n",
       "    </tr>\n",
       "    <tr>\n",
       "      <th>3</th>\n",
       "      <td>Local government</td>\n",
       "      <td>Physicists</td>\n",
       "      <td>Mining, Quarrying, and Oil and Gas Extraction</td>\n",
       "    </tr>\n",
       "    <tr>\n",
       "      <th>4</th>\n",
       "      <td>Federal government</td>\n",
       "      <td>Physicists</td>\n",
       "      <td>Mining, Quarrying, and Oil and Gas Extraction</td>\n",
       "    </tr>\n",
       "    <tr>\n",
       "      <th>5</th>\n",
       "      <td>State government</td>\n",
       "      <td>Physicists</td>\n",
       "      <td>Mining, Quarrying, and Oil and Gas Extraction</td>\n",
       "    </tr>\n",
       "    <tr>\n",
       "      <th>6</th>\n",
       "      <td>Local government</td>\n",
       "      <td>Physicists</td>\n",
       "      <td>Utilities</td>\n",
       "    </tr>\n",
       "    <tr>\n",
       "      <th>7</th>\n",
       "      <td>Federal government</td>\n",
       "      <td>Physicists</td>\n",
       "      <td>Utilities</td>\n",
       "    </tr>\n",
       "    <tr>\n",
       "      <th>8</th>\n",
       "      <td>State government</td>\n",
       "      <td>Physicists</td>\n",
       "      <td>Utilities</td>\n",
       "    </tr>\n",
       "    <tr>\n",
       "      <th>9</th>\n",
       "      <td>Local government</td>\n",
       "      <td>Physicists</td>\n",
       "      <td>Construction</td>\n",
       "    </tr>\n",
       "  </tbody>\n",
       "</table>\n",
       "</div>"
      ],
      "text/plain": [
       "            ownership   occ_title  \\\n",
       "0    Local government  Physicists   \n",
       "1  Federal government  Physicists   \n",
       "2    State government  Physicists   \n",
       "3    Local government  Physicists   \n",
       "4  Federal government  Physicists   \n",
       "5    State government  Physicists   \n",
       "6    Local government  Physicists   \n",
       "7  Federal government  Physicists   \n",
       "8    State government  Physicists   \n",
       "9    Local government  Physicists   \n",
       "\n",
       "                                     naics_title  \n",
       "0     Agriculture, Forestry, Fishing and Hunting  \n",
       "1     Agriculture, Forestry, Fishing and Hunting  \n",
       "2     Agriculture, Forestry, Fishing and Hunting  \n",
       "3  Mining, Quarrying, and Oil and Gas Extraction  \n",
       "4  Mining, Quarrying, and Oil and Gas Extraction  \n",
       "5  Mining, Quarrying, and Oil and Gas Extraction  \n",
       "6                                      Utilities  \n",
       "7                                      Utilities  \n",
       "8                                      Utilities  \n",
       "9                                   Construction  "
      ]
     },
     "execution_count": 2,
     "metadata": {},
     "output_type": "execute_result"
    }
   ],
   "source": [
    "%%bigquery\n",
    "select distinct own18.ownership, own18.occ_title, sec18.naics_title\n",
    "from oesm_staging.OESM_owner_18 as own18\n",
    "join \n",
    "oesm_staging.OESM_sector_18 as sec18 on own18.group = sec18.group\n",
    "where own18.occ_title = \"Physicists\" and own18.ownership not in (\"Private\", \"Federal, State, and Local government\")\n",
    "limit 10;"
   ]
  },
  {
   "cell_type": "code",
   "execution_count": null,
   "metadata": {},
   "outputs": [],
   "source": []
  }
 ],
 "metadata": {
  "environment": {
   "name": "common-cpu.m56",
   "type": "gcloud",
   "uri": "gcr.io/deeplearning-platform-release/base-cpu:m56"
  },
  "kernelspec": {
   "display_name": "Python 3",
   "language": "python",
   "name": "python3"
  },
  "language_info": {
   "codemirror_mode": {
    "name": "ipython",
    "version": 3
   },
   "file_extension": ".py",
   "mimetype": "text/x-python",
   "name": "python",
   "nbconvert_exporter": "python",
   "pygments_lexer": "ipython3",
   "version": "3.7.8"
  }
 },
 "nbformat": 4,
 "nbformat_minor": 4
}
