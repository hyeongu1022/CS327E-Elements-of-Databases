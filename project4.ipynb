{
 "cells": [
  {
   "cell_type": "code",
   "execution_count": 1,
   "metadata": {},
   "outputs": [],
   "source": [
    "import pandas as pd\n",
    "from google.cloud import firestore\n",
    "db = firestore.Client()"
   ]
  },
  {
   "cell_type": "markdown",
   "metadata": {},
   "source": [
    "# Project 4"
   ]
  },
  {
   "cell_type": "markdown",
   "metadata": {},
   "source": [
    "### apps collection"
   ]
  },
  {
   "cell_type": "code",
   "execution_count": 110,
   "metadata": {},
   "outputs": [],
   "source": [
    "batch = db.batch() #this is same as \"Begin Transaction\"\n",
    "\n",
    "apps_df = pd.read_csv('shopify/apps.csv', sep=',', header=0, lineterminator='\\n')\n",
    "apps_rows = apps_df.values.tolist()\n",
    "\n",
    "key_ben_df = pd.read_csv('shopify/key_benefits.csv', sep=',', header=0, lineterminator='\\n')\n",
    "key_ben_rows = key_ben_df.values.tolist()\n",
    "\n",
    "reviews_df = pd.read_csv('shopify/reviews.csv', sep=',', header=0, lineterminator='\\n')\n",
    "reviews_rows = reviews_df.values.tolist()\n",
    "\n",
    "app_cat_df = pd.read_csv('shopify/apps_categories.csv', sep=',', header=0, lineterminator='\\n')\n",
    "app_cat_rows = app_cat_df.values.tolist()\n",
    "\n",
    "counter = 0\n",
    "\n",
    "# Populating data\n",
    "for app_row in apps_rows:\n",
    "    \n",
    "    record = {}\n",
    "    record['id'] = app_row[0] #PK\n",
    "    record['url'] = app_row[1]\n",
    "    record['title'] = app_row[2]\n",
    "    record['developer'] = app_row[3]\n",
    "    record['developer_link'] = app_row[4]\n",
    "    record['icon'] = app_row[5]\n",
    "    record['rating'] = app_row[6]\n",
    "    record['reviews_count'] = app_row[7]\n",
    "    \n",
    "    # Embed Key_Benefits\n",
    "    key_ben_lst = []\n",
    "    \n",
    "    for kb_row in key_ben_rows:\n",
    "        if app_row[0] == kb_row[0]:\n",
    "            kb = {}\n",
    "            kb['benefit title'] = kb_row[1]\n",
    "            kb['description'] = kb_row[2]\n",
    "            \n",
    "            key_ben_lst.append(kb)\n",
    "    \n",
    "    if len(key_ben_lst) > 0:\n",
    "        record['key_ben'] = key_ben_lst\n",
    "        \n",
    "    # Embed Reviews\n",
    "    reviews_lst = []\n",
    "    \n",
    "    for reviews_row in reviews_rows:\n",
    "        if app_row[0] == reviews_row[0]:\n",
    "            rv = {}\n",
    "            rv['author'] = reviews_row[1]\n",
    "            rv['rating'] = reviews_row[2]\n",
    "            rv['posted_on'] = reviews_row[3]\n",
    "            \n",
    "            reviews_lst.append(rv)\n",
    "            \n",
    "    if len(reviews_lst) > 0:\n",
    "        record['reviews'] = reviews_lst\n",
    "        \n",
    "    \n",
    "    # App_Category\n",
    "    app_cat_lst = []\n",
    "    \n",
    "    for app_cat_row in app_cat_rows:\n",
    "        if app_row[0] == app_cat_row[0]:\n",
    "            app_cat_lst.append(app_cat_row[1]) #add category_id into apps collection\n",
    "        \n",
    "    if len(app_cat_lst) > 0:\n",
    "        record['category_id'] = app_cat_lst\n",
    "        \n",
    "    \n",
    "    apps_ref = db.collection('apps').document(app_row[0]) \n",
    "    batch.set(apps_ref, record) #Add documents\n",
    "    counter += 1\n",
    "    \n",
    "    if counter == 100:\n",
    "        batch.commit() #Commit\n",
    "        counter = 0"
   ]
  },
  {
   "cell_type": "markdown",
   "metadata": {},
   "source": [
    "### categories collection"
   ]
  },
  {
   "cell_type": "code",
   "execution_count": 19,
   "metadata": {},
   "outputs": [],
   "source": [
    "batch = db.batch() #this is same as \"Begin Transaction\"\n",
    "\n",
    "cat_df = pd.read_csv('shopify/categories.csv', sep=',', header=0, lineterminator='\\n')\n",
    "cat_rows = cat_df.values.tolist()\n",
    "\n",
    "# Populating data\n",
    "for cat_row in cat_rows:\n",
    "    \n",
    "    record = {}\n",
    "    record['id'] = cat_row[0] #PK\n",
    "    record['cat_title'] = cat_row[1]\n",
    "    \n",
    "    # App_Category\n",
    "    app_cat_lst2 = []\n",
    "    \n",
    "    for app_cat_row in app_cat_rows:\n",
    "        if cat_row[0] == app_cat_row[1]:\n",
    "            app_cat_lst2.append(app_cat_row[0]) #add app_id from app_category into apps collection\n",
    "        \n",
    "    if len(app_cat_lst2) > 0:\n",
    "        record['app_id'] = app_cat_lst2\n",
    "        \n",
    "    cat_ref = db.collection('categories').document(cat_row[0]) \n",
    "    batch.set(cat_ref, record) #Add documents\n",
    "    \n",
    "    batch.commit() #Commit"
   ]
  },
  {
   "cell_type": "markdown",
   "metadata": {},
   "source": [
    "### pricing_plans collection"
   ]
  },
  {
   "cell_type": "code",
   "execution_count": 108,
   "metadata": {},
   "outputs": [],
   "source": [
    "batch = db.batch() #this is same as \"Begin Transaction\"\n",
    "\n",
    "pp_df = pd.read_csv('shopify/pricing_plans.csv', sep=',', header=0, lineterminator='\\n')\n",
    "pp_rows = pp_df.values.tolist()\n",
    "\n",
    "ppf_df = pd.read_csv('shopify/pricing_plan_features.csv', sep=',', header=0, lineterminator='\\n')\n",
    "ppf_rows = ppf_df.values.tolist()\n",
    "\n",
    "# Populating data\n",
    "for pp_row in pp_rows:\n",
    "    \n",
    "    record = {}\n",
    "    record['id'] = pp_row[0] #PK\n",
    "    record['app_id'] = pp_row[1]\n",
    "    record['title'] = pp_row[2]\n",
    "    record['price'] = pp_row[3]\n",
    "    \n",
    "    \n",
    "    #Pricing Plan Features\n",
    "    ppf_lst = []\n",
    "    \n",
    "    for ppf_row in ppf_rows:\n",
    "        if pp_row[0] == ppf_row[0] and pp_row[1] == ppf_row[1]:\n",
    "            ppf_lst.append(ppf_row[2]) \n",
    "    \n",
    "    \n",
    "    if len(ppf_lst) > 0:\n",
    "        record['features'] = ppf_lst\n",
    "        \n",
    "    \n",
    "    pp_ref = db.collection('pricing_plans').document(pp_row[0]) \n",
    "    batch.set(pp_ref, record) #Add documents\n",
    "    \n",
    "    batch.commit() #Commit\n",
    "    \n",
    "    "
   ]
  },
  {
   "cell_type": "markdown",
   "metadata": {},
   "source": [
    "## Document counts on each collection"
   ]
  },
  {
   "cell_type": "code",
   "execution_count": 22,
   "metadata": {},
   "outputs": [
    {
     "name": "stdout",
     "output_type": "stream",
     "text": [
      "There are 3500 documents in Apps collection\n"
     ]
    }
   ],
   "source": [
    "doc_apps = db.collection('apps').stream()\n",
    "\n",
    "count = 0\n",
    "for i in doc_apps:\n",
    "    count += 1\n",
    "    \n",
    "print(\"There are {} documents in Apps collection\".format(count))"
   ]
  },
  {
   "cell_type": "code",
   "execution_count": 24,
   "metadata": {},
   "outputs": [
    {
     "name": "stdout",
     "output_type": "stream",
     "text": [
      "There are 12 documents in Categories collection\n"
     ]
    }
   ],
   "source": [
    "doc_cat = db.collection('categories').stream()\n",
    "\n",
    "count=0\n",
    "for i in doc_cat:\n",
    "    count += 1\n",
    "    \n",
    "print(\"There are {} documents in Categories collection\".format(count))"
   ]
  },
  {
   "cell_type": "code",
   "execution_count": 109,
   "metadata": {},
   "outputs": [
    {
     "name": "stdout",
     "output_type": "stream",
     "text": [
      "There are 6275 documents in Pricing_Plans collection\n"
     ]
    }
   ],
   "source": [
    "doc_pp = db.collection('pricing_plans').stream()\n",
    "\n",
    "count = 0\n",
    "for i in doc_pp:\n",
    "    count += 1\n",
    "    \n",
    "print(\"There are {} documents in Pricing_Plans collection\".format(count))"
   ]
  },
  {
   "cell_type": "markdown",
   "metadata": {},
   "source": [
    "## Run queries"
   ]
  },
  {
   "cell_type": "code",
   "execution_count": 134,
   "metadata": {},
   "outputs": [
    {
     "name": "stdout",
     "output_type": "stream",
     "text": [
      "d9f142ee-b141-4dc4-9353-173db61d2eb0 => {'reviews_count': 23078, 'rating': 4.7, 'title': 'Privy ‑ Exit Pop Ups & Email', 'developer': 'Privy', 'id': 'd9f142ee-b141-4dc4-9353-173db61d2eb0'}\n",
      "78ea0810-c008-4a4e-a82f-de0c790e3286 => {'reviews_count': 8737, 'rating': 4.9, 'developer': 'Hextom', 'title': 'Free Shipping Bar', 'id': '78ea0810-c008-4a4e-a82f-de0c790e3286'}\n",
      "b88488b0-9912-44d3-b736-224c36f09d95 => {'reviews_count': 6905, 'rating': 4.8, 'title': 'Sales Pop ‑ Popup Notification', 'developer': 'CartKit', 'id': 'b88488b0-9912-44d3-b736-224c36f09d95'}\n",
      "e528a60e-94f8-4e92-80e2-5bc6013b8283 => {'reviews_count': 5986, 'rating': 4.8, 'title': 'BEST Currency Converter', 'developer': 'Grizzly Apps', 'id': 'e528a60e-94f8-4e92-80e2-5bc6013b8283'}\n",
      "be2640c4-01b5-4d52-9f68-cae8c0734d0d => {'id': 'be2640c4-01b5-4d52-9f68-cae8c0734d0d', 'reviews_count': 5596, 'rating': 4.8, 'title': 'Recart FB Messenger Marketing', 'developer': 'Recart'}\n",
      "70bff9e0-4316-4cc6-84ce-92fcd1bc6925 => {'reviews_count': 5259, 'rating': 4.7, 'developer': 'Booster Apps', 'title': 'EU Cookie Bar ‑ Cookie GDPR', 'id': '70bff9e0-4316-4cc6-84ce-92fcd1bc6925'}\n",
      "171816e2-27d4-4552-a65e-ab44a312fe04 => {'id': '171816e2-27d4-4552-a65e-ab44a312fe04', 'reviews_count': 4931, 'rating': 4.8, 'title': 'Sales Pop Master ‑ Countdown', 'developer': 'Autoketing'}\n",
      "9025eff0-d714-4df1-930f-43f5582979ad => {'rating': 4.8, 'developer': 'Hextom', 'title': 'Ultimate Sales Boost', 'id': '9025eff0-d714-4df1-930f-43f5582979ad', 'reviews_count': 4847}\n",
      "404183ac-6d52-4960-85d2-8350f37c2f0b => {'reviews_count': 4245, 'rating': 4.9, 'title': 'Ads by Varinode', 'developer': 'Varinode, Inc.', 'id': '404183ac-6d52-4960-85d2-8350f37c2f0b'}\n",
      "0380c5ed-7b91-4d4b-9a4e-f6a1c50269dd => {'reviews_count': 4237, 'rating': 4.9, 'title': 'Quick Announcement Bar', 'developer': 'Hextom', 'id': '0380c5ed-7b91-4d4b-9a4e-f6a1c50269dd'}\n"
     ]
    }
   ],
   "source": [
    "# 1\n",
    "apps_ref = db.collection('apps')\n",
    "query = apps_ref.order_by('reviews_count', direction=firestore.Query.DESCENDING).limit(10)\n",
    "results = query.stream()\n",
    "\n",
    "lst = ['id', 'title', 'developer', 'rating', 'reviews_count']\n",
    "\n",
    "for result in results:\n",
    "    output = {}\n",
    "    dic =result.to_dict()\n",
    "    for key in dic:\n",
    "        if key in lst:\n",
    "            output[key] = dic[key]\n",
    "            \n",
    "    print(f'{result.id} => {output}')\n"
   ]
  },
  {
   "cell_type": "code",
   "execution_count": 107,
   "metadata": {},
   "outputs": [
    {
     "name": "stdout",
     "output_type": "stream",
     "text": [
      "fe2d6047-9654-494d-9eed-1f00e1468639 => {'rating': 5.0, 'developer': 'Ocean info', 'title': 'OC Check', 'id': 'fe2d6047-9654-494d-9eed-1f00e1468639', 'url': 'https://apps.shopify.com/age-checker-1'}\n",
      "f5454a98-8bdb-499d-906a-bf8d9992b6e8 => {'id': 'f5454a98-8bdb-499d-906a-bf8d9992b6e8', 'url': 'https://apps.shopify.com/right-click-defender', 'rating': 5.0, 'developer': 'Adolab', 'title': 'Right Click Defender'}\n",
      "ee95fc91-86c0-41b6-9d04-10422e0c42e8 => {'rating': 5.0, 'title': 'EU Cookie Consent Banner', 'developer': 'webserviceXXL', 'id': 'ee95fc91-86c0-41b6-9d04-10422e0c42e8', 'url': 'https://apps.shopify.com/eu-cookie-privacy-solution'}\n",
      "e525d067-418e-49cb-b0c8-9081c85fe5bd => {'rating': 5.0, 'developer': 'Webkul Software Pvt Ltd', 'title': 'Social Commerce', 'id': 'e525d067-418e-49cb-b0c8-9081c85fe5bd', 'url': 'https://apps.shopify.com/social-e-commerce'}\n",
      "e45d25ac-2939-4b88-9052-c6c033ff25d9 => {'developer': 'ZendApps', 'title': 'Geoip Product Blocker', 'id': 'e45d25ac-2939-4b88-9052-c6c033ff25d9', 'url': 'https://apps.shopify.com/geoip-based-product-blocker', 'rating': 5.0}\n"
     ]
    }
   ],
   "source": [
    "#2\n",
    "cat_ref = db.collection('categories').where('cat_title', '==', 'Trust and security')\n",
    "cat_id = cat_ref.get()\n",
    "cat_id = cat_id[0].to_dict()['id']\n",
    "\n",
    "\n",
    "apps_ref = db.collection('apps')\n",
    "query = apps_ref.where(\n",
    "    'category_id', \"array_contains\", cat_id).order_by('rating', direction=firestore.Query.DESCENDING).limit(5)\n",
    "results = query.stream()\n",
    "\n",
    "lst = ['id', 'url', 'title', 'developer', 'rating']\n",
    "\n",
    "for result in results:\n",
    "    output = {}\n",
    "    dic =result.to_dict()\n",
    "    for key in dic:\n",
    "        if key in lst:\n",
    "            output[key] = dic[key]\n",
    "            \n",
    "    print(f'{result.id} => {output}')\n"
   ]
  },
  {
   "cell_type": "code",
   "execution_count": 222,
   "metadata": {},
   "outputs": [
    {
     "name": "stdout",
     "output_type": "stream",
     "text": [
      "a8171589-48cb-4a3a-83f1-5da7a20f5c03 => {'reviews_count': 95, 'rating': 4.9, 'title': 'Enorm Image Slider', 'developer': 'enormapps', 'id': 'a8171589-48cb-4a3a-83f1-5da7a20f5c03'}\n",
      "18a74341-10cf-4a49-af8b-505ec047592d => {'rating': 5.0, 'title': 'Email Alchemy', 'developer': 'Oiizes', 'id': '18a74341-10cf-4a49-af8b-505ec047592d', 'reviews_count': 1}\n",
      "ae85f088-0627-4368-8c2e-16be4cac506d => {'rating': 5.0, 'developer': 'Zooomy', 'title': 'Wishlist ‑ Wishify', 'id': 'ae85f088-0627-4368-8c2e-16be4cac506d', 'reviews_count': 161}\n",
      "7b570802-fd42-49bf-a9f2-19d69838c049 => {'reviews_count': 527, 'rating': 4.7, 'title': 'Countdown Timer Bar', 'developer': 'Hextom', 'id': '7b570802-fd42-49bf-a9f2-19d69838c049'}\n",
      "b1441cac-3052-4f43-aacc-9312d1d6ec6b => {'reviews_count': 0, 'rating': 0.0, 'title': 'Magic Ball ‑ Email Popup', 'developer': 'Application Nexus', 'id': 'b1441cac-3052-4f43-aacc-9312d1d6ec6b'}\n",
      "3918da5e-152a-4a00-ad27-4fdfba27c9e5 => {'reviews_count': 103, 'rating': 4.8, 'developer': 'Mod Media', 'title': 'Modify Promotional Lightbox', 'id': '3918da5e-152a-4a00-ad27-4fdfba27c9e5'}\n",
      "a8171589-48cb-4a3a-83f1-5da7a20f5c03 => {'rating': 4.9, 'developer': 'enormapps', 'title': 'Enorm Image Slider', 'id': 'a8171589-48cb-4a3a-83f1-5da7a20f5c03', 'reviews_count': 95}\n",
      "1cb419ad-2a6e-447d-b5f8-0d1b8e1b8c96 => {'reviews_count': 8, 'rating': 3.8, 'developer': 'SmartDataSoft', 'title': 'Slider Revolution', 'id': '1cb419ad-2a6e-447d-b5f8-0d1b8e1b8c96'}\n",
      "1db72124-11ac-4b29-a4c9-682d0d854d61 => {'id': '1db72124-11ac-4b29-a4c9-682d0d854d61', 'reviews_count': 271, 'rating': 4.8, 'developer': 'GoAffPro', 'title': 'Pro Affiliate Marketing'}\n",
      "b8ef3f74-521f-44ac-ad7f-e5e005a836f3 => {'id': 'b8ef3f74-521f-44ac-ad7f-e5e005a836f3', 'reviews_count': 208, 'rating': 4.7, 'title': 'Quantity Breaks Now ‑Discounts', 'developer': 'Website On-Demand'}\n"
     ]
    }
   ],
   "source": [
    "#3\n",
    "pp_ref = db.collection('pricing_plans').where('price', '>=', 12.99)\n",
    "pp_ref = pp_ref.where('title', '==', 'Premium Plan').order_by('price', direction=firestore.Query.ASCENDING).limit(10)\n",
    "results_pp = pp_ref.stream()\n",
    "\n",
    "id_lst = []\n",
    "\n",
    "for r in results_pp:\n",
    "    \n",
    "    d =r.to_dict()\n",
    "    for key in d:\n",
    "        if key == \"app_id\":\n",
    "            id_lst.append(d[key])\n",
    "            \n",
    "\n",
    "for i in id_lst:\n",
    "    apps_ref = db.collection('apps')\n",
    "    query = apps_ref.where(\"id\", \"==\", i)\n",
    "    results = query.stream()           \n",
    "    \n",
    "    lst2 = ['id', 'title', 'developer', 'rating', 'reviews_count']\n",
    "            \n",
    "    for result in results:\n",
    "\n",
    "        output = {}\n",
    "        dic =result.to_dict()\n",
    "        for key in dic:\n",
    "            if key in lst2:\n",
    "                output[key] = dic[key]\n",
    "\n",
    "        print(f'{result.id} => {output}')        "
   ]
  },
  {
   "cell_type": "code",
   "execution_count": null,
   "metadata": {},
   "outputs": [],
   "source": []
  }
 ],
 "metadata": {
  "environment": {
   "name": "common-cpu.m55",
   "type": "gcloud",
   "uri": "gcr.io/deeplearning-platform-release/base-cpu:m55"
  },
  "kernelspec": {
   "display_name": "Python 3",
   "language": "python",
   "name": "python3"
  },
  "language_info": {
   "codemirror_mode": {
    "name": "ipython",
    "version": 3
   },
   "file_extension": ".py",
   "mimetype": "text/x-python",
   "name": "python",
   "nbconvert_exporter": "python",
   "pygments_lexer": "ipython3",
   "version": "3.7.8"
  }
 },
 "nbformat": 4,
 "nbformat_minor": 4
}
