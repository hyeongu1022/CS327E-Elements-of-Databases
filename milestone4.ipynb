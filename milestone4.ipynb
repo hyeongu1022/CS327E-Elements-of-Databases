{
 "cells": [
  {
   "cell_type": "markdown",
   "metadata": {},
   "source": [
    "# Milestone 4"
   ]
  },
  {
   "cell_type": "markdown",
   "metadata": {},
   "source": [
    "## <b>Part 1:</b> \n",
    "#### Convert your previously written Beam pipeline(s) to Dataflow. Run them on Dataflow over the entire input data; debug and fix as necessary."
   ]
  },
  {
   "cell_type": "markdown",
   "metadata": {},
   "source": [
    "### Employer_Dataflow\n",
    "#### We removed duplicates in Employer table"
   ]
  },
  {
   "cell_type": "code",
   "execution_count": 11,
   "metadata": {},
   "outputs": [],
   "source": [
    "%run employer_dataflow.py"
   ]
  },
  {
   "cell_type": "markdown",
   "metadata": {},
   "source": [
    "### Application_Dataflow\n",
    "#### We removed duplicates in Application table and then JOINed it with Employer table ON employer_id. "
   ]
  },
  {
   "cell_type": "code",
   "execution_count": 11,
   "metadata": {},
   "outputs": [],
   "source": [
    "%run application_dataflow.py"
   ]
  },
  {
   "cell_type": "markdown",
   "metadata": {},
   "source": [
    "### Ownership_Dataflow\n",
    "#### We removed duplicates in Ownership table. Then we created unique ownership_id just for the simplicity sake. "
   ]
  },
  {
   "cell_type": "code",
   "execution_count": 13,
   "metadata": {},
   "outputs": [],
   "source": [
    "%run ownership_dataflow.py"
   ]
  },
  {
   "cell_type": "markdown",
   "metadata": {},
   "source": [
    "### Occupation_Dataflow"
   ]
  },
  {
   "cell_type": "markdown",
   "metadata": {},
   "source": [
    "#### We decided to create unique job_id column for simplicity sake. So we copied the regular Occupation table and created unique job_id through BQ, then processed Dataflow transformation.\n",
    "#### In addition, there were different formats like \"15/1121\", \"13.111\", \"1-1132\", \"19-104\" and \"2911123\" other than those formats we transformed in Milestone3. So we fixed it\n",
    "#### We decided to drop employer_citym employer_country, employment_start_date and employment_end_date since our goal is to analyze these datasets and hope to gain knowledge about which areas of occupation, or occupation itself, have requested for many H-1B."
   ]
  },
  {
   "cell_type": "code",
   "execution_count": 6,
   "metadata": {},
   "outputs": [],
   "source": [
    "%run occupation_dataflow.py"
   ]
  },
  {
   "cell_type": "code",
   "execution_count": 1,
   "metadata": {},
   "outputs": [],
   "source": [
    "!bq rm -f -t H_1B_refined.Occupation_Dataflow"
   ]
  },
  {
   "cell_type": "markdown",
   "metadata": {},
   "source": [
    "## <b>Part 2:</b> \n",
    "#### Verify that each BigQuery output table contains a valid primary key. Child tables must also have a valid foreign key. Run the appropriate SQL statements within your milestone4 notebook to verify these constraints."
   ]
  },
  {
   "cell_type": "markdown",
   "metadata": {},
   "source": [
    "### Employer_Dataflow"
   ]
  },
  {
   "cell_type": "code",
   "execution_count": 1,
   "metadata": {},
   "outputs": [
    {
     "data": {
      "text/html": [
       "<div>\n",
       "<style scoped>\n",
       "    .dataframe tbody tr th:only-of-type {\n",
       "        vertical-align: middle;\n",
       "    }\n",
       "\n",
       "    .dataframe tbody tr th {\n",
       "        vertical-align: top;\n",
       "    }\n",
       "\n",
       "    .dataframe thead th {\n",
       "        text-align: right;\n",
       "    }\n",
       "</style>\n",
       "<table border=\"1\" class=\"dataframe\">\n",
       "  <thead>\n",
       "    <tr style=\"text-align: right;\">\n",
       "      <th></th>\n",
       "      <th>employer_id</th>\n",
       "      <th>count</th>\n",
       "    </tr>\n",
       "  </thead>\n",
       "  <tbody>\n",
       "  </tbody>\n",
       "</table>\n",
       "</div>"
      ],
      "text/plain": [
       "Empty DataFrame\n",
       "Columns: [employer_id, count]\n",
       "Index: []"
      ]
     },
     "execution_count": 1,
     "metadata": {},
     "output_type": "execute_result"
    }
   ],
   "source": [
    "%%bigquery\n",
    "SELECT employer_id, COUNT(employer_id) AS count\n",
    "FROM H_1B_refined.Employer_Dataflow\n",
    "GROUP BY employer_id\n",
    "HAVING count > 1"
   ]
  },
  {
   "cell_type": "markdown",
   "metadata": {},
   "source": [
    "### Application_Dataflow\n",
    "#### Verify PK"
   ]
  },
  {
   "cell_type": "code",
   "execution_count": 2,
   "metadata": {},
   "outputs": [
    {
     "data": {
      "text/html": [
       "<div>\n",
       "<style scoped>\n",
       "    .dataframe tbody tr th:only-of-type {\n",
       "        vertical-align: middle;\n",
       "    }\n",
       "\n",
       "    .dataframe tbody tr th {\n",
       "        vertical-align: top;\n",
       "    }\n",
       "\n",
       "    .dataframe thead th {\n",
       "        text-align: right;\n",
       "    }\n",
       "</style>\n",
       "<table border=\"1\" class=\"dataframe\">\n",
       "  <thead>\n",
       "    <tr style=\"text-align: right;\">\n",
       "      <th></th>\n",
       "      <th>case_id</th>\n",
       "      <th>count</th>\n",
       "    </tr>\n",
       "  </thead>\n",
       "  <tbody>\n",
       "  </tbody>\n",
       "</table>\n",
       "</div>"
      ],
      "text/plain": [
       "Empty DataFrame\n",
       "Columns: [case_id, count]\n",
       "Index: []"
      ]
     },
     "execution_count": 2,
     "metadata": {},
     "output_type": "execute_result"
    }
   ],
   "source": [
    "%%bigquery\n",
    "SELECT case_id, COUNT(case_id) AS count\n",
    "FROM H_1B_refined.Application_Dataflow\n",
    "GROUP BY case_id\n",
    "HAVING count > 1"
   ]
  },
  {
   "cell_type": "markdown",
   "metadata": {},
   "source": [
    "#### Verify FK (FK is working fine)"
   ]
  },
  {
   "cell_type": "code",
   "execution_count": 4,
   "metadata": {},
   "outputs": [
    {
     "data": {
      "text/html": [
       "<div>\n",
       "<style scoped>\n",
       "    .dataframe tbody tr th:only-of-type {\n",
       "        vertical-align: middle;\n",
       "    }\n",
       "\n",
       "    .dataframe tbody tr th {\n",
       "        vertical-align: top;\n",
       "    }\n",
       "\n",
       "    .dataframe thead th {\n",
       "        text-align: right;\n",
       "    }\n",
       "</style>\n",
       "<table border=\"1\" class=\"dataframe\">\n",
       "  <thead>\n",
       "    <tr style=\"text-align: right;\">\n",
       "      <th></th>\n",
       "      <th>case_id</th>\n",
       "      <th>employer_id</th>\n",
       "      <th>employer_name</th>\n",
       "    </tr>\n",
       "  </thead>\n",
       "  <tbody>\n",
       "    <tr>\n",
       "      <th>0</th>\n",
       "      <td>-7472653947438924331</td>\n",
       "      <td>7830068956980211394</td>\n",
       "      <td>APPLE INC.</td>\n",
       "    </tr>\n",
       "    <tr>\n",
       "      <th>1</th>\n",
       "      <td>3302131368530300568</td>\n",
       "      <td>3549615032242082539</td>\n",
       "      <td>AMAZON CORPORATE LLC</td>\n",
       "    </tr>\n",
       "    <tr>\n",
       "      <th>2</th>\n",
       "      <td>8351805987742448133</td>\n",
       "      <td>-3994438770359546112</td>\n",
       "      <td>MOLEX INCORPORATED</td>\n",
       "    </tr>\n",
       "    <tr>\n",
       "      <th>3</th>\n",
       "      <td>-6974557907243539782</td>\n",
       "      <td>9029377741145082496</td>\n",
       "      <td>GOOGLE INC.</td>\n",
       "    </tr>\n",
       "    <tr>\n",
       "      <th>4</th>\n",
       "      <td>6882660618389160379</td>\n",
       "      <td>-6616637527994182381</td>\n",
       "      <td>JPMORGAN CHASE &amp; CO.</td>\n",
       "    </tr>\n",
       "    <tr>\n",
       "      <th>5</th>\n",
       "      <td>-6806937993996666628</td>\n",
       "      <td>-3081803327307139476</td>\n",
       "      <td>WS ATKINS INC.</td>\n",
       "    </tr>\n",
       "    <tr>\n",
       "      <th>6</th>\n",
       "      <td>-1173881495870676081</td>\n",
       "      <td>-7639904003258062437</td>\n",
       "      <td>WAL-MART ASSOCIATES, INC.</td>\n",
       "    </tr>\n",
       "    <tr>\n",
       "      <th>7</th>\n",
       "      <td>-2095625144286580005</td>\n",
       "      <td>-6287398949312563689</td>\n",
       "      <td>SONUSLAND, INC.</td>\n",
       "    </tr>\n",
       "    <tr>\n",
       "      <th>8</th>\n",
       "      <td>4804839157779805525</td>\n",
       "      <td>1099895834805669366</td>\n",
       "      <td>CONILL ADVERTISING, INC.</td>\n",
       "    </tr>\n",
       "    <tr>\n",
       "      <th>9</th>\n",
       "      <td>-6680961539126776621</td>\n",
       "      <td>-9176787642659334798</td>\n",
       "      <td>BANFI PRODUCTS CORPORATION</td>\n",
       "    </tr>\n",
       "  </tbody>\n",
       "</table>\n",
       "</div>"
      ],
      "text/plain": [
       "               case_id          employer_id               employer_name\n",
       "0 -7472653947438924331  7830068956980211394                  APPLE INC.\n",
       "1  3302131368530300568  3549615032242082539        AMAZON CORPORATE LLC\n",
       "2  8351805987742448133 -3994438770359546112          MOLEX INCORPORATED\n",
       "3 -6974557907243539782  9029377741145082496                 GOOGLE INC.\n",
       "4  6882660618389160379 -6616637527994182381        JPMORGAN CHASE & CO.\n",
       "5 -6806937993996666628 -3081803327307139476              WS ATKINS INC.\n",
       "6 -1173881495870676081 -7639904003258062437   WAL-MART ASSOCIATES, INC.\n",
       "7 -2095625144286580005 -6287398949312563689             SONUSLAND, INC.\n",
       "8  4804839157779805525  1099895834805669366    CONILL ADVERTISING, INC.\n",
       "9 -6680961539126776621 -9176787642659334798  BANFI PRODUCTS CORPORATION"
      ]
     },
     "execution_count": 4,
     "metadata": {},
     "output_type": "execute_result"
    }
   ],
   "source": [
    "%%bigquery\n",
    "SELECT app.case_id, app.employer_id, emp.employer_name \n",
    "FROM H_1B_refined.Application_Dataflow AS app\n",
    "JOIN H_1B_refined.Employer_Dataflow AS emp ON app.employer_id = emp.employer_id\n",
    "LIMIT 10"
   ]
  },
  {
   "cell_type": "markdown",
   "metadata": {},
   "source": [
    "### Ownership_Dataflow"
   ]
  },
  {
   "cell_type": "code",
   "execution_count": 7,
   "metadata": {},
   "outputs": [
    {
     "data": {
      "text/html": [
       "<div>\n",
       "<style scoped>\n",
       "    .dataframe tbody tr th:only-of-type {\n",
       "        vertical-align: middle;\n",
       "    }\n",
       "\n",
       "    .dataframe tbody tr th {\n",
       "        vertical-align: top;\n",
       "    }\n",
       "\n",
       "    .dataframe thead th {\n",
       "        text-align: right;\n",
       "    }\n",
       "</style>\n",
       "<table border=\"1\" class=\"dataframe\">\n",
       "  <thead>\n",
       "    <tr style=\"text-align: right;\">\n",
       "      <th></th>\n",
       "      <th>ownership_id</th>\n",
       "      <th>occ_code</th>\n",
       "      <th>ownership_id_count</th>\n",
       "      <th>occ_code_count</th>\n",
       "    </tr>\n",
       "  </thead>\n",
       "  <tbody>\n",
       "  </tbody>\n",
       "</table>\n",
       "</div>"
      ],
      "text/plain": [
       "Empty DataFrame\n",
       "Columns: [ownership_id, occ_code, ownership_id_count, occ_code_count]\n",
       "Index: []"
      ]
     },
     "execution_count": 7,
     "metadata": {},
     "output_type": "execute_result"
    }
   ],
   "source": [
    "%%bigquery\n",
    "SELECT ownership_id, occ_code, COUNT(ownership_id) AS ownership_id_count, COUNT(occ_code) AS occ_code_count\n",
    "FROM H_1B_refined.Ownership_Dataflow\n",
    "GROUP BY ownership_id, occ_code\n",
    "HAVING ownership_id_count > 1 AND occ_code_count > 1"
   ]
  },
  {
   "cell_type": "markdown",
   "metadata": {},
   "source": [
    "### Occupation_Dataflow\n",
    "#### Verify PK"
   ]
  },
  {
   "cell_type": "code",
   "execution_count": 1,
   "metadata": {},
   "outputs": [
    {
     "data": {
      "text/html": [
       "<div>\n",
       "<style scoped>\n",
       "    .dataframe tbody tr th:only-of-type {\n",
       "        vertical-align: middle;\n",
       "    }\n",
       "\n",
       "    .dataframe tbody tr th {\n",
       "        vertical-align: top;\n",
       "    }\n",
       "\n",
       "    .dataframe thead th {\n",
       "        text-align: right;\n",
       "    }\n",
       "</style>\n",
       "<table border=\"1\" class=\"dataframe\">\n",
       "  <thead>\n",
       "    <tr style=\"text-align: right;\">\n",
       "      <th></th>\n",
       "      <th>job_id</th>\n",
       "      <th>count</th>\n",
       "    </tr>\n",
       "  </thead>\n",
       "  <tbody>\n",
       "  </tbody>\n",
       "</table>\n",
       "</div>"
      ],
      "text/plain": [
       "Empty DataFrame\n",
       "Columns: [job_id, count]\n",
       "Index: []"
      ]
     },
     "execution_count": 1,
     "metadata": {},
     "output_type": "execute_result"
    }
   ],
   "source": [
    "%%bigquery\n",
    "SELECT job_id, COUNT(job_id) AS count\n",
    "FROM H_1B_refined.Occupation_Dataflow\n",
    "GROUP BY job_id\n",
    "HAVING count > 1"
   ]
  },
  {
   "cell_type": "markdown",
   "metadata": {},
   "source": [
    "#### Verify FK"
   ]
  },
  {
   "cell_type": "code",
   "execution_count": 2,
   "metadata": {},
   "outputs": [
    {
     "data": {
      "text/html": [
       "<div>\n",
       "<style scoped>\n",
       "    .dataframe tbody tr th:only-of-type {\n",
       "        vertical-align: middle;\n",
       "    }\n",
       "\n",
       "    .dataframe tbody tr th {\n",
       "        vertical-align: top;\n",
       "    }\n",
       "\n",
       "    .dataframe thead th {\n",
       "        text-align: right;\n",
       "    }\n",
       "</style>\n",
       "<table border=\"1\" class=\"dataframe\">\n",
       "  <thead>\n",
       "    <tr style=\"text-align: right;\">\n",
       "      <th></th>\n",
       "      <th>job_id</th>\n",
       "      <th>employer_id</th>\n",
       "      <th>employer_name</th>\n",
       "    </tr>\n",
       "  </thead>\n",
       "  <tbody>\n",
       "    <tr>\n",
       "      <th>0</th>\n",
       "      <td>7589577605519328432</td>\n",
       "      <td>6836890735342976109</td>\n",
       "      <td>CASE WESTERN RESERVE UNIVERSITY</td>\n",
       "    </tr>\n",
       "    <tr>\n",
       "      <th>1</th>\n",
       "      <td>-7264933987445979269</td>\n",
       "      <td>7179208282451432363</td>\n",
       "      <td>THE CURATORS OF THE UNIVERSITY OF MISSOURI</td>\n",
       "    </tr>\n",
       "    <tr>\n",
       "      <th>2</th>\n",
       "      <td>1526024896656132888</td>\n",
       "      <td>-3682059893006365487</td>\n",
       "      <td>UNIVERSITY OF ARKANSAS FOR MEDICAL SCIENCES</td>\n",
       "    </tr>\n",
       "    <tr>\n",
       "      <th>3</th>\n",
       "      <td>558701564645987523</td>\n",
       "      <td>7543754983785773736</td>\n",
       "      <td>MICRON TECHNOLOGY, INC.</td>\n",
       "    </tr>\n",
       "    <tr>\n",
       "      <th>4</th>\n",
       "      <td>438983941118342196</td>\n",
       "      <td>-4637454601404055829</td>\n",
       "      <td>FEI YUE PRESCHOOL CORPORATION</td>\n",
       "    </tr>\n",
       "    <tr>\n",
       "      <th>5</th>\n",
       "      <td>-7929807996375999978</td>\n",
       "      <td>-1455827041719347063</td>\n",
       "      <td>UNIVERSITY OF MASSACHUSETTS AMHERST</td>\n",
       "    </tr>\n",
       "    <tr>\n",
       "      <th>6</th>\n",
       "      <td>-8637961728406129460</td>\n",
       "      <td>2459277965191890710</td>\n",
       "      <td>COGENT HEALTHCARE OF MONTANA, P.C.</td>\n",
       "    </tr>\n",
       "    <tr>\n",
       "      <th>7</th>\n",
       "      <td>4285546324415181731</td>\n",
       "      <td>-980518890748306492</td>\n",
       "      <td>UNIVERSITY OF TEXAS RIO GRANDE VALLEY</td>\n",
       "    </tr>\n",
       "    <tr>\n",
       "      <th>8</th>\n",
       "      <td>-1821303640500437538</td>\n",
       "      <td>9212407996069603420</td>\n",
       "      <td>TEXAS A&amp;M UNIVERSITY</td>\n",
       "    </tr>\n",
       "    <tr>\n",
       "      <th>9</th>\n",
       "      <td>4720791492937511805</td>\n",
       "      <td>-3492581103543470874</td>\n",
       "      <td>WALGREEN CO.</td>\n",
       "    </tr>\n",
       "  </tbody>\n",
       "</table>\n",
       "</div>"
      ],
      "text/plain": [
       "                job_id          employer_id  \\\n",
       "0  7589577605519328432  6836890735342976109   \n",
       "1 -7264933987445979269  7179208282451432363   \n",
       "2  1526024896656132888 -3682059893006365487   \n",
       "3   558701564645987523  7543754983785773736   \n",
       "4   438983941118342196 -4637454601404055829   \n",
       "5 -7929807996375999978 -1455827041719347063   \n",
       "6 -8637961728406129460  2459277965191890710   \n",
       "7  4285546324415181731  -980518890748306492   \n",
       "8 -1821303640500437538  9212407996069603420   \n",
       "9  4720791492937511805 -3492581103543470874   \n",
       "\n",
       "                                 employer_name  \n",
       "0              CASE WESTERN RESERVE UNIVERSITY  \n",
       "1   THE CURATORS OF THE UNIVERSITY OF MISSOURI  \n",
       "2  UNIVERSITY OF ARKANSAS FOR MEDICAL SCIENCES  \n",
       "3                      MICRON TECHNOLOGY, INC.  \n",
       "4                FEI YUE PRESCHOOL CORPORATION  \n",
       "5          UNIVERSITY OF MASSACHUSETTS AMHERST  \n",
       "6           COGENT HEALTHCARE OF MONTANA, P.C.  \n",
       "7        UNIVERSITY OF TEXAS RIO GRANDE VALLEY  \n",
       "8                         TEXAS A&M UNIVERSITY  \n",
       "9                                 WALGREEN CO.  "
      ]
     },
     "execution_count": 2,
     "metadata": {},
     "output_type": "execute_result"
    }
   ],
   "source": [
    "%%bigquery\n",
    "SELECT occ.job_id, occ.employer_id, emp.employer_name \n",
    "FROM H_1B_refined.Occupation_Dataflow AS occ\n",
    "JOIN H_1B_refined.Employer_Dataflow AS emp ON occ.employer_id = emp.employer_id\n",
    "LIMIT 10"
   ]
  },
  {
   "cell_type": "markdown",
   "metadata": {},
   "source": [
    "## <b>Part 3:</b>\n",
    "### 1. Implement your cross-dataset queries:"
   ]
  },
  {
   "cell_type": "markdown",
   "metadata": {},
   "source": [
    "#### Find job titles that are certified and count them. Since the table is huge, narrow it down to those with more than 1000000000. Then order it by count in descending order."
   ]
  },
  {
   "cell_type": "code",
   "execution_count": 6,
   "metadata": {},
   "outputs": [
    {
     "data": {
      "text/html": [
       "<div>\n",
       "<style scoped>\n",
       "    .dataframe tbody tr th:only-of-type {\n",
       "        vertical-align: middle;\n",
       "    }\n",
       "\n",
       "    .dataframe tbody tr th {\n",
       "        vertical-align: top;\n",
       "    }\n",
       "\n",
       "    .dataframe thead th {\n",
       "        text-align: right;\n",
       "    }\n",
       "</style>\n",
       "<table border=\"1\" class=\"dataframe\">\n",
       "  <thead>\n",
       "    <tr style=\"text-align: right;\">\n",
       "      <th></th>\n",
       "      <th>job_title</th>\n",
       "      <th>count</th>\n",
       "    </tr>\n",
       "  </thead>\n",
       "  <tbody>\n",
       "    <tr>\n",
       "      <th>0</th>\n",
       "      <td>DEVELOPER</td>\n",
       "      <td>4810709587</td>\n",
       "    </tr>\n",
       "    <tr>\n",
       "      <th>1</th>\n",
       "      <td>SENIOR CONSULTANT</td>\n",
       "      <td>3695455903</td>\n",
       "    </tr>\n",
       "    <tr>\n",
       "      <th>2</th>\n",
       "      <td>CONSULTANT</td>\n",
       "      <td>3375268490</td>\n",
       "    </tr>\n",
       "    <tr>\n",
       "      <th>3</th>\n",
       "      <td>DEVELOPER USER INTERFACE</td>\n",
       "      <td>3371066803</td>\n",
       "    </tr>\n",
       "    <tr>\n",
       "      <th>4</th>\n",
       "      <td>TECHNOLOGY LEAD - US</td>\n",
       "      <td>2347395997</td>\n",
       "    </tr>\n",
       "    <tr>\n",
       "      <th>5</th>\n",
       "      <td>MANAGER</td>\n",
       "      <td>1837976827</td>\n",
       "    </tr>\n",
       "    <tr>\n",
       "      <th>6</th>\n",
       "      <td>ARCHITECT</td>\n",
       "      <td>1494966888</td>\n",
       "    </tr>\n",
       "    <tr>\n",
       "      <th>7</th>\n",
       "      <td>ANALYST</td>\n",
       "      <td>1323508956</td>\n",
       "    </tr>\n",
       "    <tr>\n",
       "      <th>8</th>\n",
       "      <td>TECHNOLOGY ANALYST - US</td>\n",
       "      <td>1320229033</td>\n",
       "    </tr>\n",
       "  </tbody>\n",
       "</table>\n",
       "</div>"
      ],
      "text/plain": [
       "                  job_title       count\n",
       "0                 DEVELOPER  4810709587\n",
       "1         SENIOR CONSULTANT  3695455903\n",
       "2                CONSULTANT  3375268490\n",
       "3  DEVELOPER USER INTERFACE  3371066803\n",
       "4      TECHNOLOGY LEAD - US  2347395997\n",
       "5                   MANAGER  1837976827\n",
       "6                 ARCHITECT  1494966888\n",
       "7                   ANALYST  1323508956\n",
       "8   TECHNOLOGY ANALYST - US  1320229033"
      ]
     },
     "execution_count": 6,
     "metadata": {},
     "output_type": "execute_result"
    }
   ],
   "source": [
    "%%bigquery\n",
    "SELECT job_title, COUNT(job_title) as count\n",
    "FROM H_1B_refined.Occupation_Dataflow as occ\n",
    "JOIN H_1B_refined.Employer_Dataflow as emp ON emp.employer_id = occ.employer_id\n",
    "JOIN H_1B_refined.Application_Dataflow as app ON app.employer_id = emp.employer_id\n",
    "WHERE app.CASE_STATUS = \"CERTIFIED\"\n",
    "GROUP BY job_title\n",
    "HAVING count > 1000000000\n",
    "ORDER BY count DESC"
   ]
  },
  {
   "cell_type": "markdown",
   "metadata": {},
   "source": [
    "#### Find how long does H-1B process take. We wanted to compare between certified (including CERTIFIED-WITHDRAWN) and denied. We grouped them by  its case status and took average of its date difference. We also put the query without averaging the result for additional information in Data Studio part."
   ]
  },
  {
   "cell_type": "code",
   "execution_count": 1,
   "metadata": {},
   "outputs": [
    {
     "data": {
      "text/html": [
       "<div>\n",
       "<style scoped>\n",
       "    .dataframe tbody tr th:only-of-type {\n",
       "        vertical-align: middle;\n",
       "    }\n",
       "\n",
       "    .dataframe tbody tr th {\n",
       "        vertical-align: top;\n",
       "    }\n",
       "\n",
       "    .dataframe thead th {\n",
       "        text-align: right;\n",
       "    }\n",
       "</style>\n",
       "<table border=\"1\" class=\"dataframe\">\n",
       "  <thead>\n",
       "    <tr style=\"text-align: right;\">\n",
       "      <th></th>\n",
       "      <th>CASE_STATUS</th>\n",
       "      <th>DateDiff_avg</th>\n",
       "    </tr>\n",
       "  </thead>\n",
       "  <tbody>\n",
       "    <tr>\n",
       "      <th>0</th>\n",
       "      <td>CERTIFIED-WITHDRAWN</td>\n",
       "      <td>314.607819</td>\n",
       "    </tr>\n",
       "    <tr>\n",
       "      <th>1</th>\n",
       "      <td>CERTIFIED</td>\n",
       "      <td>5.861993</td>\n",
       "    </tr>\n",
       "    <tr>\n",
       "      <th>2</th>\n",
       "      <td>DENIED</td>\n",
       "      <td>4.459632</td>\n",
       "    </tr>\n",
       "  </tbody>\n",
       "</table>\n",
       "</div>"
      ],
      "text/plain": [
       "           CASE_STATUS  DateDiff_avg\n",
       "0  CERTIFIED-WITHDRAWN    314.607819\n",
       "1            CERTIFIED      5.861993\n",
       "2               DENIED      4.459632"
      ]
     },
     "execution_count": 1,
     "metadata": {},
     "output_type": "execute_result"
    }
   ],
   "source": [
    "%%bigquery\n",
    "SELECT CASE_STATUS, AVG(DateDiff) as DateDiff_avg\n",
    "FROM\n",
    "(SELECT emp.employer_name, CASE_STATUS, CASE_SUBMITTED, DECISION_DATE, ABS(DATE_DIFF(CASE_SUBMITTED, DECISION_DATE, day)) AS DateDiff\n",
    "FROM H_1B_refined.Application_Dataflow as app\n",
    "JOIN H_1B_refined.Employer_Dataflow as emp ON emp.employer_id = app.employer_id\n",
    "WHERE CASE_STATUS LIKE \"%CERTIFIED%\" OR CASE_STATUS = \"DENIED\")\n",
    "GROUP BY CASE_STATUS\n"
   ]
  },
  {
   "cell_type": "code",
   "execution_count": 3,
   "metadata": {},
   "outputs": [
    {
     "data": {
      "text/html": [
       "<div>\n",
       "<style scoped>\n",
       "    .dataframe tbody tr th:only-of-type {\n",
       "        vertical-align: middle;\n",
       "    }\n",
       "\n",
       "    .dataframe tbody tr th {\n",
       "        vertical-align: top;\n",
       "    }\n",
       "\n",
       "    .dataframe thead th {\n",
       "        text-align: right;\n",
       "    }\n",
       "</style>\n",
       "<table border=\"1\" class=\"dataframe\">\n",
       "  <thead>\n",
       "    <tr style=\"text-align: right;\">\n",
       "      <th></th>\n",
       "      <th>employer_name</th>\n",
       "      <th>CASE_STATUS</th>\n",
       "      <th>CASE_SUBMITTED</th>\n",
       "      <th>DECISION_DATE</th>\n",
       "      <th>DateDiff</th>\n",
       "    </tr>\n",
       "  </thead>\n",
       "  <tbody>\n",
       "    <tr>\n",
       "      <th>0</th>\n",
       "      <td>APPLE INC.</td>\n",
       "      <td>CERTIFIED-WITHDRAWN</td>\n",
       "      <td>2018-03-05</td>\n",
       "      <td>2018-04-19</td>\n",
       "      <td>45</td>\n",
       "    </tr>\n",
       "    <tr>\n",
       "      <th>1</th>\n",
       "      <td>AMAZON CORPORATE LLC</td>\n",
       "      <td>CERTIFIED-WITHDRAWN</td>\n",
       "      <td>2014-04-22</td>\n",
       "      <td>2015-02-17</td>\n",
       "      <td>301</td>\n",
       "    </tr>\n",
       "    <tr>\n",
       "      <th>2</th>\n",
       "      <td>MOLEX INCORPORATED</td>\n",
       "      <td>CERTIFIED-WITHDRAWN</td>\n",
       "      <td>2015-03-23</td>\n",
       "      <td>2015-04-22</td>\n",
       "      <td>30</td>\n",
       "    </tr>\n",
       "    <tr>\n",
       "      <th>3</th>\n",
       "      <td>GOOGLE INC.</td>\n",
       "      <td>CERTIFIED-WITHDRAWN</td>\n",
       "      <td>2016-08-11</td>\n",
       "      <td>2016-08-24</td>\n",
       "      <td>13</td>\n",
       "    </tr>\n",
       "    <tr>\n",
       "      <th>4</th>\n",
       "      <td>JPMORGAN CHASE &amp; CO.</td>\n",
       "      <td>CERTIFIED-WITHDRAWN</td>\n",
       "      <td>2016-02-10</td>\n",
       "      <td>2016-11-10</td>\n",
       "      <td>274</td>\n",
       "    </tr>\n",
       "    <tr>\n",
       "      <th>...</th>\n",
       "      <td>...</td>\n",
       "      <td>...</td>\n",
       "      <td>...</td>\n",
       "      <td>...</td>\n",
       "      <td>...</td>\n",
       "    </tr>\n",
       "    <tr>\n",
       "      <th>5045689</th>\n",
       "      <td>ALSCO INC.</td>\n",
       "      <td>CERTIFIED-WITHDRAWN</td>\n",
       "      <td>2018-03-06</td>\n",
       "      <td>2018-03-15</td>\n",
       "      <td>9</td>\n",
       "    </tr>\n",
       "    <tr>\n",
       "      <th>5045690</th>\n",
       "      <td>ALSCO INC.</td>\n",
       "      <td>CERTIFIED-WITHDRAWN</td>\n",
       "      <td>2018-03-06</td>\n",
       "      <td>2018-03-15</td>\n",
       "      <td>9</td>\n",
       "    </tr>\n",
       "    <tr>\n",
       "      <th>5045691</th>\n",
       "      <td>KOHN PEDERSEN FOX ASSOCIATES PC</td>\n",
       "      <td>CERTIFIED-WITHDRAWN</td>\n",
       "      <td>2018-03-06</td>\n",
       "      <td>2018-03-15</td>\n",
       "      <td>9</td>\n",
       "    </tr>\n",
       "    <tr>\n",
       "      <th>5045692</th>\n",
       "      <td>OMEGACUBE TECHNOLOGIES, INC.</td>\n",
       "      <td>CERTIFIED-WITHDRAWN</td>\n",
       "      <td>2018-03-06</td>\n",
       "      <td>2018-03-15</td>\n",
       "      <td>9</td>\n",
       "    </tr>\n",
       "    <tr>\n",
       "      <th>5045693</th>\n",
       "      <td>THE UNIVERSITY OF GEORGIA</td>\n",
       "      <td>CERTIFIED-WITHDRAWN</td>\n",
       "      <td>2018-03-06</td>\n",
       "      <td>2018-03-15</td>\n",
       "      <td>9</td>\n",
       "    </tr>\n",
       "  </tbody>\n",
       "</table>\n",
       "<p>5045694 rows × 5 columns</p>\n",
       "</div>"
      ],
      "text/plain": [
       "                           employer_name          CASE_STATUS CASE_SUBMITTED  \\\n",
       "0                             APPLE INC.  CERTIFIED-WITHDRAWN     2018-03-05   \n",
       "1                   AMAZON CORPORATE LLC  CERTIFIED-WITHDRAWN     2014-04-22   \n",
       "2                     MOLEX INCORPORATED  CERTIFIED-WITHDRAWN     2015-03-23   \n",
       "3                            GOOGLE INC.  CERTIFIED-WITHDRAWN     2016-08-11   \n",
       "4                   JPMORGAN CHASE & CO.  CERTIFIED-WITHDRAWN     2016-02-10   \n",
       "...                                  ...                  ...            ...   \n",
       "5045689                       ALSCO INC.  CERTIFIED-WITHDRAWN     2018-03-06   \n",
       "5045690                       ALSCO INC.  CERTIFIED-WITHDRAWN     2018-03-06   \n",
       "5045691  KOHN PEDERSEN FOX ASSOCIATES PC  CERTIFIED-WITHDRAWN     2018-03-06   \n",
       "5045692     OMEGACUBE TECHNOLOGIES, INC.  CERTIFIED-WITHDRAWN     2018-03-06   \n",
       "5045693        THE UNIVERSITY OF GEORGIA  CERTIFIED-WITHDRAWN     2018-03-06   \n",
       "\n",
       "        DECISION_DATE  DateDiff  \n",
       "0          2018-04-19        45  \n",
       "1          2015-02-17       301  \n",
       "2          2015-04-22        30  \n",
       "3          2016-08-24        13  \n",
       "4          2016-11-10       274  \n",
       "...               ...       ...  \n",
       "5045689    2018-03-15         9  \n",
       "5045690    2018-03-15         9  \n",
       "5045691    2018-03-15         9  \n",
       "5045692    2018-03-15         9  \n",
       "5045693    2018-03-15         9  \n",
       "\n",
       "[5045694 rows x 5 columns]"
      ]
     },
     "execution_count": 3,
     "metadata": {},
     "output_type": "execute_result"
    }
   ],
   "source": [
    "%%bigquery\n",
    "SELECT emp.employer_name, CASE_STATUS, CASE_SUBMITTED, DECISION_DATE, ABS(DATE_DIFF(CASE_SUBMITTED, DECISION_DATE, day)) AS DateDiff\n",
    "FROM H_1B_refined.Application_Dataflow as app\n",
    "JOIN H_1B_refined.Employer_Dataflow as emp ON emp.employer_id = app.employer_id\n",
    "WHERE CASE_STATUS LIKE \"%CERTIFIED%\" OR CASE_STATUS = \"DENIED\""
   ]
  },
  {
   "cell_type": "markdown",
   "metadata": {},
   "source": [
    "#### Here, we are trying to see which ownership (private or local government, etc..) of occupation tends to request for H-1B petition more."
   ]
  },
  {
   "cell_type": "code",
   "execution_count": 13,
   "metadata": {},
   "outputs": [
    {
     "data": {
      "text/html": [
       "<div>\n",
       "<style scoped>\n",
       "    .dataframe tbody tr th:only-of-type {\n",
       "        vertical-align: middle;\n",
       "    }\n",
       "\n",
       "    .dataframe tbody tr th {\n",
       "        vertical-align: top;\n",
       "    }\n",
       "\n",
       "    .dataframe thead th {\n",
       "        text-align: right;\n",
       "    }\n",
       "</style>\n",
       "<table border=\"1\" class=\"dataframe\">\n",
       "  <thead>\n",
       "    <tr style=\"text-align: right;\">\n",
       "      <th></th>\n",
       "      <th>ownership</th>\n",
       "      <th>count</th>\n",
       "    </tr>\n",
       "  </thead>\n",
       "  <tbody>\n",
       "    <tr>\n",
       "      <th>0</th>\n",
       "      <td>Private</td>\n",
       "      <td>76520739</td>\n",
       "    </tr>\n",
       "    <tr>\n",
       "      <th>1</th>\n",
       "      <td>Local government</td>\n",
       "      <td>76167213</td>\n",
       "    </tr>\n",
       "    <tr>\n",
       "      <th>2</th>\n",
       "      <td>State government</td>\n",
       "      <td>76097963</td>\n",
       "    </tr>\n",
       "    <tr>\n",
       "      <th>3</th>\n",
       "      <td>Federal, State, and Local government</td>\n",
       "      <td>76488575</td>\n",
       "    </tr>\n",
       "    <tr>\n",
       "      <th>4</th>\n",
       "      <td>Federal government</td>\n",
       "      <td>65656075</td>\n",
       "    </tr>\n",
       "  </tbody>\n",
       "</table>\n",
       "</div>"
      ],
      "text/plain": [
       "                              ownership     count\n",
       "0                               Private  76520739\n",
       "1                      Local government  76167213\n",
       "2                      State government  76097963\n",
       "3  Federal, State, and Local government  76488575\n",
       "4                    Federal government  65656075"
      ]
     },
     "execution_count": 13,
     "metadata": {},
     "output_type": "execute_result"
    }
   ],
   "source": [
    "%%bigquery\n",
    "SELECT DISTINCT ownership, COUNT(ownership) as count\n",
    "FROM H_1B_refined.Ownership_Dataflow as own\n",
    "JOIN H_1B_refined.Occupation_Dataflow as occ ON occ.soc_code = own.occ_code\n",
    "JOIN H_1B_refined.Employer_Dataflow as emp ON emp.employer_id = occ.employer_id\n",
    "WHERE emp.h_1b_dependent = true \n",
    "GROUP BY ownership"
   ]
  },
  {
   "cell_type": "markdown",
   "metadata": {},
   "source": [
    "#### We are trying to see any income difference between those areas/occupations that companies tend to request for H-1B."
   ]
  },
  {
   "cell_type": "code",
   "execution_count": 6,
   "metadata": {},
   "outputs": [
    {
     "data": {
      "text/html": [
       "<div>\n",
       "<style scoped>\n",
       "    .dataframe tbody tr th:only-of-type {\n",
       "        vertical-align: middle;\n",
       "    }\n",
       "\n",
       "    .dataframe tbody tr th {\n",
       "        vertical-align: top;\n",
       "    }\n",
       "\n",
       "    .dataframe thead th {\n",
       "        text-align: right;\n",
       "    }\n",
       "</style>\n",
       "<table border=\"1\" class=\"dataframe\">\n",
       "  <thead>\n",
       "    <tr style=\"text-align: right;\">\n",
       "      <th></th>\n",
       "      <th>employer_name</th>\n",
       "      <th>soc_title</th>\n",
       "      <th>prevailing_wage_YR</th>\n",
       "    </tr>\n",
       "  </thead>\n",
       "  <tbody>\n",
       "    <tr>\n",
       "      <th>0</th>\n",
       "      <td>I&amp;I SOFTWARE, INC.</td>\n",
       "      <td>SOFTWARE DEVELOPERS, APPLICATIONS</td>\n",
       "      <td>9110400.0</td>\n",
       "    </tr>\n",
       "    <tr>\n",
       "      <th>1</th>\n",
       "      <td>RGB SYSTEMS</td>\n",
       "      <td>COMPUTER SYSTEMS ANALYSTS</td>\n",
       "      <td>784163.0</td>\n",
       "    </tr>\n",
       "    <tr>\n",
       "      <th>2</th>\n",
       "      <td>TECH MAHINDRA (AMERICAS), INC.</td>\n",
       "      <td>COMPUTER SYSTEMS ANALYSTS</td>\n",
       "      <td>743810.0</td>\n",
       "    </tr>\n",
       "    <tr>\n",
       "      <th>3</th>\n",
       "      <td>ALTIMETRIK CORP</td>\n",
       "      <td>SOFTWARE DEVELOPERS, APPLICATIONS</td>\n",
       "      <td>743590.0</td>\n",
       "    </tr>\n",
       "    <tr>\n",
       "      <th>4</th>\n",
       "      <td>ALTIMETRIK CORP</td>\n",
       "      <td>SOFTWARE DEVELOPERS, APPLICATIONS</td>\n",
       "      <td>743590.0</td>\n",
       "    </tr>\n",
       "    <tr>\n",
       "      <th>5</th>\n",
       "      <td>PROMATRIX CORP</td>\n",
       "      <td>SOFTWARE DEVELOPERS, APPLICATIONS</td>\n",
       "      <td>731240.0</td>\n",
       "    </tr>\n",
       "    <tr>\n",
       "      <th>6</th>\n",
       "      <td>AZEE SYSTEMS INC</td>\n",
       "      <td>SOFTWARE DEVELOPERS, APPLICATIONS</td>\n",
       "      <td>671840.0</td>\n",
       "    </tr>\n",
       "    <tr>\n",
       "      <th>7</th>\n",
       "      <td>AZEE SYSTEMS INC</td>\n",
       "      <td>SOFTWARE DEVELOPERS, APPLICATIONS</td>\n",
       "      <td>671840.0</td>\n",
       "    </tr>\n",
       "    <tr>\n",
       "      <th>8</th>\n",
       "      <td>AZEE SYSTEMS INC</td>\n",
       "      <td>SOFTWARE DEVELOPERS, APPLICATIONS</td>\n",
       "      <td>671840.0</td>\n",
       "    </tr>\n",
       "    <tr>\n",
       "      <th>9</th>\n",
       "      <td>HCL AMERICA, INC.</td>\n",
       "      <td>COMPUTER PROGRAMMERS</td>\n",
       "      <td>627541.0</td>\n",
       "    </tr>\n",
       "    <tr>\n",
       "      <th>10</th>\n",
       "      <td>LAUNCH IT CORP</td>\n",
       "      <td>COMPUTER SYSTEMS ANALYSTS</td>\n",
       "      <td>611730.0</td>\n",
       "    </tr>\n",
       "    <tr>\n",
       "      <th>11</th>\n",
       "      <td>PROSOFT TECHNOLOGIES INC</td>\n",
       "      <td>COMPUTER SYSTEMS ANALYSTS</td>\n",
       "      <td>544662.0</td>\n",
       "    </tr>\n",
       "    <tr>\n",
       "      <th>12</th>\n",
       "      <td>MPHASIS CORPORATION</td>\n",
       "      <td>COMPUTER PROGRAMMERS</td>\n",
       "      <td>524778.0</td>\n",
       "    </tr>\n",
       "    <tr>\n",
       "      <th>13</th>\n",
       "      <td>MPHASIS CORPORATION</td>\n",
       "      <td>COMPUTER PROGRAMMERS</td>\n",
       "      <td>524778.0</td>\n",
       "    </tr>\n",
       "    <tr>\n",
       "      <th>14</th>\n",
       "      <td>MPHASIS CORPORATION</td>\n",
       "      <td>COMPUTER PROGRAMMERS</td>\n",
       "      <td>524778.0</td>\n",
       "    </tr>\n",
       "    <tr>\n",
       "      <th>15</th>\n",
       "      <td>MPHASIS CORPORATION</td>\n",
       "      <td>COMPUTER PROGRAMMERS</td>\n",
       "      <td>524778.0</td>\n",
       "    </tr>\n",
       "    <tr>\n",
       "      <th>16</th>\n",
       "      <td>WORLD ECONOMIC FORUM LLC</td>\n",
       "      <td>CHIEF EXECUTIVES</td>\n",
       "      <td>298792.0</td>\n",
       "    </tr>\n",
       "    <tr>\n",
       "      <th>17</th>\n",
       "      <td>MPHASIS CORPORATION</td>\n",
       "      <td>CHIEF EXECUTIVES</td>\n",
       "      <td>284211.0</td>\n",
       "    </tr>\n",
       "    <tr>\n",
       "      <th>18</th>\n",
       "      <td>MPHASIS CORPORATION</td>\n",
       "      <td>CHIEF EXECUTIVES</td>\n",
       "      <td>284211.0</td>\n",
       "    </tr>\n",
       "    <tr>\n",
       "      <th>19</th>\n",
       "      <td>MPHASIS CORPORATION</td>\n",
       "      <td>CHIEF EXECUTIVES</td>\n",
       "      <td>284211.0</td>\n",
       "    </tr>\n",
       "  </tbody>\n",
       "</table>\n",
       "</div>"
      ],
      "text/plain": [
       "                     employer_name                          soc_title  \\\n",
       "0               I&I SOFTWARE, INC.  SOFTWARE DEVELOPERS, APPLICATIONS   \n",
       "1                      RGB SYSTEMS          COMPUTER SYSTEMS ANALYSTS   \n",
       "2   TECH MAHINDRA (AMERICAS), INC.          COMPUTER SYSTEMS ANALYSTS   \n",
       "3                  ALTIMETRIK CORP  SOFTWARE DEVELOPERS, APPLICATIONS   \n",
       "4                  ALTIMETRIK CORP  SOFTWARE DEVELOPERS, APPLICATIONS   \n",
       "5                   PROMATRIX CORP  SOFTWARE DEVELOPERS, APPLICATIONS   \n",
       "6                 AZEE SYSTEMS INC  SOFTWARE DEVELOPERS, APPLICATIONS   \n",
       "7                 AZEE SYSTEMS INC  SOFTWARE DEVELOPERS, APPLICATIONS   \n",
       "8                 AZEE SYSTEMS INC  SOFTWARE DEVELOPERS, APPLICATIONS   \n",
       "9                HCL AMERICA, INC.               COMPUTER PROGRAMMERS   \n",
       "10                  LAUNCH IT CORP          COMPUTER SYSTEMS ANALYSTS   \n",
       "11        PROSOFT TECHNOLOGIES INC          COMPUTER SYSTEMS ANALYSTS   \n",
       "12             MPHASIS CORPORATION               COMPUTER PROGRAMMERS   \n",
       "13             MPHASIS CORPORATION               COMPUTER PROGRAMMERS   \n",
       "14             MPHASIS CORPORATION               COMPUTER PROGRAMMERS   \n",
       "15             MPHASIS CORPORATION               COMPUTER PROGRAMMERS   \n",
       "16        WORLD ECONOMIC FORUM LLC                   CHIEF EXECUTIVES   \n",
       "17             MPHASIS CORPORATION                   CHIEF EXECUTIVES   \n",
       "18             MPHASIS CORPORATION                   CHIEF EXECUTIVES   \n",
       "19             MPHASIS CORPORATION                   CHIEF EXECUTIVES   \n",
       "\n",
       "    prevailing_wage_YR  \n",
       "0            9110400.0  \n",
       "1             784163.0  \n",
       "2             743810.0  \n",
       "3             743590.0  \n",
       "4             743590.0  \n",
       "5             731240.0  \n",
       "6             671840.0  \n",
       "7             671840.0  \n",
       "8             671840.0  \n",
       "9             627541.0  \n",
       "10            611730.0  \n",
       "11            544662.0  \n",
       "12            524778.0  \n",
       "13            524778.0  \n",
       "14            524778.0  \n",
       "15            524778.0  \n",
       "16            298792.0  \n",
       "17            284211.0  \n",
       "18            284211.0  \n",
       "19            284211.0  "
      ]
     },
     "execution_count": 6,
     "metadata": {},
     "output_type": "execute_result"
    }
   ],
   "source": [
    "%%bigquery\n",
    "SELECT employer_name, occ.soc_title, occ.prevailing_wage_YR\n",
    "FROM H_1B_refined.Employer_Dataflow as emp\n",
    "JOIN H_1B_refined.Occupation_Dataflow as occ ON occ.employer_id = emp.employer_id\n",
    "WHERE emp.h_1b_dependent = true \n",
    "ORDER BY occ.prevailing_wage_YR DESC\n",
    "LIMIT 20"
   ]
  },
  {
   "cell_type": "markdown",
   "metadata": {},
   "source": [
    "### Wrap each query into a view and insert them into insight dataset"
   ]
  },
  {
   "cell_type": "code",
   "execution_count": 2,
   "metadata": {},
   "outputs": [
    {
     "data": {
      "text/html": [
       "<div>\n",
       "<style scoped>\n",
       "    .dataframe tbody tr th:only-of-type {\n",
       "        vertical-align: middle;\n",
       "    }\n",
       "\n",
       "    .dataframe tbody tr th {\n",
       "        vertical-align: top;\n",
       "    }\n",
       "\n",
       "    .dataframe thead th {\n",
       "        text-align: right;\n",
       "    }\n",
       "</style>\n",
       "<table border=\"1\" class=\"dataframe\">\n",
       "  <thead>\n",
       "    <tr style=\"text-align: right;\">\n",
       "      <th></th>\n",
       "    </tr>\n",
       "  </thead>\n",
       "  <tbody>\n",
       "  </tbody>\n",
       "</table>\n",
       "</div>"
      ],
      "text/plain": [
       "Empty DataFrame\n",
       "Columns: []\n",
       "Index: []"
      ]
     },
     "execution_count": 2,
     "metadata": {},
     "output_type": "execute_result"
    }
   ],
   "source": [
    "%%bigquery\n",
    "CREATE VIEW insights.v_date_diff_by_case_status as \n",
    "SELECT CASE_STATUS, AVG(DateDiff) as DateDiff_avg\n",
    "FROM\n",
    "(SELECT emp.employer_name, CASE_STATUS, CASE_SUBMITTED, DECISION_DATE, ABS(DATE_DIFF(CASE_SUBMITTED, DECISION_DATE, day)) AS DateDiff\n",
    "FROM H_1B_refined.Application_Dataflow as app\n",
    "JOIN H_1B_refined.Employer_Dataflow as emp ON emp.employer_id = app.employer_id\n",
    "WHERE CASE_STATUS LIKE \"%CERTIFIED%\" OR CASE_STATUS = \"DENIED\")\n",
    "GROUP BY CASE_STATUS"
   ]
  },
  {
   "cell_type": "code",
   "execution_count": 5,
   "metadata": {},
   "outputs": [
    {
     "data": {
      "text/html": [
       "<div>\n",
       "<style scoped>\n",
       "    .dataframe tbody tr th:only-of-type {\n",
       "        vertical-align: middle;\n",
       "    }\n",
       "\n",
       "    .dataframe tbody tr th {\n",
       "        vertical-align: top;\n",
       "    }\n",
       "\n",
       "    .dataframe thead th {\n",
       "        text-align: right;\n",
       "    }\n",
       "</style>\n",
       "<table border=\"1\" class=\"dataframe\">\n",
       "  <thead>\n",
       "    <tr style=\"text-align: right;\">\n",
       "      <th></th>\n",
       "    </tr>\n",
       "  </thead>\n",
       "  <tbody>\n",
       "  </tbody>\n",
       "</table>\n",
       "</div>"
      ],
      "text/plain": [
       "Empty DataFrame\n",
       "Columns: []\n",
       "Index: []"
      ]
     },
     "execution_count": 5,
     "metadata": {},
     "output_type": "execute_result"
    }
   ],
   "source": [
    "%%bigquery\n",
    "CREATE VIEW insights.v_date_diff_by_case_status_raw as \n",
    "SELECT emp.employer_name, CASE_STATUS, CASE_SUBMITTED, DECISION_DATE, ABS(DATE_DIFF(CASE_SUBMITTED, DECISION_DATE, day)) AS DateDiff\n",
    "FROM H_1B_refined.Application_Dataflow as app\n",
    "JOIN H_1B_refined.Employer_Dataflow as emp ON emp.employer_id = app.employer_id\n",
    "WHERE CASE_STATUS LIKE \"%CERTIFIED%\" OR CASE_STATUS = \"DENIED\""
   ]
  },
  {
   "cell_type": "code",
   "execution_count": 8,
   "metadata": {},
   "outputs": [
    {
     "data": {
      "text/html": [
       "<div>\n",
       "<style scoped>\n",
       "    .dataframe tbody tr th:only-of-type {\n",
       "        vertical-align: middle;\n",
       "    }\n",
       "\n",
       "    .dataframe tbody tr th {\n",
       "        vertical-align: top;\n",
       "    }\n",
       "\n",
       "    .dataframe thead th {\n",
       "        text-align: right;\n",
       "    }\n",
       "</style>\n",
       "<table border=\"1\" class=\"dataframe\">\n",
       "  <thead>\n",
       "    <tr style=\"text-align: right;\">\n",
       "      <th></th>\n",
       "    </tr>\n",
       "  </thead>\n",
       "  <tbody>\n",
       "  </tbody>\n",
       "</table>\n",
       "</div>"
      ],
      "text/plain": [
       "Empty DataFrame\n",
       "Columns: []\n",
       "Index: []"
      ]
     },
     "execution_count": 8,
     "metadata": {},
     "output_type": "execute_result"
    }
   ],
   "source": [
    "%%bigquery\n",
    "CREATE VIEW insights.v_ownership_count as \n",
    "SELECT DISTINCT ownership, COUNT(ownership) as count\n",
    "FROM H_1B_refined.Ownership_Dataflow as own\n",
    "JOIN H_1B_refined.Occupation_Dataflow as occ ON occ.soc_code = own.occ_code\n",
    "JOIN H_1B_refined.Employer_Dataflow as emp ON emp.employer_id = occ.employer_id\n",
    "WHERE emp.h_1b_dependent = true \n",
    "GROUP BY ownership\n",
    "LIMIT 100"
   ]
  },
  {
   "cell_type": "code",
   "execution_count": 5,
   "metadata": {},
   "outputs": [
    {
     "data": {
      "text/html": [
       "<div>\n",
       "<style scoped>\n",
       "    .dataframe tbody tr th:only-of-type {\n",
       "        vertical-align: middle;\n",
       "    }\n",
       "\n",
       "    .dataframe tbody tr th {\n",
       "        vertical-align: top;\n",
       "    }\n",
       "\n",
       "    .dataframe thead th {\n",
       "        text-align: right;\n",
       "    }\n",
       "</style>\n",
       "<table border=\"1\" class=\"dataframe\">\n",
       "  <thead>\n",
       "    <tr style=\"text-align: right;\">\n",
       "      <th></th>\n",
       "    </tr>\n",
       "  </thead>\n",
       "  <tbody>\n",
       "  </tbody>\n",
       "</table>\n",
       "</div>"
      ],
      "text/plain": [
       "Empty DataFrame\n",
       "Columns: []\n",
       "Index: []"
      ]
     },
     "execution_count": 5,
     "metadata": {},
     "output_type": "execute_result"
    }
   ],
   "source": [
    "%%bigquery\n",
    "CREATE VIEW insights.v_prevailing_wage as \n",
    "SELECT employer_name, occ.soc_title, occ.prevailing_wage_YR\n",
    "FROM H_1B_refined.Employer_Dataflow as emp\n",
    "JOIN H_1B_refined.Occupation_Dataflow as occ ON occ.employer_id = emp.employer_id\n",
    "WHERE emp.h_1b_dependent = true \n",
    "ORDER BY occ.prevailing_wage_YR DESC\n",
    "LIMIT 100"
   ]
  },
  {
   "cell_type": "code",
   "execution_count": null,
   "metadata": {},
   "outputs": [],
   "source": []
  }
 ],
 "metadata": {
  "environment": {
   "name": "common-cpu.m55",
   "type": "gcloud",
   "uri": "gcr.io/deeplearning-platform-release/base-cpu:m55"
  },
  "kernelspec": {
   "display_name": "Python 3",
   "language": "python",
   "name": "python3"
  },
  "language_info": {
   "codemirror_mode": {
    "name": "ipython",
    "version": 3
   },
   "file_extension": ".py",
   "mimetype": "text/x-python",
   "name": "python",
   "nbconvert_exporter": "python",
   "pygments_lexer": "ipython3",
   "version": "3.7.8"
  }
 },
 "nbformat": 4,
 "nbformat_minor": 4
}
