{
 "cells": [
  {
   "cell_type": "markdown",
   "metadata": {},
   "source": [
    "# Milestone 3"
   ]
  },
  {
   "cell_type": "markdown",
   "metadata": {},
   "source": [
    "#### ****Since my partner's GCP coupon was expired and the coupon turned out it only applies to my project, I had to figure out how to reload the tables from the dataset from my partner's project."
   ]
  },
  {
   "cell_type": "code",
   "execution_count": 1,
   "metadata": {},
   "outputs": [],
   "source": [
    "import pandas as pd\n",
    "import pandas_gbq\n",
    "from google.cloud import bigquery\n",
    "%reload_ext google.cloud.bigquery"
   ]
  },
  {
   "cell_type": "code",
   "execution_count": 7,
   "metadata": {
    "collapsed": true,
    "jupyter": {
     "outputs_hidden": true
    }
   },
   "outputs": [
    {
     "name": "stdout",
     "output_type": "stream",
     "text": [
      "Requirement already satisfied: apache-beam[gcp] in /opt/conda/lib/python3.7/site-packages (2.25.0)\n",
      "Requirement already satisfied: pyarrow<0.18.0,>=0.15.1; python_version >= \"3.0\" or platform_system != \"Windows\" in /opt/conda/lib/python3.7/site-packages (from apache-beam[gcp]) (0.17.1)\n",
      "Requirement already satisfied: protobuf<4,>=3.12.2 in /opt/conda/lib/python3.7/site-packages (from apache-beam[gcp]) (3.12.4)\n",
      "Requirement already satisfied: avro-python3!=1.9.2,<1.10.0,>=1.8.1; python_version >= \"3.0\" in /opt/conda/lib/python3.7/site-packages (from apache-beam[gcp]) (1.9.2.1)\n",
      "Requirement already satisfied: oauth2client<5,>=2.0.1 in /opt/conda/lib/python3.7/site-packages (from apache-beam[gcp]) (4.1.3)\n",
      "Requirement already satisfied: requests<3.0.0,>=2.24.0 in /opt/conda/lib/python3.7/site-packages (from apache-beam[gcp]) (2.24.0)\n",
      "Requirement already satisfied: pydot<2,>=1.2.0 in /opt/conda/lib/python3.7/site-packages (from apache-beam[gcp]) (1.4.1)\n",
      "Requirement already satisfied: fastavro<2,>=0.21.4 in /opt/conda/lib/python3.7/site-packages (from apache-beam[gcp]) (1.2.1)\n",
      "Requirement already satisfied: dill<0.3.2,>=0.3.1.1 in /opt/conda/lib/python3.7/site-packages (from apache-beam[gcp]) (0.3.1.1)\n",
      "Requirement already satisfied: hdfs<3.0.0,>=2.1.0 in /opt/conda/lib/python3.7/site-packages (from apache-beam[gcp]) (2.5.8)\n",
      "Requirement already satisfied: typing-extensions<3.8.0,>=3.7.0 in /opt/conda/lib/python3.7/site-packages (from apache-beam[gcp]) (3.7.4.2)\n",
      "Requirement already satisfied: python-dateutil<3,>=2.8.0 in /opt/conda/lib/python3.7/site-packages (from apache-beam[gcp]) (2.8.1)\n",
      "Requirement already satisfied: numpy<2,>=1.14.3 in /opt/conda/lib/python3.7/site-packages (from apache-beam[gcp]) (1.18.5)\n",
      "Requirement already satisfied: mock<3.0.0,>=1.0.1 in /opt/conda/lib/python3.7/site-packages (from apache-beam[gcp]) (2.0.0)\n",
      "Requirement already satisfied: future<1.0.0,>=0.18.2 in /opt/conda/lib/python3.7/site-packages (from apache-beam[gcp]) (0.18.2)\n",
      "Requirement already satisfied: pytz>=2018.3 in /opt/conda/lib/python3.7/site-packages (from apache-beam[gcp]) (2020.1)\n",
      "Requirement already satisfied: httplib2<0.18.0,>=0.8 in /opt/conda/lib/python3.7/site-packages (from apache-beam[gcp]) (0.17.4)\n",
      "Requirement already satisfied: pymongo<4.0.0,>=3.8.0 in /opt/conda/lib/python3.7/site-packages (from apache-beam[gcp]) (3.11.2)\n",
      "Requirement already satisfied: crcmod<2.0,>=1.7 in /opt/conda/lib/python3.7/site-packages (from apache-beam[gcp]) (1.7)\n",
      "Requirement already satisfied: grpcio<2,>=1.29.0 in /opt/conda/lib/python3.7/site-packages (from apache-beam[gcp]) (1.31.0)\n",
      "Requirement already satisfied: google-cloud-bigquery<2,>=1.6.0; extra == \"gcp\" in /opt/conda/lib/python3.7/site-packages (from apache-beam[gcp]) (1.26.1)\n",
      "Requirement already satisfied: google-cloud-videointelligence<2,>=1.8.0; extra == \"gcp\" in /opt/conda/lib/python3.7/site-packages (from apache-beam[gcp]) (1.15.0)\n",
      "Requirement already satisfied: google-cloud-pubsub<2,>=0.39.0; extra == \"gcp\" in /opt/conda/lib/python3.7/site-packages (from apache-beam[gcp]) (1.7.0)\n",
      "Requirement already satisfied: google-apitools<0.5.32,>=0.5.31; extra == \"gcp\" in /opt/conda/lib/python3.7/site-packages (from apache-beam[gcp]) (0.5.31)\n",
      "Requirement already satisfied: google-cloud-spanner<2,>=1.13.0; extra == \"gcp\" in /opt/conda/lib/python3.7/site-packages (from apache-beam[gcp]) (1.17.1)\n",
      "Requirement already satisfied: google-cloud-core<2,>=0.28.1; extra == \"gcp\" in /opt/conda/lib/python3.7/site-packages (from apache-beam[gcp]) (1.4.4)\n",
      "Requirement already satisfied: google-cloud-bigtable<2,>=0.31.1; extra == \"gcp\" in /opt/conda/lib/python3.7/site-packages (from apache-beam[gcp]) (1.4.0)\n",
      "Requirement already satisfied: google-cloud-build<3,>=2.0.0; python_version >= \"3.6\" and extra == \"gcp\" in /opt/conda/lib/python3.7/site-packages (from apache-beam[gcp]) (2.0.0)\n",
      "Requirement already satisfied: google-cloud-language<2,>=1.3.0; extra == \"gcp\" in /opt/conda/lib/python3.7/site-packages (from apache-beam[gcp]) (1.3.0)\n",
      "Requirement already satisfied: google-auth<2,>=1.18.0; extra == \"gcp\" in /opt/conda/lib/python3.7/site-packages (from apache-beam[gcp]) (1.23.0)\n",
      "Requirement already satisfied: google-cloud-vision<2,>=0.38.0; extra == \"gcp\" in /opt/conda/lib/python3.7/site-packages (from apache-beam[gcp]) (1.0.0)\n",
      "Requirement already satisfied: cachetools<5,>=3.1.0; extra == \"gcp\" in /opt/conda/lib/python3.7/site-packages (from apache-beam[gcp]) (4.1.1)\n",
      "Requirement already satisfied: grpcio-gcp<1,>=0.2.2; extra == \"gcp\" in /opt/conda/lib/python3.7/site-packages (from apache-beam[gcp]) (0.2.2)\n",
      "Requirement already satisfied: google-cloud-datastore<2,>=1.7.1; extra == \"gcp\" in /opt/conda/lib/python3.7/site-packages (from apache-beam[gcp]) (1.12.0)\n",
      "Requirement already satisfied: google-cloud-dlp<2,>=0.12.0; extra == \"gcp\" in /opt/conda/lib/python3.7/site-packages (from apache-beam[gcp]) (1.0.0)\n",
      "Requirement already satisfied: six>=1.9 in /opt/conda/lib/python3.7/site-packages (from protobuf<4,>=3.12.2->apache-beam[gcp]) (1.15.0)\n",
      "Requirement already satisfied: setuptools in /opt/conda/lib/python3.7/site-packages (from protobuf<4,>=3.12.2->apache-beam[gcp]) (49.6.0.post20200814)\n",
      "Requirement already satisfied: pyasn1>=0.1.7 in /opt/conda/lib/python3.7/site-packages (from oauth2client<5,>=2.0.1->apache-beam[gcp]) (0.4.8)\n",
      "Requirement already satisfied: pyasn1-modules>=0.0.5 in /opt/conda/lib/python3.7/site-packages (from oauth2client<5,>=2.0.1->apache-beam[gcp]) (0.2.7)\n",
      "Requirement already satisfied: rsa>=3.1.4 in /opt/conda/lib/python3.7/site-packages (from oauth2client<5,>=2.0.1->apache-beam[gcp]) (4.6)\n",
      "Requirement already satisfied: certifi>=2017.4.17 in /opt/conda/lib/python3.7/site-packages (from requests<3.0.0,>=2.24.0->apache-beam[gcp]) (2020.6.20)\n",
      "Requirement already satisfied: idna<3,>=2.5 in /opt/conda/lib/python3.7/site-packages (from requests<3.0.0,>=2.24.0->apache-beam[gcp]) (2.10)\n",
      "Requirement already satisfied: urllib3!=1.25.0,!=1.25.1,<1.26,>=1.21.1 in /opt/conda/lib/python3.7/site-packages (from requests<3.0.0,>=2.24.0->apache-beam[gcp]) (1.25.10)\n",
      "Requirement already satisfied: chardet<4,>=3.0.2 in /opt/conda/lib/python3.7/site-packages (from requests<3.0.0,>=2.24.0->apache-beam[gcp]) (3.0.4)\n",
      "Requirement already satisfied: pyparsing>=2.1.4 in /opt/conda/lib/python3.7/site-packages (from pydot<2,>=1.2.0->apache-beam[gcp]) (2.4.7)\n",
      "Requirement already satisfied: docopt in /opt/conda/lib/python3.7/site-packages (from hdfs<3.0.0,>=2.1.0->apache-beam[gcp]) (0.6.2)\n",
      "Requirement already satisfied: pbr>=0.11 in /opt/conda/lib/python3.7/site-packages (from mock<3.0.0,>=1.0.1->apache-beam[gcp]) (5.5.1)\n",
      "Requirement already satisfied: google-resumable-media<2.0dev,>=0.5.0 in /opt/conda/lib/python3.7/site-packages (from google-cloud-bigquery<2,>=1.6.0; extra == \"gcp\"->apache-beam[gcp]) (0.7.1)\n",
      "Requirement already satisfied: google-api-core<2.0dev,>=1.21.0 in /opt/conda/lib/python3.7/site-packages (from google-cloud-bigquery<2,>=1.6.0; extra == \"gcp\"->apache-beam[gcp]) (1.23.0)\n",
      "Requirement already satisfied: grpc-google-iam-v1<0.13dev,>=0.12.3 in /opt/conda/lib/python3.7/site-packages (from google-cloud-pubsub<2,>=0.39.0; extra == \"gcp\"->apache-beam[gcp]) (0.12.3)\n",
      "Requirement already satisfied: fasteners>=0.14 in /opt/conda/lib/python3.7/site-packages (from google-apitools<0.5.32,>=0.5.31; extra == \"gcp\"->apache-beam[gcp]) (0.15)\n",
      "Requirement already satisfied: libcst>=0.2.5 in /opt/conda/lib/python3.7/site-packages (from google-cloud-build<3,>=2.0.0; python_version >= \"3.6\" and extra == \"gcp\"->apache-beam[gcp]) (0.3.15)\n",
      "Requirement already satisfied: proto-plus>=0.4.0 in /opt/conda/lib/python3.7/site-packages (from google-cloud-build<3,>=2.0.0; python_version >= \"3.6\" and extra == \"gcp\"->apache-beam[gcp]) (1.11.0)\n",
      "Requirement already satisfied: google-crc32c<0.2dev,>=0.1.0; python_version >= \"3.5\" in /opt/conda/lib/python3.7/site-packages (from google-resumable-media<2.0dev,>=0.5.0->google-cloud-bigquery<2,>=1.6.0; extra == \"gcp\"->apache-beam[gcp]) (0.1.0)\n",
      "Requirement already satisfied: googleapis-common-protos<2.0dev,>=1.6.0 in /opt/conda/lib/python3.7/site-packages (from google-api-core<2.0dev,>=1.21.0->google-cloud-bigquery<2,>=1.6.0; extra == \"gcp\"->apache-beam[gcp]) (1.51.0)\n",
      "Requirement already satisfied: monotonic>=0.1 in /opt/conda/lib/python3.7/site-packages (from fasteners>=0.14->google-apitools<0.5.32,>=0.5.31; extra == \"gcp\"->apache-beam[gcp]) (1.5)\n",
      "Requirement already satisfied: typing-inspect>=0.4.0 in /opt/conda/lib/python3.7/site-packages (from libcst>=0.2.5->google-cloud-build<3,>=2.0.0; python_version >= \"3.6\" and extra == \"gcp\"->apache-beam[gcp]) (0.6.0)\n",
      "Requirement already satisfied: pyyaml>=5.2 in /opt/conda/lib/python3.7/site-packages (from libcst>=0.2.5->google-cloud-build<3,>=2.0.0; python_version >= \"3.6\" and extra == \"gcp\"->apache-beam[gcp]) (5.3.1)\n",
      "Requirement already satisfied: cffi>=1.0.0 in /opt/conda/lib/python3.7/site-packages (from google-crc32c<0.2dev,>=0.1.0; python_version >= \"3.5\"->google-resumable-media<2.0dev,>=0.5.0->google-cloud-bigquery<2,>=1.6.0; extra == \"gcp\"->apache-beam[gcp]) (1.14.1)\n",
      "Requirement already satisfied: mypy-extensions>=0.3.0 in /opt/conda/lib/python3.7/site-packages (from typing-inspect>=0.4.0->libcst>=0.2.5->google-cloud-build<3,>=2.0.0; python_version >= \"3.6\" and extra == \"gcp\"->apache-beam[gcp]) (0.4.3)\n",
      "Requirement already satisfied: pycparser in /opt/conda/lib/python3.7/site-packages (from cffi>=1.0.0->google-crc32c<0.2dev,>=0.1.0; python_version >= \"3.5\"->google-resumable-media<2.0dev,>=0.5.0->google-cloud-bigquery<2,>=1.6.0; extra == \"gcp\"->apache-beam[gcp]) (2.20)\n"
     ]
    }
   ],
   "source": [
    "!pip install apache-beam[gcp]"
   ]
  },
  {
   "cell_type": "markdown",
   "metadata": {},
   "source": [
    "## 1. Identify all the tables from your refined datasets which contain data that needs to be cleansed. "
   ]
  },
  {
   "cell_type": "markdown",
   "metadata": {},
   "source": [
    "#### Occupation Table:\n",
    "##### <b>Change employment_start_date and employment_end_date to \"YYYY-MM-DD\" format and change it to DATE data type. </b>\n",
    "##### The following queries shows that there are some values that are not in \"YYYY-MM-DD\" format (such as YYYY.MM.DD and MM/DD/YYYY)"
   ]
  },
  {
   "cell_type": "code",
   "execution_count": 2,
   "metadata": {},
   "outputs": [
    {
     "data": {
      "text/html": [
       "<div>\n",
       "<style scoped>\n",
       "    .dataframe tbody tr th:only-of-type {\n",
       "        vertical-align: middle;\n",
       "    }\n",
       "\n",
       "    .dataframe tbody tr th {\n",
       "        vertical-align: top;\n",
       "    }\n",
       "\n",
       "    .dataframe thead th {\n",
       "        text-align: right;\n",
       "    }\n",
       "</style>\n",
       "<table border=\"1\" class=\"dataframe\">\n",
       "  <thead>\n",
       "    <tr style=\"text-align: right;\">\n",
       "      <th></th>\n",
       "      <th>employment_start_date</th>\n",
       "    </tr>\n",
       "  </thead>\n",
       "  <tbody>\n",
       "    <tr>\n",
       "      <th>0</th>\n",
       "      <td>2014.6.4</td>\n",
       "    </tr>\n",
       "    <tr>\n",
       "      <th>1</th>\n",
       "      <td>2014.5.15</td>\n",
       "    </tr>\n",
       "    <tr>\n",
       "      <th>2</th>\n",
       "      <td>2014.9.12</td>\n",
       "    </tr>\n",
       "    <tr>\n",
       "      <th>3</th>\n",
       "      <td>2014.8.1</td>\n",
       "    </tr>\n",
       "    <tr>\n",
       "      <th>4</th>\n",
       "      <td>2014.9.15</td>\n",
       "    </tr>\n",
       "  </tbody>\n",
       "</table>\n",
       "</div>"
      ],
      "text/plain": [
       "  employment_start_date\n",
       "0              2014.6.4\n",
       "1             2014.5.15\n",
       "2             2014.9.12\n",
       "3              2014.8.1\n",
       "4             2014.9.15"
      ]
     },
     "execution_count": 2,
     "metadata": {},
     "output_type": "execute_result"
    }
   ],
   "source": [
    "%%bigquery\n",
    "SELECT employment_start_date \n",
    "FROM H_1B_refined.Occupation\n",
    "WHERE employment_start_date LIKE \"%.%\"\n",
    "LIMIT 5"
   ]
  },
  {
   "cell_type": "code",
   "execution_count": 3,
   "metadata": {},
   "outputs": [
    {
     "data": {
      "text/html": [
       "<div>\n",
       "<style scoped>\n",
       "    .dataframe tbody tr th:only-of-type {\n",
       "        vertical-align: middle;\n",
       "    }\n",
       "\n",
       "    .dataframe tbody tr th {\n",
       "        vertical-align: top;\n",
       "    }\n",
       "\n",
       "    .dataframe thead th {\n",
       "        text-align: right;\n",
       "    }\n",
       "</style>\n",
       "<table border=\"1\" class=\"dataframe\">\n",
       "  <thead>\n",
       "    <tr style=\"text-align: right;\">\n",
       "      <th></th>\n",
       "      <th>employment_start_date</th>\n",
       "    </tr>\n",
       "  </thead>\n",
       "  <tbody>\n",
       "    <tr>\n",
       "      <th>0</th>\n",
       "      <td>10/14/2014</td>\n",
       "    </tr>\n",
       "    <tr>\n",
       "      <th>1</th>\n",
       "      <td>05/27/2015</td>\n",
       "    </tr>\n",
       "    <tr>\n",
       "      <th>2</th>\n",
       "      <td>04/12/2013</td>\n",
       "    </tr>\n",
       "    <tr>\n",
       "      <th>3</th>\n",
       "      <td>08/01/2014</td>\n",
       "    </tr>\n",
       "    <tr>\n",
       "      <th>4</th>\n",
       "      <td>02/20/2015</td>\n",
       "    </tr>\n",
       "  </tbody>\n",
       "</table>\n",
       "</div>"
      ],
      "text/plain": [
       "  employment_start_date\n",
       "0            10/14/2014\n",
       "1            05/27/2015\n",
       "2            04/12/2013\n",
       "3            08/01/2014\n",
       "4            02/20/2015"
      ]
     },
     "execution_count": 3,
     "metadata": {},
     "output_type": "execute_result"
    }
   ],
   "source": [
    "%%bigquery\n",
    "SELECT employment_start_date \n",
    "FROM H_1B_refined.Occupation\n",
    "WHERE employment_start_date LIKE \"%/%\"\n",
    "LIMIT 5"
   ]
  },
  {
   "cell_type": "markdown",
   "metadata": {},
   "source": [
    "##### <b>Change 123456 format to 12-3456 format in soc_code</b>\n",
    "##### Since Ownership table has codes whose length is 7, we are dropping all the soc_codes that are in 12-3456.00 format or 30, etc <br>(Below query shows that Ownership table only has codes with 7 length)"
   ]
  },
  {
   "cell_type": "code",
   "execution_count": 1,
   "metadata": {},
   "outputs": [
    {
     "data": {
      "text/html": [
       "<div>\n",
       "<style scoped>\n",
       "    .dataframe tbody tr th:only-of-type {\n",
       "        vertical-align: middle;\n",
       "    }\n",
       "\n",
       "    .dataframe tbody tr th {\n",
       "        vertical-align: top;\n",
       "    }\n",
       "\n",
       "    .dataframe thead th {\n",
       "        text-align: right;\n",
       "    }\n",
       "</style>\n",
       "<table border=\"1\" class=\"dataframe\">\n",
       "  <thead>\n",
       "    <tr style=\"text-align: right;\">\n",
       "      <th></th>\n",
       "      <th>occ_code</th>\n",
       "    </tr>\n",
       "  </thead>\n",
       "  <tbody>\n",
       "  </tbody>\n",
       "</table>\n",
       "</div>"
      ],
      "text/plain": [
       "Empty DataFrame\n",
       "Columns: [occ_code]\n",
       "Index: []"
      ]
     },
     "execution_count": 1,
     "metadata": {},
     "output_type": "execute_result"
    }
   ],
   "source": [
    "%%bigquery\n",
    "SELECT occ_code \n",
    "FROM H_1B_refined.Ownership\n",
    "WHERE length(occ_code) != 7\n",
    "LIMIT 10"
   ]
  },
  {
   "cell_type": "markdown",
   "metadata": {},
   "source": [
    "##### There are some soc_codes with weird formats such as 12-3456.00, 30, 12.3456.00, and Commputer System Analyst."
   ]
  },
  {
   "cell_type": "code",
   "execution_count": 2,
   "metadata": {},
   "outputs": [
    {
     "data": {
      "text/html": [
       "<div>\n",
       "<style scoped>\n",
       "    .dataframe tbody tr th:only-of-type {\n",
       "        vertical-align: middle;\n",
       "    }\n",
       "\n",
       "    .dataframe tbody tr th {\n",
       "        vertical-align: top;\n",
       "    }\n",
       "\n",
       "    .dataframe thead th {\n",
       "        text-align: right;\n",
       "    }\n",
       "</style>\n",
       "<table border=\"1\" class=\"dataframe\">\n",
       "  <thead>\n",
       "    <tr style=\"text-align: right;\">\n",
       "      <th></th>\n",
       "      <th>soc_code</th>\n",
       "    </tr>\n",
       "  </thead>\n",
       "  <tbody>\n",
       "    <tr>\n",
       "      <th>0</th>\n",
       "      <td>15-1031.00</td>\n",
       "    </tr>\n",
       "    <tr>\n",
       "      <th>1</th>\n",
       "      <td>25-1032.00</td>\n",
       "    </tr>\n",
       "    <tr>\n",
       "      <th>2</th>\n",
       "      <td>25-2031.00</td>\n",
       "    </tr>\n",
       "    <tr>\n",
       "      <th>3</th>\n",
       "      <td>17-2131.00</td>\n",
       "    </tr>\n",
       "    <tr>\n",
       "      <th>4</th>\n",
       "      <td>25-4012.00</td>\n",
       "    </tr>\n",
       "  </tbody>\n",
       "</table>\n",
       "</div>"
      ],
      "text/plain": [
       "     soc_code\n",
       "0  15-1031.00\n",
       "1  25-1032.00\n",
       "2  25-2031.00\n",
       "3  17-2131.00\n",
       "4  25-4012.00"
      ]
     },
     "execution_count": 2,
     "metadata": {},
     "output_type": "execute_result"
    }
   ],
   "source": [
    "%%bigquery\n",
    "SELECT soc_code \n",
    "FROM H_1B_refined.Occupation \n",
    "WHERE length(soc_code) != 7\n",
    "LIMIT 5"
   ]
  },
  {
   "cell_type": "markdown",
   "metadata": {},
   "source": [
    "##### <b>In addition, there are duplicates</b>\n",
    "##### Duplicate count: 636801 "
   ]
  },
  {
   "cell_type": "code",
   "execution_count": 12,
   "metadata": {},
   "outputs": [
    {
     "data": {
      "text/html": [
       "<div>\n",
       "<style scoped>\n",
       "    .dataframe tbody tr th:only-of-type {\n",
       "        vertical-align: middle;\n",
       "    }\n",
       "\n",
       "    .dataframe tbody tr th {\n",
       "        vertical-align: top;\n",
       "    }\n",
       "\n",
       "    .dataframe thead th {\n",
       "        text-align: right;\n",
       "    }\n",
       "</style>\n",
       "<table border=\"1\" class=\"dataframe\">\n",
       "  <thead>\n",
       "    <tr style=\"text-align: right;\">\n",
       "      <th></th>\n",
       "      <th>f0_</th>\n",
       "    </tr>\n",
       "  </thead>\n",
       "  <tbody>\n",
       "    <tr>\n",
       "      <th>0</th>\n",
       "      <td>636801</td>\n",
       "    </tr>\n",
       "  </tbody>\n",
       "</table>\n",
       "</div>"
      ],
      "text/plain": [
       "      f0_\n",
       "0  636801"
      ]
     },
     "execution_count": 12,
     "metadata": {},
     "output_type": "execute_result"
    }
   ],
   "source": [
    "%%bigquery\n",
    "SELECT COUNT(*) \n",
    "FROM\n",
    "(SELECT  *, COUNT(*) AS count\n",
    "FROM H_1B_refined.Occupation            \n",
    "GROUP BY job_title, employer_name, employer_city, employment_start_date, employment_end_date, soc_code, soc_title, prevailing_wage_YR, pw_wage_level, pw_wage_source, pw_wage_source_year, pw_wage_source_other, worksite_city, worksite_country, worksite_state, worksite_postal_code      \n",
    "HAVING count > 1);  "
   ]
  },
  {
   "cell_type": "markdown",
   "metadata": {},
   "source": [
    "#### <b>Application Table:</b>\n",
    "##### There are some duplicate rows\n",
    "##### Duplicate count: 519528 "
   ]
  },
  {
   "cell_type": "code",
   "execution_count": 11,
   "metadata": {},
   "outputs": [
    {
     "data": {
      "text/html": [
       "<div>\n",
       "<style scoped>\n",
       "    .dataframe tbody tr th:only-of-type {\n",
       "        vertical-align: middle;\n",
       "    }\n",
       "\n",
       "    .dataframe tbody tr th {\n",
       "        vertical-align: top;\n",
       "    }\n",
       "\n",
       "    .dataframe thead th {\n",
       "        text-align: right;\n",
       "    }\n",
       "</style>\n",
       "<table border=\"1\" class=\"dataframe\">\n",
       "  <thead>\n",
       "    <tr style=\"text-align: right;\">\n",
       "      <th></th>\n",
       "      <th>f0_</th>\n",
       "    </tr>\n",
       "  </thead>\n",
       "  <tbody>\n",
       "    <tr>\n",
       "      <th>0</th>\n",
       "      <td>519528</td>\n",
       "    </tr>\n",
       "  </tbody>\n",
       "</table>\n",
       "</div>"
      ],
      "text/plain": [
       "      f0_\n",
       "0  519528"
      ]
     },
     "execution_count": 11,
     "metadata": {},
     "output_type": "execute_result"
    }
   ],
   "source": [
    "%%bigquery\n",
    "SELECT COUNT(*) \n",
    "FROM\n",
    "(SELECT  *, COUNT(*) AS count\n",
    "FROM H_1B_refined.Application            \n",
    "GROUP BY CASE_NUMBER, CASE_STATUS, CASE_SUBMITTED, DECESION_DATE, VISA_CLASS, employer_name, employer_city      \n",
    "HAVING count > 1);  "
   ]
  },
  {
   "cell_type": "markdown",
   "metadata": {},
   "source": [
    "#### <b> Employer Table: </b>\n",
    "##### There are some duplicate rows\n",
    "##### Duplicate count: 136947 "
   ]
  },
  {
   "cell_type": "code",
   "execution_count": 10,
   "metadata": {},
   "outputs": [
    {
     "data": {
      "text/html": [
       "<div>\n",
       "<style scoped>\n",
       "    .dataframe tbody tr th:only-of-type {\n",
       "        vertical-align: middle;\n",
       "    }\n",
       "\n",
       "    .dataframe tbody tr th {\n",
       "        vertical-align: top;\n",
       "    }\n",
       "\n",
       "    .dataframe thead th {\n",
       "        text-align: right;\n",
       "    }\n",
       "</style>\n",
       "<table border=\"1\" class=\"dataframe\">\n",
       "  <thead>\n",
       "    <tr style=\"text-align: right;\">\n",
       "      <th></th>\n",
       "      <th>f0_</th>\n",
       "    </tr>\n",
       "  </thead>\n",
       "  <tbody>\n",
       "    <tr>\n",
       "      <th>0</th>\n",
       "      <td>136947</td>\n",
       "    </tr>\n",
       "  </tbody>\n",
       "</table>\n",
       "</div>"
      ],
      "text/plain": [
       "      f0_\n",
       "0  136947"
      ]
     },
     "execution_count": 10,
     "metadata": {},
     "output_type": "execute_result"
    }
   ],
   "source": [
    "%%bigquery\n",
    "SELECT COUNT(*) \n",
    "FROM\n",
    "(SELECT  *, COUNT(*) AS count\n",
    "FROM H_1B_refined.Employer            \n",
    "GROUP BY employer_name, employer_address, employer_city, employer_state, employer_postal_code, employer_country, employer_province, h_1b_dependent, willful_violator      \n",
    "HAVING count > 1);  "
   ]
  },
  {
   "cell_type": "markdown",
   "metadata": {},
   "source": [
    "#### <b> Ownership Table: </b>\n",
    "##### There are some duplicate rows\n",
    "##### Duplicate count: 1350 "
   ]
  },
  {
   "cell_type": "code",
   "execution_count": 13,
   "metadata": {},
   "outputs": [
    {
     "data": {
      "text/html": [
       "<div>\n",
       "<style scoped>\n",
       "    .dataframe tbody tr th:only-of-type {\n",
       "        vertical-align: middle;\n",
       "    }\n",
       "\n",
       "    .dataframe tbody tr th {\n",
       "        vertical-align: top;\n",
       "    }\n",
       "\n",
       "    .dataframe thead th {\n",
       "        text-align: right;\n",
       "    }\n",
       "</style>\n",
       "<table border=\"1\" class=\"dataframe\">\n",
       "  <thead>\n",
       "    <tr style=\"text-align: right;\">\n",
       "      <th></th>\n",
       "      <th>f0_</th>\n",
       "    </tr>\n",
       "  </thead>\n",
       "  <tbody>\n",
       "    <tr>\n",
       "      <th>0</th>\n",
       "      <td>1350</td>\n",
       "    </tr>\n",
       "  </tbody>\n",
       "</table>\n",
       "</div>"
      ],
      "text/plain": [
       "    f0_\n",
       "0  1350"
      ]
     },
     "execution_count": 13,
     "metadata": {},
     "output_type": "execute_result"
    }
   ],
   "source": [
    "%%bigquery\n",
    "SELECT COUNT(*) \n",
    "FROM\n",
    "(SELECT  *, COUNT(*) AS count\n",
    "FROM H_1B_refined.Ownership            \n",
    "GROUP BY occ_code, occ_title, ownership, naics_title, grp, tot_emp, emp_prse, h_mean, a_mean, mean_prse, a_pct10, a_pct25, a_median, a_pct75, a_pct90  \n",
    "HAVING count > 1);  "
   ]
  },
  {
   "cell_type": "markdown",
   "metadata": {},
   "source": [
    "## 2. Write a Beam pipeline that normalizes the data from the table and creates a new table with the cleansed data"
   ]
  },
  {
   "cell_type": "code",
   "execution_count": 10,
   "metadata": {},
   "outputs": [
    {
     "name": "stdout",
     "output_type": "stream",
     "text": [
      "input start_date: 2017.7.28, output start_date: 2017-7-28\n",
      "input end_date: 2020.7.27, output end_date: 2020-7-27\n",
      "input start_date: 2017.9.15, output start_date: 2017-9-15\n",
      "input end_date: 2020.9.14, output end_date: 2020-9-14\n",
      "input start_date: 2017.8.1, output start_date: 2017-8-1\n",
      "input end_date: 2019.7.31, output end_date: 2019-7-31\n",
      "input start_date: 2017.1.1, output start_date: 2017-1-1\n",
      "input end_date: 2020.1.1, output end_date: 2020-1-1\n",
      "input start_date: 2016.12.21, output start_date: 2016-12-21\n",
      "input end_date: 2019.12.21, output end_date: 2019-12-21\n",
      "input start_date: 2017.4.15, output start_date: 2017-4-15\n",
      "input end_date: 2020.4.14, output end_date: 2020-4-14\n",
      "input start_date: 2017.9.28, output start_date: 2017-9-28\n",
      "input end_date: 2020.9.27, output end_date: 2020-9-27\n",
      "input start_date: 2017.7.26, output start_date: 2017-7-26\n",
      "input end_date: 2020.7.25, output end_date: 2020-7-25\n",
      "input start_date: 2016.4.27, output start_date: 2016-4-27\n",
      "input end_date: 2019.4.26, output end_date: 2019-4-26\n",
      "input start_date: 2017.6.2, output start_date: 2017-6-2\n",
      "input end_date: 2020.6.2, output end_date: 2020-6-2\n",
      "input start_date: 2017.9.1, output start_date: 2017-9-1\n",
      "input end_date: 2020.8.31, output end_date: 2020-8-31\n",
      "input start_date: 2017.3.20, output start_date: 2017-3-20\n",
      "input end_date: 2020.3.20, output end_date: 2020-3-20\n",
      "input start_date: 2018.1.16, output start_date: 2018-1-16\n",
      "input end_date: 2021.1.15, output end_date: 2021-1-15\n",
      "input start_date: 2017.9.30, output start_date: 2017-9-30\n",
      "input end_date: 2020.9.30, output end_date: 2020-9-30\n",
      "input start_date: 2017.5.22, output start_date: 2017-5-22\n",
      "input end_date: 2020.5.22, output end_date: 2020-5-22\n",
      "input start_date: 2017.1.16, output start_date: 2017-1-16\n",
      "input end_date: 2020.1.15, output end_date: 2020-1-15\n",
      "input start_date: 2017.9.6, output start_date: 2017-9-6\n",
      "input end_date: 2020.9.6, output end_date: 2020-9-6\n",
      "input start_date: 2017.9.16, output start_date: 2017-9-16\n",
      "input end_date: 2020.9.15, output end_date: 2020-9-15\n",
      "input start_date: 2017.7.23, output start_date: 2017-7-23\n",
      "input end_date: 2020.7.22, output end_date: 2020-7-22\n",
      "input start_date: 2017.6.19, output start_date: 2017-6-19\n",
      "input end_date: 2020.6.18, output end_date: 2020-6-18\n",
      "input start_date: 2016.3.21, output start_date: 2016-3-21\n",
      "input end_date: 2019.3.20, output end_date: 2019-3-20\n",
      "input start_date: 2018.1.7, output start_date: 2018-1-7\n",
      "input end_date: 2021.1.6, output end_date: 2021-1-6\n",
      "input start_date: 2017.9.6, output start_date: 2017-9-6\n",
      "input end_date: 2020.9.5, output end_date: 2020-9-5\n",
      "input start_date: 2017.4.10, output start_date: 2017-4-10\n",
      "input end_date: 2020.4.9, output end_date: 2020-4-9\n",
      "input start_date: 2017.9.3, output start_date: 2017-9-3\n",
      "input end_date: 2020.9.2, output end_date: 2020-9-2\n",
      "input start_date: 2017.9.2, output start_date: 2017-9-2\n",
      "input end_date: 2020.9.1, output end_date: 2020-9-1\n",
      "input start_date: 2014.7.7, output start_date: 2014-7-7\n",
      "input end_date: 2017.7.6, output end_date: 2017-7-6\n",
      "input start_date: 2014.12.1, output start_date: 2014-12-1\n",
      "input end_date: 2017.12.1, output end_date: 2017-12-1\n",
      "input start_date: 2017.9.22, output start_date: 2017-9-22\n",
      "input end_date: 2020.9.21, output end_date: 2020-9-21\n",
      "input start_date: 2016.12.8, output start_date: 2016-12-8\n",
      "input end_date: 2019.8.21, output end_date: 2019-8-21\n",
      "input start_date: 2016.11.21, output start_date: 2016-11-21\n",
      "input end_date: 2019.11.21, output end_date: 2019-11-21\n",
      "input start_date: 2017.8.5, output start_date: 2017-8-5\n",
      "input end_date: 2020.8.5, output end_date: 2020-8-5\n",
      "input start_date: 2017.8.1, output start_date: 2017-8-1\n",
      "input end_date: 2020.8.1, output end_date: 2020-8-1\n",
      "input start_date: 2017.9.1, output start_date: 2017-9-1\n",
      "input end_date: 2020.9.1, output end_date: 2020-9-1\n",
      "input start_date: 2017.9.14, output start_date: 2017-9-14\n",
      "input end_date: 2020.9.13, output end_date: 2020-9-13\n",
      "input start_date: 2017.3.7, output start_date: 2017-3-7\n",
      "input end_date: 2020.3.6, output end_date: 2020-3-6\n",
      "input start_date: 2017.5.30, output start_date: 2017-5-30\n",
      "input end_date: 2020.5.30, output end_date: 2020-5-30\n",
      "input start_date: 2017.8.21, output start_date: 2017-8-21\n",
      "input end_date: 2020.8.20, output end_date: 2020-8-20\n",
      "input start_date: 2017.8.30, output start_date: 2017-8-30\n",
      "input end_date: 2020.8.29, output end_date: 2020-8-29\n",
      "input start_date: 2017.2.17, output start_date: 2017-2-17\n",
      "input end_date: 2020.2.16, output end_date: 2020-2-16\n",
      "input start_date: 2017.8.1, output start_date: 2017-8-1\n",
      "input end_date: 2020.7.29, output end_date: 2020-7-29\n",
      "input start_date: 2017.8.6, output start_date: 2017-8-6\n",
      "input end_date: 2020.8.6, output end_date: 2020-8-6\n",
      "input start_date: 2017.7.21, output start_date: 2017-7-21\n",
      "input end_date: 2020.7.21, output end_date: 2020-7-21\n",
      "input start_date: 2017.8.4, output start_date: 2017-8-4\n",
      "input end_date: 2020.8.4, output end_date: 2020-8-4\n",
      "input start_date: 2016.11.1, output start_date: 2016-11-1\n",
      "input end_date: 2019.11.1, output end_date: 2019-11-1\n",
      "input start_date: 2017.8.1, output start_date: 2017-8-1\n",
      "input end_date: 2020.7.31, output end_date: 2020-7-31\n",
      "input start_date: 2015.9.15, output start_date: 2015-9-15\n",
      "input end_date: 2018.9.15, output end_date: 2018-9-15\n",
      "input start_date: 2017.8.21, output start_date: 2017-8-21\n",
      "input end_date: 2018.8.20, output end_date: 2018-8-20\n",
      "input start_date: 2017.8.17, output start_date: 2017-8-17\n",
      "input end_date: 2020.8.16, output end_date: 2020-8-16\n",
      "input start_date: 2017.9.25, output start_date: 2017-9-25\n",
      "input end_date: 2020.9.24, output end_date: 2020-9-24\n"
     ]
    }
   ],
   "source": [
    "%run occupation_beam.py"
   ]
  },
  {
   "cell_type": "markdown",
   "metadata": {},
   "source": [
    "### The subsample above doesn't contain soc_code that needs to be transformed, so we tested out our soc_code transformation code below <br> Please note that the result below output and Occ_CodeTest table in BQ are just for the sake of showing my code is working. "
   ]
  },
  {
   "cell_type": "code",
   "execution_count": 15,
   "metadata": {},
   "outputs": [
    {
     "name": "stdout",
     "output_type": "stream",
     "text": [
      "input soc_code: 112022, output soc_code: 11-2022\n",
      "input soc_code: 111011, output soc_code: 11-1011\n",
      "input soc_code: 132051, output soc_code: 13-2051\n",
      "input soc_code: 132051, output soc_code: 13-2051\n",
      "input soc_code: 132051, output soc_code: 13-2051\n",
      "input soc_code: 132051, output soc_code: 13-2051\n",
      "input soc_code: 132051, output soc_code: 13-2051\n",
      "input soc_code: 131081, output soc_code: 13-1081\n",
      "input soc_code: 151131, output soc_code: 15-1131\n",
      "input soc_code: 151131, output soc_code: 15-1131\n",
      "input soc_code: 151131, output soc_code: 15-1131\n",
      "input soc_code: 151131, output soc_code: 15-1131\n",
      "input soc_code: 151131, output soc_code: 15-1131\n",
      "input soc_code: 151131, output soc_code: 15-1131\n",
      "input soc_code: 151131, output soc_code: 15-1131\n",
      "input soc_code: 151131, output soc_code: 15-1131\n",
      "input soc_code: 151131, output soc_code: 15-1131\n",
      "input soc_code: 151131, output soc_code: 15-1131\n",
      "input soc_code: 151131, output soc_code: 15-1131\n",
      "input soc_code: 151131, output soc_code: 15-1131\n",
      "input soc_code: 151131, output soc_code: 15-1131\n",
      "input soc_code: 151131, output soc_code: 15-1131\n",
      "input soc_code: 151131, output soc_code: 15-1131\n",
      "input soc_code: 151131, output soc_code: 15-1131\n",
      "input soc_code: 151131, output soc_code: 15-1131\n",
      "input soc_code: 151131, output soc_code: 15-1131\n",
      "input soc_code: 151131, output soc_code: 15-1131\n",
      "input soc_code: 151131, output soc_code: 15-1131\n",
      "input soc_code: 151131, output soc_code: 15-1131\n",
      "input soc_code: 132011, output soc_code: 13-2011\n",
      "input soc_code: 151121, output soc_code: 15-1121\n",
      "input soc_code: 151121, output soc_code: 15-1121\n",
      "input soc_code: 151121, output soc_code: 15-1121\n",
      "input soc_code: 151121, output soc_code: 15-1121\n",
      "input soc_code: 151121, output soc_code: 15-1121\n",
      "input soc_code: 151121, output soc_code: 15-1121\n",
      "input soc_code: 151121, output soc_code: 15-1121\n",
      "input soc_code: 151121, output soc_code: 15-1121\n",
      "input soc_code: 151121, output soc_code: 15-1121\n",
      "input soc_code: 151121, output soc_code: 15-1121\n",
      "input soc_code: 151121, output soc_code: 15-1121\n",
      "input soc_code: 111021, output soc_code: 11-1021\n",
      "input soc_code: 113021, output soc_code: 11-3021\n",
      "input soc_code: 113021, output soc_code: 11-3021\n",
      "input soc_code: 113021, output soc_code: 11-3021\n",
      "input soc_code: 113021, output soc_code: 11-3021\n",
      "input soc_code: 113021, output soc_code: 11-3021\n",
      "input soc_code: 131161, output soc_code: 13-1161\n",
      "input soc_code: 131161, output soc_code: 13-1161\n",
      "input soc_code: 113071, output soc_code: 11-3071\n"
     ]
    }
   ],
   "source": [
    "%run occupation_beamCodeTest.py"
   ]
  },
  {
   "cell_type": "markdown",
   "metadata": {},
   "source": [
    "### For Application, Employer, and Ownership table, we used 100 limit."
   ]
  },
  {
   "cell_type": "markdown",
   "metadata": {},
   "source": [
    "#### <b>Application</b>\n",
    "#### Delete duplicate rows"
   ]
  },
  {
   "cell_type": "code",
   "execution_count": 12,
   "metadata": {},
   "outputs": [],
   "source": [
    "%run application_beam.py"
   ]
  },
  {
   "cell_type": "markdown",
   "metadata": {},
   "source": [
    "#### <b>Employer</b>\n",
    "#### Delete duplicate rows"
   ]
  },
  {
   "cell_type": "code",
   "execution_count": 13,
   "metadata": {},
   "outputs": [],
   "source": [
    "%run employer_beam.py"
   ]
  },
  {
   "cell_type": "markdown",
   "metadata": {},
   "source": [
    "#### <b>Ownership</b>\n",
    "#### Delete duplicate rows"
   ]
  },
  {
   "cell_type": "code",
   "execution_count": 14,
   "metadata": {},
   "outputs": [],
   "source": [
    "%run ownership_beam.py"
   ]
  },
  {
   "cell_type": "markdown",
   "metadata": {},
   "source": [
    "## 3. Verify that the BigQuery output tables from the previous step contain a valid primary key.\n",
    "#### If the output tables are child tables, they should also have a foreign key."
   ]
  },
  {
   "cell_type": "markdown",
   "metadata": {},
   "source": [
    "#### <b>Occupation_Beam Table:</b>\n",
    "##### Duplicate count: 0 "
   ]
  },
  {
   "cell_type": "code",
   "execution_count": 1,
   "metadata": {},
   "outputs": [
    {
     "data": {
      "text/html": [
       "<div>\n",
       "<style scoped>\n",
       "    .dataframe tbody tr th:only-of-type {\n",
       "        vertical-align: middle;\n",
       "    }\n",
       "\n",
       "    .dataframe tbody tr th {\n",
       "        vertical-align: top;\n",
       "    }\n",
       "\n",
       "    .dataframe thead th {\n",
       "        text-align: right;\n",
       "    }\n",
       "</style>\n",
       "<table border=\"1\" class=\"dataframe\">\n",
       "  <thead>\n",
       "    <tr style=\"text-align: right;\">\n",
       "      <th></th>\n",
       "      <th>f0_</th>\n",
       "    </tr>\n",
       "  </thead>\n",
       "  <tbody>\n",
       "    <tr>\n",
       "      <th>0</th>\n",
       "      <td>0</td>\n",
       "    </tr>\n",
       "  </tbody>\n",
       "</table>\n",
       "</div>"
      ],
      "text/plain": [
       "   f0_\n",
       "0    0"
      ]
     },
     "execution_count": 1,
     "metadata": {},
     "output_type": "execute_result"
    }
   ],
   "source": [
    "%%bigquery\n",
    "SELECT COUNT(*) \n",
    "FROM\n",
    "(SELECT  *, COUNT(*) AS count\n",
    "FROM H_1B_refined.Occupation_Beam           \n",
    "GROUP BY job_title, employer_name, employer_city, employment_start_date, employment_end_date, soc_code, soc_title, prevailing_wage_YR, pw_wage_level, pw_wage_source, pw_wage_source_year, pw_wage_source_other, worksite_city, worksite_country, worksite_state, worksite_postal_code      \n",
    "HAVING count > 1);  "
   ]
  },
  {
   "cell_type": "markdown",
   "metadata": {},
   "source": [
    "#### <b>Application_Beam Table:</b>\n",
    "##### Duplicate count: 0"
   ]
  },
  {
   "cell_type": "code",
   "execution_count": 1,
   "metadata": {},
   "outputs": [
    {
     "data": {
      "text/html": [
       "<div>\n",
       "<style scoped>\n",
       "    .dataframe tbody tr th:only-of-type {\n",
       "        vertical-align: middle;\n",
       "    }\n",
       "\n",
       "    .dataframe tbody tr th {\n",
       "        vertical-align: top;\n",
       "    }\n",
       "\n",
       "    .dataframe thead th {\n",
       "        text-align: right;\n",
       "    }\n",
       "</style>\n",
       "<table border=\"1\" class=\"dataframe\">\n",
       "  <thead>\n",
       "    <tr style=\"text-align: right;\">\n",
       "      <th></th>\n",
       "      <th>f0_</th>\n",
       "    </tr>\n",
       "  </thead>\n",
       "  <tbody>\n",
       "    <tr>\n",
       "      <th>0</th>\n",
       "      <td>0</td>\n",
       "    </tr>\n",
       "  </tbody>\n",
       "</table>\n",
       "</div>"
      ],
      "text/plain": [
       "   f0_\n",
       "0    0"
      ]
     },
     "execution_count": 1,
     "metadata": {},
     "output_type": "execute_result"
    }
   ],
   "source": [
    "%%bigquery\n",
    "SELECT COUNT(*) \n",
    "FROM\n",
    "(SELECT  *, COUNT(*) AS count\n",
    "FROM H_1B_refined.Application_Beam            \n",
    "GROUP BY CASE_NUMBER, CASE_STATUS, CASE_SUBMITTED, DECESION_DATE, VISA_CLASS, employer_name, employer_city      \n",
    "HAVING count > 1);  "
   ]
  },
  {
   "cell_type": "markdown",
   "metadata": {},
   "source": [
    "#### <b> Employer_Beam Table: </b>\n",
    "##### Duplicate count: 0 "
   ]
  },
  {
   "cell_type": "code",
   "execution_count": 2,
   "metadata": {},
   "outputs": [
    {
     "data": {
      "text/html": [
       "<div>\n",
       "<style scoped>\n",
       "    .dataframe tbody tr th:only-of-type {\n",
       "        vertical-align: middle;\n",
       "    }\n",
       "\n",
       "    .dataframe tbody tr th {\n",
       "        vertical-align: top;\n",
       "    }\n",
       "\n",
       "    .dataframe thead th {\n",
       "        text-align: right;\n",
       "    }\n",
       "</style>\n",
       "<table border=\"1\" class=\"dataframe\">\n",
       "  <thead>\n",
       "    <tr style=\"text-align: right;\">\n",
       "      <th></th>\n",
       "      <th>f0_</th>\n",
       "    </tr>\n",
       "  </thead>\n",
       "  <tbody>\n",
       "    <tr>\n",
       "      <th>0</th>\n",
       "      <td>0</td>\n",
       "    </tr>\n",
       "  </tbody>\n",
       "</table>\n",
       "</div>"
      ],
      "text/plain": [
       "   f0_\n",
       "0    0"
      ]
     },
     "execution_count": 2,
     "metadata": {},
     "output_type": "execute_result"
    }
   ],
   "source": [
    "%%bigquery\n",
    "SELECT COUNT(*) \n",
    "FROM\n",
    "(SELECT  *, COUNT(*) AS count\n",
    "FROM H_1B_refined.Employer_Beam            \n",
    "GROUP BY employer_name, employer_address, employer_city, employer_state, employer_postal_code, employer_country, employer_province, h_1b_dependent, willful_violator      \n",
    "HAVING count > 1);  "
   ]
  },
  {
   "cell_type": "markdown",
   "metadata": {},
   "source": [
    "#### <b> Ownership_Beam Table: </b>\n",
    "##### Duplicate count: 0 "
   ]
  },
  {
   "cell_type": "code",
   "execution_count": 3,
   "metadata": {},
   "outputs": [
    {
     "data": {
      "text/html": [
       "<div>\n",
       "<style scoped>\n",
       "    .dataframe tbody tr th:only-of-type {\n",
       "        vertical-align: middle;\n",
       "    }\n",
       "\n",
       "    .dataframe tbody tr th {\n",
       "        vertical-align: top;\n",
       "    }\n",
       "\n",
       "    .dataframe thead th {\n",
       "        text-align: right;\n",
       "    }\n",
       "</style>\n",
       "<table border=\"1\" class=\"dataframe\">\n",
       "  <thead>\n",
       "    <tr style=\"text-align: right;\">\n",
       "      <th></th>\n",
       "      <th>f0_</th>\n",
       "    </tr>\n",
       "  </thead>\n",
       "  <tbody>\n",
       "    <tr>\n",
       "      <th>0</th>\n",
       "      <td>0</td>\n",
       "    </tr>\n",
       "  </tbody>\n",
       "</table>\n",
       "</div>"
      ],
      "text/plain": [
       "   f0_\n",
       "0    0"
      ]
     },
     "execution_count": 3,
     "metadata": {},
     "output_type": "execute_result"
    }
   ],
   "source": [
    "%%bigquery\n",
    "SELECT COUNT(*) \n",
    "FROM\n",
    "(SELECT  *, COUNT(*) AS count\n",
    "FROM H_1B_refined.Ownership_Beam           \n",
    "GROUP BY occ_code, occ_title, ownership, naics_title, grp, tot_emp, emp_prse, h_mean, a_mean, mean_prse, a_pct10, a_pct25, a_median, a_pct75, a_pct90  \n",
    "HAVING count > 1);  "
   ]
  }
 ],
 "metadata": {
  "environment": {
   "name": "common-cpu.m55",
   "type": "gcloud",
   "uri": "gcr.io/deeplearning-platform-release/base-cpu:m55"
  },
  "kernelspec": {
   "display_name": "Python 3",
   "language": "python",
   "name": "python3"
  },
  "language_info": {
   "codemirror_mode": {
    "name": "ipython",
    "version": 3
   },
   "file_extension": ".py",
   "mimetype": "text/x-python",
   "name": "python",
   "nbconvert_exporter": "python",
   "pygments_lexer": "ipython3",
   "version": "3.7.8"
  }
 },
 "nbformat": 4,
 "nbformat_minor": 4
}
